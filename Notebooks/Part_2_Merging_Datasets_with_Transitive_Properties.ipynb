{
  "nbformat": 4,
  "nbformat_minor": 0,
  "metadata": {
    "colab": {
      "provenance": [],
      "authorship_tag": "ABX9TyNkmhYSUXeayAYjwdz4guAa",
      "include_colab_link": true
    },
    "kernelspec": {
      "name": "python3",
      "display_name": "Python 3"
    },
    "language_info": {
      "name": "python"
    }
  },
  "cells": [
    {
      "cell_type": "markdown",
      "metadata": {
        "id": "view-in-github",
        "colab_type": "text"
      },
      "source": [
        "<a href=\"https://colab.research.google.com/github/Joh-Ishimwe/Data-Preprocessing/blob/master/Part_2_Merging_Datasets_with_Transitive_Properties.ipynb\" target=\"_parent\"><img src=\"https://colab.research.google.com/assets/colab-badge.svg\" alt=\"Open In Colab\"/></a>"
      ]
    },
    {
      "cell_type": "code",
      "execution_count": 3,
      "metadata": {
        "colab": {
          "base_uri": "https://localhost:8080/"
        },
        "id": "pJn98RoYkvoS",
        "outputId": "02447979-d674-4321-b34e-498847faee78"
      },
      "outputs": [
        {
          "output_type": "stream",
          "name": "stdout",
          "text": [
            "Datasets loaded successfully!\n",
            "   customer_id_legacy  transaction_id  purchase_amount  customer_rating  \\\n",
            "0                 100            1130       384.920989         4.218168   \n",
            "1                 100            1113       175.928161         4.000000   \n",
            "2                 100            1147       384.344822         4.600000   \n",
            "3                 101            1059       425.420569         2.408380   \n",
            "4                 101            1059       414.524957         2.412102   \n",
            "\n",
            "   product_category_encoded purchase_date product_category  purchase_month  \\\n",
            "0                         0    2024-01-10            Books               1   \n",
            "1                         1    2024-04-22         Clothing               4   \n",
            "2                         0    2024-05-26            Books               5   \n",
            "3                         0    2024-02-26        Groceries               2   \n",
            "4                         0    2024-02-27         Clothing               2   \n",
            "\n",
            "   avg_purchase_amount  days_since_last_purchase  \n",
            "0           315.064658                       0.0  \n",
            "1           315.064658                     103.0  \n",
            "2           315.064658                      34.0  \n",
            "3           256.952590                       0.0  \n",
            "4           256.952590                       1.0  \n",
            "<class 'pandas.core.frame.DataFrame'>\n",
            "RangeIndex: 275 entries, 0 to 274\n",
            "Data columns (total 10 columns):\n",
            " #   Column                    Non-Null Count  Dtype  \n",
            "---  ------                    --------------  -----  \n",
            " 0   customer_id_legacy        275 non-null    int64  \n",
            " 1   transaction_id            275 non-null    int64  \n",
            " 2   purchase_amount           275 non-null    float64\n",
            " 3   customer_rating           275 non-null    float64\n",
            " 4   product_category_encoded  275 non-null    int64  \n",
            " 5   purchase_date             275 non-null    object \n",
            " 6   product_category          275 non-null    object \n",
            " 7   purchase_month            275 non-null    int64  \n",
            " 8   avg_purchase_amount       275 non-null    float64\n",
            " 9   days_since_last_purchase  275 non-null    float64\n",
            "dtypes: float64(4), int64(4), object(2)\n",
            "memory usage: 21.6+ KB\n",
            "None\n",
            "\n",
            "--- Profiles Data ---\n",
            "  customer_id_new social_media_platform  engagement_score  \\\n",
            "0            A178              LinkedIn                74   \n",
            "1            A190               Twitter                82   \n",
            "2            A150              Facebook                96   \n",
            "3            A162               Twitter                89   \n",
            "4            A197               Twitter                92   \n",
            "\n",
            "   purchase_interest_score review_sentiment  \n",
            "0                      4.9         Positive  \n",
            "1                      4.8          Neutral  \n",
            "2                      1.6         Positive  \n",
            "3                      2.6         Positive  \n",
            "4                      2.3          Neutral  \n",
            "<class 'pandas.core.frame.DataFrame'>\n",
            "RangeIndex: 155 entries, 0 to 154\n",
            "Data columns (total 5 columns):\n",
            " #   Column                   Non-Null Count  Dtype  \n",
            "---  ------                   --------------  -----  \n",
            " 0   customer_id_new          155 non-null    object \n",
            " 1   social_media_platform    155 non-null    object \n",
            " 2   engagement_score         155 non-null    int64  \n",
            " 3   purchase_interest_score  155 non-null    float64\n",
            " 4   review_sentiment         155 non-null    object \n",
            "dtypes: float64(1), int64(1), object(3)\n",
            "memory usage: 6.2+ KB\n",
            "None\n",
            "\n",
            "--- Mapping Data ---\n",
            "   customer_id_legacy customer_id_new\n",
            "0                 195            A105\n",
            "1                 161            A118\n",
            "2                 192            A156\n",
            "3                 157            A168\n",
            "4                 166            A102\n",
            "<class 'pandas.core.frame.DataFrame'>\n",
            "RangeIndex: 155 entries, 0 to 154\n",
            "Data columns (total 2 columns):\n",
            " #   Column              Non-Null Count  Dtype \n",
            "---  ------              --------------  ----- \n",
            " 0   customer_id_legacy  155 non-null    int64 \n",
            " 1   customer_id_new     155 non-null    object\n",
            "dtypes: int64(1), object(1)\n",
            "memory usage: 2.6+ KB\n",
            "None\n"
          ]
        }
      ],
      "source": [
        "import pandas as pd\n",
        "\n",
        "try:\n",
        "    transactions_df = pd.read_csv('customer_transactions_augmented.csv')\n",
        "    profiles_df = pd.read_csv('customer_social_profiles.csv')\n",
        "    mapping_df = pd.read_csv('id_mapping.csv')\n",
        "    print(\"Datasets loaded successfully!\")\n",
        "except FileNotFoundError:\n",
        "    print(\"One or more dataset files not found. Please ensure they are uploaded to Colab.\")\n",
        "    exit()\n",
        "\n",
        "    print(\"\\n--- Transactions Data ---\")\n",
        "print(transactions_df.head())\n",
        "print(transactions_df.info())\n",
        "\n",
        "print(\"\\n--- Profiles Data ---\")\n",
        "print(profiles_df.head())\n",
        "print(profiles_df.info())\n",
        "\n",
        "print(\"\\n--- Mapping Data ---\")\n",
        "print(mapping_df.head())\n",
        "print(mapping_df.info())"
      ]
    },
    {
      "cell_type": "markdown",
      "source": [
        "#Prepare the Mapping DataFrame"
      ],
      "metadata": {
        "id": "rMlJ5X1P_vMd"
      }
    },
    {
      "cell_type": "code",
      "source": [
        "mapping_df = mapping_df.rename(columns={'customer_id_legacy': 'legacy_id'})\n",
        "print(\"\\nMapping DataFrame after renaming column:\")\n",
        "print(mapping_df.head())"
      ],
      "metadata": {
        "colab": {
          "base_uri": "https://localhost:8080/"
        },
        "id": "4epiPq_X_nX3",
        "outputId": "b3f9e89e-7ce2-4858-f788-9b2f41b0825e"
      },
      "execution_count": 4,
      "outputs": [
        {
          "output_type": "stream",
          "name": "stdout",
          "text": [
            "\n",
            "Mapping DataFrame after renaming column:\n",
            "   legacy_id customer_id_new\n",
            "0        195            A105\n",
            "1        161            A118\n",
            "2        192            A156\n",
            "3        157            A168\n",
            "4        166            A102\n"
          ]
        }
      ]
    },
    {
      "cell_type": "markdown",
      "source": [
        "#Merge the Transactions DataFrame with the Mapping DataFrame"
      ],
      "metadata": {
        "id": "lNgnkrBa_2F-"
      }
    },
    {
      "cell_type": "code",
      "source": [
        "transactions_mapped = pd.merge(transactions_df, mapping_df, left_on='customer_id_legacy', right_on='legacy_id', how='left')\n",
        "print(\"\\nTransactions DataFrame merged with mapping data:\")\n",
        "print(transactions_mapped.head())"
      ],
      "metadata": {
        "colab": {
          "base_uri": "https://localhost:8080/"
        },
        "id": "a5AHJ1nu_6yU",
        "outputId": "5433500f-6a33-499e-cfd9-7bfc5f6014c9"
      },
      "execution_count": 5,
      "outputs": [
        {
          "output_type": "stream",
          "name": "stdout",
          "text": [
            "\n",
            "Transactions DataFrame merged with mapping data:\n",
            "   customer_id_legacy  transaction_id  purchase_amount  customer_rating  \\\n",
            "0                 100            1130       384.920989         4.218168   \n",
            "1                 100            1113       175.928161         4.000000   \n",
            "2                 100            1147       384.344822         4.600000   \n",
            "3                 101            1059       425.420569         2.408380   \n",
            "4                 101            1059       425.420569         2.408380   \n",
            "\n",
            "   product_category_encoded purchase_date product_category  purchase_month  \\\n",
            "0                         0    2024-01-10            Books               1   \n",
            "1                         1    2024-04-22         Clothing               4   \n",
            "2                         0    2024-05-26            Books               5   \n",
            "3                         0    2024-02-26        Groceries               2   \n",
            "4                         0    2024-02-26        Groceries               2   \n",
            "\n",
            "   avg_purchase_amount  days_since_last_purchase  legacy_id customer_id_new  \n",
            "0           315.064658                       0.0        NaN             NaN  \n",
            "1           315.064658                     103.0        NaN             NaN  \n",
            "2           315.064658                      34.0        NaN             NaN  \n",
            "3           256.952590                       0.0      101.0            A116  \n",
            "4           256.952590                       0.0      101.0            A161  \n"
          ]
        }
      ]
    },
    {
      "cell_type": "code",
      "source": [
        "final_merged_df_cleaned = final_merged_df.dropna(subset=['customer_id_new']).copy()\n",
        "print(\"\\nCleaned merged DataFrame (after dropping unmapped transactions):\")\n",
        "print(final_merged_df_cleaned.head())\n",
        "print(final_merged_df_cleaned.info())"
      ],
      "metadata": {
        "colab": {
          "base_uri": "https://localhost:8080/"
        },
        "id": "fYUe6OXHABS5",
        "outputId": "9f298ee3-9ac0-4ca5-bf80-2e3eebecf05c"
      },
      "execution_count": 18,
      "outputs": [
        {
          "output_type": "stream",
          "name": "stdout",
          "text": [
            "\n",
            "Cleaned merged DataFrame (after dropping unmapped transactions):\n",
            "   customer_id_legacy  transaction_id  purchase_amount  customer_rating  \\\n",
            "3                 101            1059       425.420569          2.40838   \n",
            "4                 101            1059       425.420569          2.40838   \n",
            "5                 101            1059       425.420569          2.40838   \n",
            "6                 101            1059       425.420569          2.40838   \n",
            "7                 101            1059       425.420569          2.40838   \n",
            "\n",
            "   product_category_encoded purchase_date product_category  purchase_month  \\\n",
            "3                         0    2024-02-26        Groceries               2   \n",
            "4                         0    2024-02-26        Groceries               2   \n",
            "5                         0    2024-02-26        Groceries               2   \n",
            "6                         0    2024-02-26        Groceries               2   \n",
            "7                         0    2024-02-26        Groceries               2   \n",
            "\n",
            "   avg_purchase_amount  days_since_last_purchase  legacy_id customer_id_new  \\\n",
            "3            256.95259                       0.0      101.0            A116   \n",
            "4            256.95259                       0.0      101.0            A116   \n",
            "5            256.95259                       0.0      101.0            A116   \n",
            "6            256.95259                       0.0      101.0            A116   \n",
            "7            256.95259                       0.0      101.0            A116   \n",
            "\n",
            "  social_media_platform  engagement_score  purchase_interest_score  \\\n",
            "3               Twitter               1.0                      1.1   \n",
            "4              LinkedIn               1.0                      2.4   \n",
            "5             Instagram               1.0                      4.6   \n",
            "6                TikTok               1.0                      1.2   \n",
            "7               Twitter               1.0                      1.1   \n",
            "\n",
            "  review_sentiment  transaction_count  normalized_transactions  \n",
            "3         Negative               50.0                      1.0  \n",
            "4          Neutral               50.0                      1.0  \n",
            "5          Neutral               50.0                      1.0  \n",
            "6         Negative               50.0                      1.0  \n",
            "7         Negative               50.0                      1.0  \n",
            "<class 'pandas.core.frame.DataFrame'>\n",
            "Index: 376 entries, 3 to 427\n",
            "Data columns (total 18 columns):\n",
            " #   Column                    Non-Null Count  Dtype  \n",
            "---  ------                    --------------  -----  \n",
            " 0   customer_id_legacy        376 non-null    int64  \n",
            " 1   transaction_id            376 non-null    int64  \n",
            " 2   purchase_amount           376 non-null    float64\n",
            " 3   customer_rating           376 non-null    float64\n",
            " 4   product_category_encoded  376 non-null    int64  \n",
            " 5   purchase_date             376 non-null    object \n",
            " 6   product_category          376 non-null    object \n",
            " 7   purchase_month            376 non-null    int64  \n",
            " 8   avg_purchase_amount       376 non-null    float64\n",
            " 9   days_since_last_purchase  376 non-null    float64\n",
            " 10  legacy_id                 376 non-null    float64\n",
            " 11  customer_id_new           376 non-null    object \n",
            " 12  social_media_platform     332 non-null    object \n",
            " 13  engagement_score          376 non-null    float64\n",
            " 14  purchase_interest_score   332 non-null    float64\n",
            " 15  review_sentiment          332 non-null    object \n",
            " 16  transaction_count         376 non-null    float64\n",
            " 17  normalized_transactions   376 non-null    float64\n",
            "dtypes: float64(9), int64(4), object(5)\n",
            "memory usage: 55.8+ KB\n",
            "None\n"
          ]
        }
      ]
    },
    {
      "cell_type": "markdown",
      "source": [
        "#Handling Potential One-to-Many Mappings"
      ],
      "metadata": {
        "id": "02PHnHPJAWsQ"
      }
    },
    {
      "cell_type": "code",
      "source": [
        "# Check for one-to-many mappings in id_mapping.csv\n",
        "legacy_counts = mapping_df['legacy_id'].value_counts()\n",
        "conflicts = legacy_counts[legacy_counts > 1]\n",
        "print(f\"\\nNumber of legacy IDs with multiple new IDs: {len(conflicts)}\")\n",
        "\n",
        "if not conflicts.empty:\n",
        "    print(\"Legacy IDs with multiple mappings:\")\n",
        "    print(conflicts)\n",
        "    print(\"\\nHandling conflicts by keeping the first mapping encountered for each legacy ID.\")\n",
        "    # Keep only the first occurrence of each legacy_id in the mapping\n",
        "    mapping_df_unique = mapping_df.drop_duplicates(subset=['legacy_id'], keep='first')\n",
        "\n",
        "    # Remerge using the unique mapping\n",
        "    transactions_mapped_unique = pd.merge(transactions_df, mapping_df_unique, left_on='customer_id_legacy', right_on='legacy_id', how='left')\n",
        "    final_merged_df = pd.merge(transactions_mapped_unique, profiles_df, on='customer_id_new', how='left')\n",
        "\n",
        "    print(\"Final merged DataFrame after handling one-to-many mappings:\")\n",
        "    print(final_merged_df.head())\n",
        "    print(final_merged_df.info())\n",
        "else:\n",
        "    print(\"No one-to-many mappings found in the id_mapping.csv.\")"
      ],
      "metadata": {
        "colab": {
          "base_uri": "https://localhost:8080/"
        },
        "id": "VddPdMNSAWdS",
        "outputId": "f12e842c-9261-410e-bda2-601be7126b72"
      },
      "execution_count": 14,
      "outputs": [
        {
          "output_type": "stream",
          "name": "stdout",
          "text": [
            "\n",
            "Number of legacy IDs with multiple new IDs: 49\n",
            "Legacy IDs with multiple mappings:\n",
            "legacy_id\n",
            "197    5\n",
            "128    5\n",
            "192    4\n",
            "121    4\n",
            "195    4\n",
            "139    3\n",
            "157    3\n",
            "162    3\n",
            "199    3\n",
            "159    3\n",
            "126    3\n",
            "112    3\n",
            "158    3\n",
            "116    3\n",
            "163    3\n",
            "178    3\n",
            "146    3\n",
            "131    3\n",
            "174    3\n",
            "138    3\n",
            "125    2\n",
            "198    2\n",
            "105    2\n",
            "166    2\n",
            "155    2\n",
            "187    2\n",
            "179    2\n",
            "132    2\n",
            "176    2\n",
            "190    2\n",
            "106    2\n",
            "145    2\n",
            "111    2\n",
            "101    2\n",
            "177    2\n",
            "129    2\n",
            "181    2\n",
            "130    2\n",
            "109    2\n",
            "167    2\n",
            "136    2\n",
            "175    2\n",
            "144    2\n",
            "152    2\n",
            "141    2\n",
            "196    2\n",
            "191    2\n",
            "183    2\n",
            "180    2\n",
            "Name: count, dtype: int64\n",
            "\n",
            "Handling conflicts by keeping the first mapping encountered for each legacy ID.\n",
            "Final merged DataFrame after handling one-to-many mappings:\n",
            "   customer_id_legacy  transaction_id  purchase_amount  customer_rating  \\\n",
            "0                 100            1130       384.920989         4.218168   \n",
            "1                 100            1113       175.928161         4.000000   \n",
            "2                 100            1147       384.344822         4.600000   \n",
            "3                 101            1059       425.420569         2.408380   \n",
            "4                 101            1059       425.420569         2.408380   \n",
            "\n",
            "   product_category_encoded purchase_date product_category  purchase_month  \\\n",
            "0                         0    2024-01-10            Books               1   \n",
            "1                         1    2024-04-22         Clothing               4   \n",
            "2                         0    2024-05-26            Books               5   \n",
            "3                         0    2024-02-26        Groceries               2   \n",
            "4                         0    2024-02-26        Groceries               2   \n",
            "\n",
            "   avg_purchase_amount  days_since_last_purchase  legacy_id customer_id_new  \\\n",
            "0           315.064658                       0.0        NaN             NaN   \n",
            "1           315.064658                     103.0        NaN             NaN   \n",
            "2           315.064658                      34.0        NaN             NaN   \n",
            "3           256.952590                       0.0      101.0            A116   \n",
            "4           256.952590                       0.0      101.0            A116   \n",
            "\n",
            "  social_media_platform  engagement_score  purchase_interest_score  \\\n",
            "0                   NaN               NaN                      NaN   \n",
            "1                   NaN               NaN                      NaN   \n",
            "2                   NaN               NaN                      NaN   \n",
            "3               Twitter              78.0                      1.1   \n",
            "4              LinkedIn              89.0                      2.4   \n",
            "\n",
            "  review_sentiment  \n",
            "0              NaN  \n",
            "1              NaN  \n",
            "2              NaN  \n",
            "3         Negative  \n",
            "4          Neutral  \n",
            "<class 'pandas.core.frame.DataFrame'>\n",
            "RangeIndex: 428 entries, 0 to 427\n",
            "Data columns (total 16 columns):\n",
            " #   Column                    Non-Null Count  Dtype  \n",
            "---  ------                    --------------  -----  \n",
            " 0   customer_id_legacy        428 non-null    int64  \n",
            " 1   transaction_id            428 non-null    int64  \n",
            " 2   purchase_amount           428 non-null    float64\n",
            " 3   customer_rating           428 non-null    float64\n",
            " 4   product_category_encoded  428 non-null    int64  \n",
            " 5   purchase_date             428 non-null    object \n",
            " 6   product_category          428 non-null    object \n",
            " 7   purchase_month            428 non-null    int64  \n",
            " 8   avg_purchase_amount       428 non-null    float64\n",
            " 9   days_since_last_purchase  428 non-null    float64\n",
            " 10  legacy_id                 376 non-null    float64\n",
            " 11  customer_id_new           376 non-null    object \n",
            " 12  social_media_platform     332 non-null    object \n",
            " 13  engagement_score          332 non-null    float64\n",
            " 14  purchase_interest_score   332 non-null    float64\n",
            " 15  review_sentiment          332 non-null    object \n",
            "dtypes: float64(7), int64(4), object(5)\n",
            "memory usage: 53.6+ KB\n",
            "None\n"
          ]
        }
      ]
    },
    {
      "cell_type": "markdown",
      "source": [
        "#Checking for Unmapped IDs"
      ],
      "metadata": {
        "id": "Ikkch-TfAlbr"
      }
    },
    {
      "cell_type": "code",
      "source": [
        "# Check for unmapped legacy IDs\n",
        "unmapped_legacy_ids = transactions_mapped['customer_id_new'].isnull().sum()\n",
        "print(f\"\\nNumber of transactions with unmapped legacy IDs: {unmapped_legacy_ids}\")\n",
        "\n",
        "if unmapped_legacy_ids > 0:\n",
        "    print(\"Consider how to handle these unmapped transactions (e.g., dropping them or investigating the missing mappings).\")\n",
        "    # You could filter out these transactions if needed:\n",
        "    # final_merged_df = final_merged_df.dropna(subset=['customer_id_new'])\n",
        "    # print(\"\\nFinal merged DataFrame after dropping unmapped transactions:\")\n",
        "    # print(final_merged_df.head())\n",
        "    # print(final_merged_df.info())"
      ],
      "metadata": {
        "colab": {
          "base_uri": "https://localhost:8080/"
        },
        "id": "nHxmBWtqAm0N",
        "outputId": "8fb81017-5936-41ba-c3b5-cededa7734d3"
      },
      "execution_count": 15,
      "outputs": [
        {
          "output_type": "stream",
          "name": "stdout",
          "text": [
            "\n",
            "Number of transactions with unmapped legacy IDs: 52\n",
            "Consider how to handle these unmapped transactions (e.g., dropping them or investigating the missing mappings).\n"
          ]
        }
      ]
    },
    {
      "cell_type": "markdown",
      "source": [
        "#Handling Missing Values"
      ],
      "metadata": {
        "id": "9ZX8EafwAxWZ"
      }
    },
    {
      "cell_type": "code",
      "source": [
        "print(\"\\nMissing values in the final merged DataFrame:\")\n",
        "print(final_merged_df.isnull().sum())"
      ],
      "metadata": {
        "colab": {
          "base_uri": "https://localhost:8080/"
        },
        "id": "e5EpcIMEA6PN",
        "outputId": "60dd5c34-000d-4c55-b01f-7b4a838161aa"
      },
      "execution_count": 16,
      "outputs": [
        {
          "output_type": "stream",
          "name": "stdout",
          "text": [
            "\n",
            "Missing values in the final merged DataFrame:\n",
            "customer_id_legacy           0\n",
            "transaction_id               0\n",
            "purchase_amount              0\n",
            "customer_rating              0\n",
            "product_category_encoded     0\n",
            "purchase_date                0\n",
            "product_category             0\n",
            "purchase_month               0\n",
            "avg_purchase_amount          0\n",
            "days_since_last_purchase     0\n",
            "legacy_id                   52\n",
            "customer_id_new             52\n",
            "social_media_platform       96\n",
            "engagement_score            96\n",
            "purchase_interest_score     96\n",
            "review_sentiment            96\n",
            "dtype: int64\n"
          ]
        }
      ]
    },
    {
      "cell_type": "markdown",
      "source": [
        "#Identify Available Columns"
      ],
      "metadata": {
        "id": "3p8YkH77FqGE"
      }
    },
    {
      "cell_type": "code",
      "source": [
        "print(\"\\n--- Columns in final_merged_df_cleaned before Feature Engineering ---\")\n",
        "print(final_merged_df_cleaned.columns)"
      ],
      "metadata": {
        "colab": {
          "base_uri": "https://localhost:8080/"
        },
        "id": "_UjaGY5VFuFN",
        "outputId": "09604c96-9f90-4b02-e87e-9f94fa8b4fa5"
      },
      "execution_count": 22,
      "outputs": [
        {
          "output_type": "stream",
          "name": "stdout",
          "text": [
            "\n",
            "--- Columns in final_merged_df_cleaned before Feature Engineering ---\n",
            "Index(['customer_id_legacy', 'transaction_id', 'purchase_amount',\n",
            "       'customer_rating', 'product_category_encoded', 'purchase_date',\n",
            "       'product_category', 'purchase_month', 'avg_purchase_amount',\n",
            "       'days_since_last_purchase', 'legacy_id', 'customer_id_new',\n",
            "       'social_media_platform', 'engagement_score', 'purchase_interest_score',\n",
            "       'review_sentiment', 'transaction_count', 'normalized_transactions'],\n",
            "      dtype='object')\n"
          ]
        }
      ]
    },
    {
      "cell_type": "markdown",
      "source": [
        "#Feature Engineering"
      ],
      "metadata": {
        "id": "Tpnk7F3eBIvw"
      }
    },
    {
      "cell_type": "markdown",
      "source": [
        "# Customer Engagement Score"
      ],
      "metadata": {
        "id": "IX5zfqsgBO1G"
      }
    },
    {
      "cell_type": "code",
      "source": [
        "# Calculate transaction count per customer (using customer_id_new as the identifier)\n",
        "final_merged_df_cleaned['transaction_count'] = final_merged_df_cleaned.groupby('customer_id_new')['transaction_id'].transform('count')\n",
        "\n",
        "# Normalize transaction count\n",
        "final_merged_df_cleaned['normalized_transactions'] = (final_merged_df_cleaned['transaction_count'] - final_merged_df_cleaned['transaction_count'].min()) / (final_merged_df_cleaned['transaction_count'].max() - final_merged_df_cleaned['transaction_count'].min())\n",
        "\n",
        "# Check for the actual social media activity column\n",
        "social_activity_column = 'engagement_score'  # Using the column name from your output\n",
        "\n",
        "if social_activity_column in final_merged_df_cleaned.columns:\n",
        "    # Normalize social media activity\n",
        "    final_merged_df_cleaned['normalized_social_activity'] = (final_merged_df_cleaned[social_activity_column] - final_merged_df_cleaned[social_activity_column].min()) / (final_merged_df_cleaned[social_activity_column].max() - final_merged_df_cleaned[social_activity_column].min())\n",
        "\n",
        "    # Combine them to create an engagement score (adjust weights as needed)\n",
        "    final_merged_df_cleaned['engagement_score'] = 0.5 * final_merged_df_cleaned['normalized_transactions'] + 0.5 * final_merged_df_cleaned['normalized_social_activity']\n",
        "    print(f\"\\nCustomer Engagement Score created (including {social_activity_column}).\")\n",
        "else:\n",
        "    print(f\"\\nColumn '{social_activity_column}' not found. Engagement score based on transaction count only.\")\n",
        "    final_merged_df_cleaned['engagement_score'] = final_merged_df_cleaned['normalized_transactions']\n",
        "\n",
        "print(final_merged_df_cleaned[['customer_id_new', 'transaction_count', 'engagement_score']].head())"
      ],
      "metadata": {
        "colab": {
          "base_uri": "https://localhost:8080/"
        },
        "id": "ztM4u_fGBKSz",
        "outputId": "65d41c56-cb09-4331-ee3c-d9f2cf7ab741"
      },
      "execution_count": 27,
      "outputs": [
        {
          "output_type": "stream",
          "name": "stdout",
          "text": [
            "\n",
            "Customer Engagement Score created (including engagement_score).\n",
            "  customer_id_new  transaction_count  engagement_score\n",
            "3            A116                 50               1.0\n",
            "4            A116                 50               1.0\n",
            "5            A116                 50               1.0\n",
            "6            A116                 50               1.0\n",
            "7            A116                 50               1.0\n"
          ]
        }
      ]
    },
    {
      "cell_type": "markdown",
      "source": [
        "#Predictive Behavioral Features"
      ],
      "metadata": {
        "id": "yM_Z-VZfEFzU"
      }
    },
    {
      "cell_type": "code",
      "source": [
        "# Ensure 'purchase_date' is in datetime format\n",
        "if 'purchase_date' in final_merged_df_cleaned.columns:\n",
        "    final_merged_df_cleaned['purchase_date'] = pd.to_datetime(final_merged_df_cleaned['purchase_date'])\n",
        "    final_merged_df_cleaned = final_merged_df_cleaned.sort_values(by=['customer_id_new', 'purchase_date'])\n",
        "\n",
        "    # Moving average of purchase amount (e.g., over the last 3 transactions)\n",
        "    if 'purchase_amount' in final_merged_df_cleaned.columns:\n",
        "        final_merged_df_cleaned['moving_average_spent_3'] = final_merged_df_cleaned.groupby('customer_id_new')['purchase_amount'].transform(lambda x: x.rolling(window=3, min_periods=1).mean())\n",
        "        print(\"\\nMoving average of purchase amount created.\")\n",
        "    else:\n",
        "        print(\"\\nColumn 'purchase_amount' not found, skipping moving average.\")\n",
        "\n",
        "    # Time-based aggregation: Monthly total spending\n",
        "    final_merged_df_cleaned['month_year'] = final_merged_df_cleaned['purchase_date'].dt.to_period('M')\n",
        "    monthly_spending = final_merged_df_cleaned.groupby(['customer_id_new', 'month_year'])['purchase_amount'].sum().reset_index()\n",
        "    monthly_spending = monthly_spending.rename(columns={'purchase_amount': 'monthly_total_spent'})\n",
        "    final_merged_df_cleaned = pd.merge(final_merged_df_cleaned, monthly_spending, on=['customer_id_new', 'month_year'], how='left')\n",
        "    print(\"Monthly total spending aggregated.\")\n",
        "\n",
        "    print(final_merged_df_cleaned[['customer_id_new', 'purchase_date', 'moving_average_spent_3', 'monthly_total_spent']].head())\n",
        "else:\n",
        "    print(\"\\nColumn 'purchase_date' not found. Skipping moving averages and time-based aggregation.\")\n",
        "    print(final_merged_df_cleaned[['customer_id_new']].head())"
      ],
      "metadata": {
        "colab": {
          "base_uri": "https://localhost:8080/"
        },
        "id": "6wHAD663EHTN",
        "outputId": "e8f6f158-c96d-48a8-cf5d-161483f35a07"
      },
      "execution_count": 28,
      "outputs": [
        {
          "output_type": "stream",
          "name": "stdout",
          "text": [
            "\n",
            "Moving average of purchase amount created.\n",
            "Monthly total spending aggregated.\n",
            "  customer_id_new purchase_date  moving_average_spent_3  monthly_total_spent\n",
            "0            A102    2024-01-21              234.832181           234.832181\n",
            "1            A102    2024-02-16              314.251987           393.671793\n",
            "2            A102    2024-05-04              282.677320           454.104469\n",
            "3            A102    2024-05-05              282.592087           454.104469\n",
            "4            A107    2024-02-02              221.767060           665.301179\n"
          ]
        }
      ]
    },
    {
      "cell_type": "markdown",
      "source": [
        "#TF-IDF on Text Data"
      ],
      "metadata": {
        "id": "rXMQSXknJcwI"
      }
    },
    {
      "cell_type": "code",
      "source": [
        "# Check for text-based columns for TF-IDF\n",
        "review_col = 'review_sentiment'        # Using the sentiment score column\n",
        "\n",
        "if review_col in final_merged_df_cleaned.columns:\n",
        "    print(f\"\\nColumn '{review_col}' found. TF-IDF is typically used on raw text. This column contains sentiment scores, which is already a numerical feature.\")\n",
        "    # We can directly use the review_sentiment as a feature.\n",
        "    print(\"Review sentiment scores will be used as a feature.\")\n",
        "else:\n",
        "    print(\"\\nNo relevant text columns found for TF-IDF. Skipping TF-IDF.\")\n",
        "\n",
        "print(final_merged_df_cleaned[['customer_id_new', 'review_sentiment']].head())\n",
        "print(final_merged_df_cleaned.info())"
      ],
      "metadata": {
        "colab": {
          "base_uri": "https://localhost:8080/"
        },
        "id": "w5kgrJ85JehJ",
        "outputId": "f29ce428-f2d5-4002-a967-b9fd163963fa"
      },
      "execution_count": 29,
      "outputs": [
        {
          "output_type": "stream",
          "name": "stdout",
          "text": [
            "\n",
            "Column 'review_sentiment' found. TF-IDF is typically used on raw text. This column contains sentiment scores, which is already a numerical feature.\n",
            "Review sentiment scores will be used as a feature.\n",
            "  customer_id_new review_sentiment\n",
            "0            A102          Neutral\n",
            "1            A102          Neutral\n",
            "2            A102          Neutral\n",
            "3            A102          Neutral\n",
            "4            A107          Neutral\n",
            "<class 'pandas.core.frame.DataFrame'>\n",
            "RangeIndex: 376 entries, 0 to 375\n",
            "Data columns (total 22 columns):\n",
            " #   Column                      Non-Null Count  Dtype         \n",
            "---  ------                      --------------  -----         \n",
            " 0   customer_id_legacy          376 non-null    int64         \n",
            " 1   transaction_id              376 non-null    int64         \n",
            " 2   purchase_amount             376 non-null    float64       \n",
            " 3   customer_rating             376 non-null    float64       \n",
            " 4   product_category_encoded    376 non-null    int64         \n",
            " 5   purchase_date               376 non-null    datetime64[ns]\n",
            " 6   product_category            376 non-null    object        \n",
            " 7   purchase_month              376 non-null    int64         \n",
            " 8   avg_purchase_amount         376 non-null    float64       \n",
            " 9   days_since_last_purchase    376 non-null    float64       \n",
            " 10  legacy_id                   376 non-null    float64       \n",
            " 11  customer_id_new             376 non-null    object        \n",
            " 12  social_media_platform       332 non-null    object        \n",
            " 13  engagement_score            376 non-null    float64       \n",
            " 14  purchase_interest_score     332 non-null    float64       \n",
            " 15  review_sentiment            332 non-null    object        \n",
            " 16  transaction_count           376 non-null    int64         \n",
            " 17  normalized_transactions     376 non-null    float64       \n",
            " 18  normalized_social_activity  376 non-null    float64       \n",
            " 19  moving_average_spent_3      376 non-null    float64       \n",
            " 20  month_year                  376 non-null    period[M]     \n",
            " 21  monthly_total_spent         376 non-null    float64       \n",
            "dtypes: datetime64[ns](1), float64(11), int64(5), object(4), period[M](1)\n",
            "memory usage: 64.8+ KB\n",
            "None\n"
          ]
        }
      ]
    },
    {
      "cell_type": "markdown",
      "source": [
        "#Export the Final Preprocessed Data"
      ],
      "metadata": {
        "id": "bHKNcbo7OQFJ"
      }
    },
    {
      "cell_type": "code",
      "source": [
        "group_number = \"7\"\n",
        "output_filename = f'final_customer_data_{7}.csv'\n",
        "final_merged_df.to_csv(output_filename, index=False)\n",
        "print(f\"\\nFinal preprocessed data saved to: {output_filename}\")"
      ],
      "metadata": {
        "colab": {
          "base_uri": "https://localhost:8080/"
        },
        "id": "MGLBEkyaORoT",
        "outputId": "4b15a408-354f-4483-b31c-ef2be64b04c7"
      },
      "execution_count": 32,
      "outputs": [
        {
          "output_type": "stream",
          "name": "stdout",
          "text": [
            "\n",
            "Final preprocessed data saved to: final_customer_data_7.csv\n"
          ]
        }
      ]
    }
  ]
}