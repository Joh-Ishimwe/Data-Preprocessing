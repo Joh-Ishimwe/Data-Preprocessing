{
  "nbformat": 4,
  "nbformat_minor": 0,
  "metadata": {
    "colab": {
      "provenance": [],
      "include_colab_link": true
    },
    "kernelspec": {
      "name": "python3",
      "display_name": "Python 3"
    },
    "language_info": {
      "name": "python"
    }
  },
  "cells": [
    {
      "cell_type": "markdown",
      "metadata": {
        "id": "view-in-github",
        "colab_type": "text"
      },
      "source": [
        "<a href=\"https://colab.research.google.com/github/Joh-Ishimwe/Data-Preprocessing/blob/master/final_data_processing_steps_combined.ipynb\" target=\"_parent\"><img src=\"https://colab.research.google.com/assets/colab-badge.svg\" alt=\"Open In Colab\"/></a>"
      ]
    },
    {
      "cell_type": "markdown",
      "source": [
        "# Part 1: Data Augmentation\n",
        "# Done by ISHIMWE Josiane\n",
        "\n",
        "Objective: Expand an existing dataset using synthetic data, perturbation, and augmentation techniques."
      ],
      "metadata": {
        "id": "C5XUMV3kyA_N"
      }
    },
    {
      "cell_type": "markdown",
      "source": [
        "\n",
        "# Load the dataset"
      ],
      "metadata": {
        "id": "_wR1O0-wyp0e"
      }
    },
    {
      "cell_type": "code",
      "source": [
        "import numpy as np\n",
        "import pandas as pd\n",
        "\n",
        "# Load the dataset\n",
        "path = '/content/customer_transactions.csv'\n",
        "df = pd.read_csv(path)\n",
        "\n",
        "# Display first 10 rows\n",
        "df.head(10)"
      ],
      "metadata": {
        "id": "DumscmEct8DA",
        "colab": {
          "base_uri": "https://localhost:8080/",
          "height": 363
        },
        "outputId": "6808aa51-6bbf-4ea5-fcc1-b024dffe5360"
      },
      "execution_count": 1,
      "outputs": [
        {
          "output_type": "execute_result",
          "data": {
            "text/plain": [
              "   customer_id_legacy  transaction_id  purchase_amount purchase_date  \\\n",
              "0                 151            1001              408    2024-01-01   \n",
              "1                 192            1002              332    2024-01-02   \n",
              "2                 114            1003              442    2024-01-03   \n",
              "3                 171            1004              256    2024-01-04   \n",
              "4                 160            1005               64    2024-01-05   \n",
              "5                 120            1006              395    2024-01-06   \n",
              "6                 182            1007               91    2024-01-07   \n",
              "7                 186            1008              429    2024-01-08   \n",
              "8                 174            1009              228    2024-01-09   \n",
              "9                 174            1010              112    2024-01-10   \n",
              "\n",
              "  product_category  customer_rating  \n",
              "0           Sports              2.3  \n",
              "1      Electronics              4.2  \n",
              "2      Electronics              2.1  \n",
              "3         Clothing              2.8  \n",
              "4         Clothing              1.3  \n",
              "5        Groceries              1.1  \n",
              "6           Sports              4.9  \n",
              "7         Clothing              4.3  \n",
              "8      Electronics              3.8  \n",
              "9           Sports              2.6  "
            ],
            "text/html": [
              "\n",
              "  <div id=\"df-f57012e9-4266-4c64-b63a-f413bb570d67\" class=\"colab-df-container\">\n",
              "    <div>\n",
              "<style scoped>\n",
              "    .dataframe tbody tr th:only-of-type {\n",
              "        vertical-align: middle;\n",
              "    }\n",
              "\n",
              "    .dataframe tbody tr th {\n",
              "        vertical-align: top;\n",
              "    }\n",
              "\n",
              "    .dataframe thead th {\n",
              "        text-align: right;\n",
              "    }\n",
              "</style>\n",
              "<table border=\"1\" class=\"dataframe\">\n",
              "  <thead>\n",
              "    <tr style=\"text-align: right;\">\n",
              "      <th></th>\n",
              "      <th>customer_id_legacy</th>\n",
              "      <th>transaction_id</th>\n",
              "      <th>purchase_amount</th>\n",
              "      <th>purchase_date</th>\n",
              "      <th>product_category</th>\n",
              "      <th>customer_rating</th>\n",
              "    </tr>\n",
              "  </thead>\n",
              "  <tbody>\n",
              "    <tr>\n",
              "      <th>0</th>\n",
              "      <td>151</td>\n",
              "      <td>1001</td>\n",
              "      <td>408</td>\n",
              "      <td>2024-01-01</td>\n",
              "      <td>Sports</td>\n",
              "      <td>2.3</td>\n",
              "    </tr>\n",
              "    <tr>\n",
              "      <th>1</th>\n",
              "      <td>192</td>\n",
              "      <td>1002</td>\n",
              "      <td>332</td>\n",
              "      <td>2024-01-02</td>\n",
              "      <td>Electronics</td>\n",
              "      <td>4.2</td>\n",
              "    </tr>\n",
              "    <tr>\n",
              "      <th>2</th>\n",
              "      <td>114</td>\n",
              "      <td>1003</td>\n",
              "      <td>442</td>\n",
              "      <td>2024-01-03</td>\n",
              "      <td>Electronics</td>\n",
              "      <td>2.1</td>\n",
              "    </tr>\n",
              "    <tr>\n",
              "      <th>3</th>\n",
              "      <td>171</td>\n",
              "      <td>1004</td>\n",
              "      <td>256</td>\n",
              "      <td>2024-01-04</td>\n",
              "      <td>Clothing</td>\n",
              "      <td>2.8</td>\n",
              "    </tr>\n",
              "    <tr>\n",
              "      <th>4</th>\n",
              "      <td>160</td>\n",
              "      <td>1005</td>\n",
              "      <td>64</td>\n",
              "      <td>2024-01-05</td>\n",
              "      <td>Clothing</td>\n",
              "      <td>1.3</td>\n",
              "    </tr>\n",
              "    <tr>\n",
              "      <th>5</th>\n",
              "      <td>120</td>\n",
              "      <td>1006</td>\n",
              "      <td>395</td>\n",
              "      <td>2024-01-06</td>\n",
              "      <td>Groceries</td>\n",
              "      <td>1.1</td>\n",
              "    </tr>\n",
              "    <tr>\n",
              "      <th>6</th>\n",
              "      <td>182</td>\n",
              "      <td>1007</td>\n",
              "      <td>91</td>\n",
              "      <td>2024-01-07</td>\n",
              "      <td>Sports</td>\n",
              "      <td>4.9</td>\n",
              "    </tr>\n",
              "    <tr>\n",
              "      <th>7</th>\n",
              "      <td>186</td>\n",
              "      <td>1008</td>\n",
              "      <td>429</td>\n",
              "      <td>2024-01-08</td>\n",
              "      <td>Clothing</td>\n",
              "      <td>4.3</td>\n",
              "    </tr>\n",
              "    <tr>\n",
              "      <th>8</th>\n",
              "      <td>174</td>\n",
              "      <td>1009</td>\n",
              "      <td>228</td>\n",
              "      <td>2024-01-09</td>\n",
              "      <td>Electronics</td>\n",
              "      <td>3.8</td>\n",
              "    </tr>\n",
              "    <tr>\n",
              "      <th>9</th>\n",
              "      <td>174</td>\n",
              "      <td>1010</td>\n",
              "      <td>112</td>\n",
              "      <td>2024-01-10</td>\n",
              "      <td>Sports</td>\n",
              "      <td>2.6</td>\n",
              "    </tr>\n",
              "  </tbody>\n",
              "</table>\n",
              "</div>\n",
              "    <div class=\"colab-df-buttons\">\n",
              "\n",
              "  <div class=\"colab-df-container\">\n",
              "    <button class=\"colab-df-convert\" onclick=\"convertToInteractive('df-f57012e9-4266-4c64-b63a-f413bb570d67')\"\n",
              "            title=\"Convert this dataframe to an interactive table.\"\n",
              "            style=\"display:none;\">\n",
              "\n",
              "  <svg xmlns=\"http://www.w3.org/2000/svg\" height=\"24px\" viewBox=\"0 -960 960 960\">\n",
              "    <path d=\"M120-120v-720h720v720H120Zm60-500h600v-160H180v160Zm220 220h160v-160H400v160Zm0 220h160v-160H400v160ZM180-400h160v-160H180v160Zm440 0h160v-160H620v160ZM180-180h160v-160H180v160Zm440 0h160v-160H620v160Z\"/>\n",
              "  </svg>\n",
              "    </button>\n",
              "\n",
              "  <style>\n",
              "    .colab-df-container {\n",
              "      display:flex;\n",
              "      gap: 12px;\n",
              "    }\n",
              "\n",
              "    .colab-df-convert {\n",
              "      background-color: #E8F0FE;\n",
              "      border: none;\n",
              "      border-radius: 50%;\n",
              "      cursor: pointer;\n",
              "      display: none;\n",
              "      fill: #1967D2;\n",
              "      height: 32px;\n",
              "      padding: 0 0 0 0;\n",
              "      width: 32px;\n",
              "    }\n",
              "\n",
              "    .colab-df-convert:hover {\n",
              "      background-color: #E2EBFA;\n",
              "      box-shadow: 0px 1px 2px rgba(60, 64, 67, 0.3), 0px 1px 3px 1px rgba(60, 64, 67, 0.15);\n",
              "      fill: #174EA6;\n",
              "    }\n",
              "\n",
              "    .colab-df-buttons div {\n",
              "      margin-bottom: 4px;\n",
              "    }\n",
              "\n",
              "    [theme=dark] .colab-df-convert {\n",
              "      background-color: #3B4455;\n",
              "      fill: #D2E3FC;\n",
              "    }\n",
              "\n",
              "    [theme=dark] .colab-df-convert:hover {\n",
              "      background-color: #434B5C;\n",
              "      box-shadow: 0px 1px 3px 1px rgba(0, 0, 0, 0.15);\n",
              "      filter: drop-shadow(0px 1px 2px rgba(0, 0, 0, 0.3));\n",
              "      fill: #FFFFFF;\n",
              "    }\n",
              "  </style>\n",
              "\n",
              "    <script>\n",
              "      const buttonEl =\n",
              "        document.querySelector('#df-f57012e9-4266-4c64-b63a-f413bb570d67 button.colab-df-convert');\n",
              "      buttonEl.style.display =\n",
              "        google.colab.kernel.accessAllowed ? 'block' : 'none';\n",
              "\n",
              "      async function convertToInteractive(key) {\n",
              "        const element = document.querySelector('#df-f57012e9-4266-4c64-b63a-f413bb570d67');\n",
              "        const dataTable =\n",
              "          await google.colab.kernel.invokeFunction('convertToInteractive',\n",
              "                                                    [key], {});\n",
              "        if (!dataTable) return;\n",
              "\n",
              "        const docLinkHtml = 'Like what you see? Visit the ' +\n",
              "          '<a target=\"_blank\" href=https://colab.research.google.com/notebooks/data_table.ipynb>data table notebook</a>'\n",
              "          + ' to learn more about interactive tables.';\n",
              "        element.innerHTML = '';\n",
              "        dataTable['output_type'] = 'display_data';\n",
              "        await google.colab.output.renderOutput(dataTable, element);\n",
              "        const docLink = document.createElement('div');\n",
              "        docLink.innerHTML = docLinkHtml;\n",
              "        element.appendChild(docLink);\n",
              "      }\n",
              "    </script>\n",
              "  </div>\n",
              "\n",
              "\n",
              "<div id=\"df-672adb0e-5dc4-4e6c-9821-937458894109\">\n",
              "  <button class=\"colab-df-quickchart\" onclick=\"quickchart('df-672adb0e-5dc4-4e6c-9821-937458894109')\"\n",
              "            title=\"Suggest charts\"\n",
              "            style=\"display:none;\">\n",
              "\n",
              "<svg xmlns=\"http://www.w3.org/2000/svg\" height=\"24px\"viewBox=\"0 0 24 24\"\n",
              "     width=\"24px\">\n",
              "    <g>\n",
              "        <path d=\"M19 3H5c-1.1 0-2 .9-2 2v14c0 1.1.9 2 2 2h14c1.1 0 2-.9 2-2V5c0-1.1-.9-2-2-2zM9 17H7v-7h2v7zm4 0h-2V7h2v10zm4 0h-2v-4h2v4z\"/>\n",
              "    </g>\n",
              "</svg>\n",
              "  </button>\n",
              "\n",
              "<style>\n",
              "  .colab-df-quickchart {\n",
              "      --bg-color: #E8F0FE;\n",
              "      --fill-color: #1967D2;\n",
              "      --hover-bg-color: #E2EBFA;\n",
              "      --hover-fill-color: #174EA6;\n",
              "      --disabled-fill-color: #AAA;\n",
              "      --disabled-bg-color: #DDD;\n",
              "  }\n",
              "\n",
              "  [theme=dark] .colab-df-quickchart {\n",
              "      --bg-color: #3B4455;\n",
              "      --fill-color: #D2E3FC;\n",
              "      --hover-bg-color: #434B5C;\n",
              "      --hover-fill-color: #FFFFFF;\n",
              "      --disabled-bg-color: #3B4455;\n",
              "      --disabled-fill-color: #666;\n",
              "  }\n",
              "\n",
              "  .colab-df-quickchart {\n",
              "    background-color: var(--bg-color);\n",
              "    border: none;\n",
              "    border-radius: 50%;\n",
              "    cursor: pointer;\n",
              "    display: none;\n",
              "    fill: var(--fill-color);\n",
              "    height: 32px;\n",
              "    padding: 0;\n",
              "    width: 32px;\n",
              "  }\n",
              "\n",
              "  .colab-df-quickchart:hover {\n",
              "    background-color: var(--hover-bg-color);\n",
              "    box-shadow: 0 1px 2px rgba(60, 64, 67, 0.3), 0 1px 3px 1px rgba(60, 64, 67, 0.15);\n",
              "    fill: var(--button-hover-fill-color);\n",
              "  }\n",
              "\n",
              "  .colab-df-quickchart-complete:disabled,\n",
              "  .colab-df-quickchart-complete:disabled:hover {\n",
              "    background-color: var(--disabled-bg-color);\n",
              "    fill: var(--disabled-fill-color);\n",
              "    box-shadow: none;\n",
              "  }\n",
              "\n",
              "  .colab-df-spinner {\n",
              "    border: 2px solid var(--fill-color);\n",
              "    border-color: transparent;\n",
              "    border-bottom-color: var(--fill-color);\n",
              "    animation:\n",
              "      spin 1s steps(1) infinite;\n",
              "  }\n",
              "\n",
              "  @keyframes spin {\n",
              "    0% {\n",
              "      border-color: transparent;\n",
              "      border-bottom-color: var(--fill-color);\n",
              "      border-left-color: var(--fill-color);\n",
              "    }\n",
              "    20% {\n",
              "      border-color: transparent;\n",
              "      border-left-color: var(--fill-color);\n",
              "      border-top-color: var(--fill-color);\n",
              "    }\n",
              "    30% {\n",
              "      border-color: transparent;\n",
              "      border-left-color: var(--fill-color);\n",
              "      border-top-color: var(--fill-color);\n",
              "      border-right-color: var(--fill-color);\n",
              "    }\n",
              "    40% {\n",
              "      border-color: transparent;\n",
              "      border-right-color: var(--fill-color);\n",
              "      border-top-color: var(--fill-color);\n",
              "    }\n",
              "    60% {\n",
              "      border-color: transparent;\n",
              "      border-right-color: var(--fill-color);\n",
              "    }\n",
              "    80% {\n",
              "      border-color: transparent;\n",
              "      border-right-color: var(--fill-color);\n",
              "      border-bottom-color: var(--fill-color);\n",
              "    }\n",
              "    90% {\n",
              "      border-color: transparent;\n",
              "      border-bottom-color: var(--fill-color);\n",
              "    }\n",
              "  }\n",
              "</style>\n",
              "\n",
              "  <script>\n",
              "    async function quickchart(key) {\n",
              "      const quickchartButtonEl =\n",
              "        document.querySelector('#' + key + ' button');\n",
              "      quickchartButtonEl.disabled = true;  // To prevent multiple clicks.\n",
              "      quickchartButtonEl.classList.add('colab-df-spinner');\n",
              "      try {\n",
              "        const charts = await google.colab.kernel.invokeFunction(\n",
              "            'suggestCharts', [key], {});\n",
              "      } catch (error) {\n",
              "        console.error('Error during call to suggestCharts:', error);\n",
              "      }\n",
              "      quickchartButtonEl.classList.remove('colab-df-spinner');\n",
              "      quickchartButtonEl.classList.add('colab-df-quickchart-complete');\n",
              "    }\n",
              "    (() => {\n",
              "      let quickchartButtonEl =\n",
              "        document.querySelector('#df-672adb0e-5dc4-4e6c-9821-937458894109 button');\n",
              "      quickchartButtonEl.style.display =\n",
              "        google.colab.kernel.accessAllowed ? 'block' : 'none';\n",
              "    })();\n",
              "  </script>\n",
              "</div>\n",
              "\n",
              "    </div>\n",
              "  </div>\n"
            ],
            "application/vnd.google.colaboratory.intrinsic+json": {
              "type": "dataframe",
              "variable_name": "df",
              "summary": "{\n  \"name\": \"df\",\n  \"rows\": 150,\n  \"fields\": [\n    {\n      \"column\": \"customer_id_legacy\",\n      \"properties\": {\n        \"dtype\": \"number\",\n        \"std\": 30,\n        \"min\": 100,\n        \"max\": 199,\n        \"num_unique_values\": 75,\n        \"samples\": [\n          160,\n          128,\n          199\n        ],\n        \"semantic_type\": \"\",\n        \"description\": \"\"\n      }\n    },\n    {\n      \"column\": \"transaction_id\",\n      \"properties\": {\n        \"dtype\": \"number\",\n        \"std\": 43,\n        \"min\": 1001,\n        \"max\": 1150,\n        \"num_unique_values\": 150,\n        \"samples\": [\n          1074,\n          1019,\n          1119\n        ],\n        \"semantic_type\": \"\",\n        \"description\": \"\"\n      }\n    },\n    {\n      \"column\": \"purchase_amount\",\n      \"properties\": {\n        \"dtype\": \"number\",\n        \"std\": 121,\n        \"min\": 51,\n        \"max\": 495,\n        \"num_unique_values\": 120,\n        \"samples\": [\n          397,\n          434,\n          64\n        ],\n        \"semantic_type\": \"\",\n        \"description\": \"\"\n      }\n    },\n    {\n      \"column\": \"purchase_date\",\n      \"properties\": {\n        \"dtype\": \"object\",\n        \"num_unique_values\": 150,\n        \"samples\": [\n          \"2024-03-14\",\n          \"2024-01-19\",\n          \"2024-04-28\"\n        ],\n        \"semantic_type\": \"\",\n        \"description\": \"\"\n      }\n    },\n    {\n      \"column\": \"product_category\",\n      \"properties\": {\n        \"dtype\": \"category\",\n        \"num_unique_values\": 5,\n        \"samples\": [\n          \"Electronics\",\n          \"Books\",\n          \"Clothing\"\n        ],\n        \"semantic_type\": \"\",\n        \"description\": \"\"\n      }\n    },\n    {\n      \"column\": \"customer_rating\",\n      \"properties\": {\n        \"dtype\": \"number\",\n        \"std\": 1.2069895364116432,\n        \"min\": 1.0,\n        \"max\": 5.0,\n        \"num_unique_values\": 37,\n        \"samples\": [\n          4.0,\n          3.2,\n          1.3\n        ],\n        \"semantic_type\": \"\",\n        \"description\": \"\"\n      }\n    }\n  ]\n}"
            }
          },
          "metadata": {},
          "execution_count": 1
        }
      ]
    },
    {
      "cell_type": "code",
      "source": [
        "# Get information about data types and missing values\n",
        "df.info()\n",
        "\n",
        "# Get summary statistics\n",
        "df.describe()"
      ],
      "metadata": {
        "colab": {
          "base_uri": "https://localhost:8080/",
          "height": 540
        },
        "id": "-sLkUFx_V-Y6",
        "outputId": "f9e6d084-083d-4973-e98f-43bd0d868993"
      },
      "execution_count": 2,
      "outputs": [
        {
          "output_type": "stream",
          "name": "stdout",
          "text": [
            "<class 'pandas.core.frame.DataFrame'>\n",
            "RangeIndex: 150 entries, 0 to 149\n",
            "Data columns (total 6 columns):\n",
            " #   Column              Non-Null Count  Dtype  \n",
            "---  ------              --------------  -----  \n",
            " 0   customer_id_legacy  150 non-null    int64  \n",
            " 1   transaction_id      150 non-null    int64  \n",
            " 2   purchase_amount     150 non-null    int64  \n",
            " 3   purchase_date       150 non-null    object \n",
            " 4   product_category    150 non-null    object \n",
            " 5   customer_rating     140 non-null    float64\n",
            "dtypes: float64(1), int64(3), object(2)\n",
            "memory usage: 7.2+ KB\n"
          ]
        },
        {
          "output_type": "execute_result",
          "data": {
            "text/plain": [
              "       customer_id_legacy  transaction_id  purchase_amount  customer_rating\n",
              "count          150.000000      150.000000       150.000000        140.00000\n",
              "mean           148.760000     1075.500000       280.780000          2.98500\n",
              "std             30.046425       43.445368       121.329595          1.20699\n",
              "min            100.000000     1001.000000        51.000000          1.00000\n",
              "25%            121.250000     1038.250000       179.000000          1.95000\n",
              "50%            150.500000     1075.500000       274.000000          3.00000\n",
              "75%            174.750000     1112.750000       388.500000          4.00000\n",
              "max            199.000000     1150.000000       495.000000          5.00000"
            ],
            "text/html": [
              "\n",
              "  <div id=\"df-86878464-9bf9-48cf-9e89-67dd8e4fb85c\" class=\"colab-df-container\">\n",
              "    <div>\n",
              "<style scoped>\n",
              "    .dataframe tbody tr th:only-of-type {\n",
              "        vertical-align: middle;\n",
              "    }\n",
              "\n",
              "    .dataframe tbody tr th {\n",
              "        vertical-align: top;\n",
              "    }\n",
              "\n",
              "    .dataframe thead th {\n",
              "        text-align: right;\n",
              "    }\n",
              "</style>\n",
              "<table border=\"1\" class=\"dataframe\">\n",
              "  <thead>\n",
              "    <tr style=\"text-align: right;\">\n",
              "      <th></th>\n",
              "      <th>customer_id_legacy</th>\n",
              "      <th>transaction_id</th>\n",
              "      <th>purchase_amount</th>\n",
              "      <th>customer_rating</th>\n",
              "    </tr>\n",
              "  </thead>\n",
              "  <tbody>\n",
              "    <tr>\n",
              "      <th>count</th>\n",
              "      <td>150.000000</td>\n",
              "      <td>150.000000</td>\n",
              "      <td>150.000000</td>\n",
              "      <td>140.00000</td>\n",
              "    </tr>\n",
              "    <tr>\n",
              "      <th>mean</th>\n",
              "      <td>148.760000</td>\n",
              "      <td>1075.500000</td>\n",
              "      <td>280.780000</td>\n",
              "      <td>2.98500</td>\n",
              "    </tr>\n",
              "    <tr>\n",
              "      <th>std</th>\n",
              "      <td>30.046425</td>\n",
              "      <td>43.445368</td>\n",
              "      <td>121.329595</td>\n",
              "      <td>1.20699</td>\n",
              "    </tr>\n",
              "    <tr>\n",
              "      <th>min</th>\n",
              "      <td>100.000000</td>\n",
              "      <td>1001.000000</td>\n",
              "      <td>51.000000</td>\n",
              "      <td>1.00000</td>\n",
              "    </tr>\n",
              "    <tr>\n",
              "      <th>25%</th>\n",
              "      <td>121.250000</td>\n",
              "      <td>1038.250000</td>\n",
              "      <td>179.000000</td>\n",
              "      <td>1.95000</td>\n",
              "    </tr>\n",
              "    <tr>\n",
              "      <th>50%</th>\n",
              "      <td>150.500000</td>\n",
              "      <td>1075.500000</td>\n",
              "      <td>274.000000</td>\n",
              "      <td>3.00000</td>\n",
              "    </tr>\n",
              "    <tr>\n",
              "      <th>75%</th>\n",
              "      <td>174.750000</td>\n",
              "      <td>1112.750000</td>\n",
              "      <td>388.500000</td>\n",
              "      <td>4.00000</td>\n",
              "    </tr>\n",
              "    <tr>\n",
              "      <th>max</th>\n",
              "      <td>199.000000</td>\n",
              "      <td>1150.000000</td>\n",
              "      <td>495.000000</td>\n",
              "      <td>5.00000</td>\n",
              "    </tr>\n",
              "  </tbody>\n",
              "</table>\n",
              "</div>\n",
              "    <div class=\"colab-df-buttons\">\n",
              "\n",
              "  <div class=\"colab-df-container\">\n",
              "    <button class=\"colab-df-convert\" onclick=\"convertToInteractive('df-86878464-9bf9-48cf-9e89-67dd8e4fb85c')\"\n",
              "            title=\"Convert this dataframe to an interactive table.\"\n",
              "            style=\"display:none;\">\n",
              "\n",
              "  <svg xmlns=\"http://www.w3.org/2000/svg\" height=\"24px\" viewBox=\"0 -960 960 960\">\n",
              "    <path d=\"M120-120v-720h720v720H120Zm60-500h600v-160H180v160Zm220 220h160v-160H400v160Zm0 220h160v-160H400v160ZM180-400h160v-160H180v160Zm440 0h160v-160H620v160ZM180-180h160v-160H180v160Zm440 0h160v-160H620v160Z\"/>\n",
              "  </svg>\n",
              "    </button>\n",
              "\n",
              "  <style>\n",
              "    .colab-df-container {\n",
              "      display:flex;\n",
              "      gap: 12px;\n",
              "    }\n",
              "\n",
              "    .colab-df-convert {\n",
              "      background-color: #E8F0FE;\n",
              "      border: none;\n",
              "      border-radius: 50%;\n",
              "      cursor: pointer;\n",
              "      display: none;\n",
              "      fill: #1967D2;\n",
              "      height: 32px;\n",
              "      padding: 0 0 0 0;\n",
              "      width: 32px;\n",
              "    }\n",
              "\n",
              "    .colab-df-convert:hover {\n",
              "      background-color: #E2EBFA;\n",
              "      box-shadow: 0px 1px 2px rgba(60, 64, 67, 0.3), 0px 1px 3px 1px rgba(60, 64, 67, 0.15);\n",
              "      fill: #174EA6;\n",
              "    }\n",
              "\n",
              "    .colab-df-buttons div {\n",
              "      margin-bottom: 4px;\n",
              "    }\n",
              "\n",
              "    [theme=dark] .colab-df-convert {\n",
              "      background-color: #3B4455;\n",
              "      fill: #D2E3FC;\n",
              "    }\n",
              "\n",
              "    [theme=dark] .colab-df-convert:hover {\n",
              "      background-color: #434B5C;\n",
              "      box-shadow: 0px 1px 3px 1px rgba(0, 0, 0, 0.15);\n",
              "      filter: drop-shadow(0px 1px 2px rgba(0, 0, 0, 0.3));\n",
              "      fill: #FFFFFF;\n",
              "    }\n",
              "  </style>\n",
              "\n",
              "    <script>\n",
              "      const buttonEl =\n",
              "        document.querySelector('#df-86878464-9bf9-48cf-9e89-67dd8e4fb85c button.colab-df-convert');\n",
              "      buttonEl.style.display =\n",
              "        google.colab.kernel.accessAllowed ? 'block' : 'none';\n",
              "\n",
              "      async function convertToInteractive(key) {\n",
              "        const element = document.querySelector('#df-86878464-9bf9-48cf-9e89-67dd8e4fb85c');\n",
              "        const dataTable =\n",
              "          await google.colab.kernel.invokeFunction('convertToInteractive',\n",
              "                                                    [key], {});\n",
              "        if (!dataTable) return;\n",
              "\n",
              "        const docLinkHtml = 'Like what you see? Visit the ' +\n",
              "          '<a target=\"_blank\" href=https://colab.research.google.com/notebooks/data_table.ipynb>data table notebook</a>'\n",
              "          + ' to learn more about interactive tables.';\n",
              "        element.innerHTML = '';\n",
              "        dataTable['output_type'] = 'display_data';\n",
              "        await google.colab.output.renderOutput(dataTable, element);\n",
              "        const docLink = document.createElement('div');\n",
              "        docLink.innerHTML = docLinkHtml;\n",
              "        element.appendChild(docLink);\n",
              "      }\n",
              "    </script>\n",
              "  </div>\n",
              "\n",
              "\n",
              "<div id=\"df-2affb1fe-d02d-4411-ac55-6ec9cce2ea4e\">\n",
              "  <button class=\"colab-df-quickchart\" onclick=\"quickchart('df-2affb1fe-d02d-4411-ac55-6ec9cce2ea4e')\"\n",
              "            title=\"Suggest charts\"\n",
              "            style=\"display:none;\">\n",
              "\n",
              "<svg xmlns=\"http://www.w3.org/2000/svg\" height=\"24px\"viewBox=\"0 0 24 24\"\n",
              "     width=\"24px\">\n",
              "    <g>\n",
              "        <path d=\"M19 3H5c-1.1 0-2 .9-2 2v14c0 1.1.9 2 2 2h14c1.1 0 2-.9 2-2V5c0-1.1-.9-2-2-2zM9 17H7v-7h2v7zm4 0h-2V7h2v10zm4 0h-2v-4h2v4z\"/>\n",
              "    </g>\n",
              "</svg>\n",
              "  </button>\n",
              "\n",
              "<style>\n",
              "  .colab-df-quickchart {\n",
              "      --bg-color: #E8F0FE;\n",
              "      --fill-color: #1967D2;\n",
              "      --hover-bg-color: #E2EBFA;\n",
              "      --hover-fill-color: #174EA6;\n",
              "      --disabled-fill-color: #AAA;\n",
              "      --disabled-bg-color: #DDD;\n",
              "  }\n",
              "\n",
              "  [theme=dark] .colab-df-quickchart {\n",
              "      --bg-color: #3B4455;\n",
              "      --fill-color: #D2E3FC;\n",
              "      --hover-bg-color: #434B5C;\n",
              "      --hover-fill-color: #FFFFFF;\n",
              "      --disabled-bg-color: #3B4455;\n",
              "      --disabled-fill-color: #666;\n",
              "  }\n",
              "\n",
              "  .colab-df-quickchart {\n",
              "    background-color: var(--bg-color);\n",
              "    border: none;\n",
              "    border-radius: 50%;\n",
              "    cursor: pointer;\n",
              "    display: none;\n",
              "    fill: var(--fill-color);\n",
              "    height: 32px;\n",
              "    padding: 0;\n",
              "    width: 32px;\n",
              "  }\n",
              "\n",
              "  .colab-df-quickchart:hover {\n",
              "    background-color: var(--hover-bg-color);\n",
              "    box-shadow: 0 1px 2px rgba(60, 64, 67, 0.3), 0 1px 3px 1px rgba(60, 64, 67, 0.15);\n",
              "    fill: var(--button-hover-fill-color);\n",
              "  }\n",
              "\n",
              "  .colab-df-quickchart-complete:disabled,\n",
              "  .colab-df-quickchart-complete:disabled:hover {\n",
              "    background-color: var(--disabled-bg-color);\n",
              "    fill: var(--disabled-fill-color);\n",
              "    box-shadow: none;\n",
              "  }\n",
              "\n",
              "  .colab-df-spinner {\n",
              "    border: 2px solid var(--fill-color);\n",
              "    border-color: transparent;\n",
              "    border-bottom-color: var(--fill-color);\n",
              "    animation:\n",
              "      spin 1s steps(1) infinite;\n",
              "  }\n",
              "\n",
              "  @keyframes spin {\n",
              "    0% {\n",
              "      border-color: transparent;\n",
              "      border-bottom-color: var(--fill-color);\n",
              "      border-left-color: var(--fill-color);\n",
              "    }\n",
              "    20% {\n",
              "      border-color: transparent;\n",
              "      border-left-color: var(--fill-color);\n",
              "      border-top-color: var(--fill-color);\n",
              "    }\n",
              "    30% {\n",
              "      border-color: transparent;\n",
              "      border-left-color: var(--fill-color);\n",
              "      border-top-color: var(--fill-color);\n",
              "      border-right-color: var(--fill-color);\n",
              "    }\n",
              "    40% {\n",
              "      border-color: transparent;\n",
              "      border-right-color: var(--fill-color);\n",
              "      border-top-color: var(--fill-color);\n",
              "    }\n",
              "    60% {\n",
              "      border-color: transparent;\n",
              "      border-right-color: var(--fill-color);\n",
              "    }\n",
              "    80% {\n",
              "      border-color: transparent;\n",
              "      border-right-color: var(--fill-color);\n",
              "      border-bottom-color: var(--fill-color);\n",
              "    }\n",
              "    90% {\n",
              "      border-color: transparent;\n",
              "      border-bottom-color: var(--fill-color);\n",
              "    }\n",
              "  }\n",
              "</style>\n",
              "\n",
              "  <script>\n",
              "    async function quickchart(key) {\n",
              "      const quickchartButtonEl =\n",
              "        document.querySelector('#' + key + ' button');\n",
              "      quickchartButtonEl.disabled = true;  // To prevent multiple clicks.\n",
              "      quickchartButtonEl.classList.add('colab-df-spinner');\n",
              "      try {\n",
              "        const charts = await google.colab.kernel.invokeFunction(\n",
              "            'suggestCharts', [key], {});\n",
              "      } catch (error) {\n",
              "        console.error('Error during call to suggestCharts:', error);\n",
              "      }\n",
              "      quickchartButtonEl.classList.remove('colab-df-spinner');\n",
              "      quickchartButtonEl.classList.add('colab-df-quickchart-complete');\n",
              "    }\n",
              "    (() => {\n",
              "      let quickchartButtonEl =\n",
              "        document.querySelector('#df-2affb1fe-d02d-4411-ac55-6ec9cce2ea4e button');\n",
              "      quickchartButtonEl.style.display =\n",
              "        google.colab.kernel.accessAllowed ? 'block' : 'none';\n",
              "    })();\n",
              "  </script>\n",
              "</div>\n",
              "\n",
              "    </div>\n",
              "  </div>\n"
            ],
            "application/vnd.google.colaboratory.intrinsic+json": {
              "type": "dataframe",
              "summary": "{\n  \"name\": \"df\",\n  \"rows\": 8,\n  \"fields\": [\n    {\n      \"column\": \"customer_id_legacy\",\n      \"properties\": {\n        \"dtype\": \"number\",\n        \"std\": 51.76307760304677,\n        \"min\": 30.046424928878164,\n        \"max\": 199.0,\n        \"num_unique_values\": 8,\n        \"samples\": [\n          148.76,\n          150.5,\n          150.0\n        ],\n        \"semantic_type\": \"\",\n        \"description\": \"\"\n      }\n    },\n    {\n      \"column\": \"transaction_id\",\n      \"properties\": {\n        \"dtype\": \"number\",\n        \"std\": 456.15788640188606,\n        \"min\": 43.445367992456916,\n        \"max\": 1150.0,\n        \"num_unique_values\": 7,\n        \"samples\": [\n          150.0,\n          1075.5,\n          1112.75\n        ],\n        \"semantic_type\": \"\",\n        \"description\": \"\"\n      }\n    },\n    {\n      \"column\": \"purchase_amount\",\n      \"properties\": {\n        \"dtype\": \"number\",\n        \"std\": 147.10193563874716,\n        \"min\": 51.0,\n        \"max\": 495.0,\n        \"num_unique_values\": 8,\n        \"samples\": [\n          280.78,\n          274.0,\n          150.0\n        ],\n        \"semantic_type\": \"\",\n        \"description\": \"\"\n      }\n    },\n    {\n      \"column\": \"customer_rating\",\n      \"properties\": {\n        \"dtype\": \"number\",\n        \"std\": 48.54952985580822,\n        \"min\": 1.0,\n        \"max\": 140.0,\n        \"num_unique_values\": 8,\n        \"samples\": [\n          2.985,\n          3.0,\n          140.0\n        ],\n        \"semantic_type\": \"\",\n        \"description\": \"\"\n      }\n    }\n  ]\n}"
            }
          },
          "metadata": {},
          "execution_count": 2
        }
      ]
    },
    {
      "cell_type": "markdown",
      "source": [
        "#Step 2: Data Cleaning & Handling Missing Values"
      ],
      "metadata": {
        "id": "IUC3Tn2Uy-bn"
      }
    },
    {
      "cell_type": "code",
      "source": [
        "# Check for missing values\n",
        "print(df.isnull().sum())"
      ],
      "metadata": {
        "colab": {
          "base_uri": "https://localhost:8080/"
        },
        "id": "XYrhNjvWvD6Y",
        "outputId": "7a3ad1b2-3648-4ed5-f98b-f55617fd74b9"
      },
      "execution_count": 3,
      "outputs": [
        {
          "output_type": "stream",
          "name": "stdout",
          "text": [
            "customer_id_legacy     0\n",
            "transaction_id         0\n",
            "purchase_amount        0\n",
            "purchase_date          0\n",
            "product_category       0\n",
            "customer_rating       10\n",
            "dtype: int64\n"
          ]
        }
      ]
    },
    {
      "cell_type": "code",
      "source": [
        "# Method 1: Mean Imputation\n",
        "from sklearn.impute import SimpleImputer\n",
        "mean_imputer = SimpleImputer(strategy='mean')\n",
        "df_mean = df.copy()\n",
        "df_mean['customer_rating'] = mean_imputer.fit_transform(df[['customer_rating']])\n",
        "\n",
        "# Method 2: Median Imputation\n",
        "median_imputer = SimpleImputer(strategy='median')\n",
        "df_median = df.copy()\n",
        "df_median['customer_rating'] = median_imputer.fit_transform(df[['customer_rating']])\n",
        "\n",
        "# Method 3: Mode Imputation\n",
        "mode_imputer = SimpleImputer(strategy='most_frequent')\n",
        "df_mode = df.copy()\n",
        "df_mode['customer_rating'] = mode_imputer.fit_transform(df[['customer_rating']])\n",
        "\n",
        "\n",
        "df['customer_rating'] = df_median['customer_rating']"
      ],
      "metadata": {
        "id": "JWuQfYw-vXF9"
      },
      "execution_count": 4,
      "outputs": []
    },
    {
      "cell_type": "code",
      "source": [
        "# Other imputation alternative for 'purchase_amount' (if it had missing values)\n",
        "# df['purchase_amount'].fillna(df['purchase_amount'].mean(), inplace=True)\n",
        "\n",
        "# Other imputation alternative for 'product_category' (if it had missing values)\n",
        "df['product_category'].fillna(df['product_category'].mode()[0], inplace=True)\n"
      ],
      "metadata": {
        "colab": {
          "base_uri": "https://localhost:8080/"
        },
        "id": "5-rWKCY_ZFTa",
        "outputId": "4cfc95c7-9ee6-4b71-8c34-2331f0bfe9da"
      },
      "execution_count": 5,
      "outputs": [
        {
          "output_type": "stream",
          "name": "stderr",
          "text": [
            "<ipython-input-5-48bfc583938d>:5: FutureWarning: A value is trying to be set on a copy of a DataFrame or Series through chained assignment using an inplace method.\n",
            "The behavior will change in pandas 3.0. This inplace method will never work because the intermediate object on which we are setting values always behaves as a copy.\n",
            "\n",
            "For example, when doing 'df[col].method(value, inplace=True)', try using 'df.method({col: value}, inplace=True)' or df[col] = df[col].method(value) instead, to perform the operation inplace on the original object.\n",
            "\n",
            "\n",
            "  df['product_category'].fillna(df['product_category'].mode()[0], inplace=True)\n"
          ]
        }
      ]
    },
    {
      "cell_type": "code",
      "source": [
        "# Check for missing values again\n",
        "print(df.isnull().sum())"
      ],
      "metadata": {
        "colab": {
          "base_uri": "https://localhost:8080/"
        },
        "id": "AVc9unV4vfqJ",
        "outputId": "97e84523-c3bf-439e-a795-cbfb518d5357",
        "collapsed": true
      },
      "execution_count": 6,
      "outputs": [
        {
          "output_type": "stream",
          "name": "stdout",
          "text": [
            "customer_id_legacy    0\n",
            "transaction_id        0\n",
            "purchase_amount       0\n",
            "purchase_date         0\n",
            "product_category      0\n",
            "customer_rating       0\n",
            "dtype: int64\n"
          ]
        }
      ]
    },
    {
      "cell_type": "markdown",
      "source": [
        "#Step 3: Data Augmentation Strategies"
      ],
      "metadata": {
        "id": "faaqsQhbzQLY"
      }
    },
    {
      "cell_type": "code",
      "source": [
        "# Let Product_category be the target variable\n",
        "target_distribution = df['product_category'].value_counts()\n",
        "\n",
        "# Print the target distribution\n",
        "print(target_distribution)"
      ],
      "metadata": {
        "colab": {
          "base_uri": "https://localhost:8080/"
        },
        "id": "6uRsjAloa9rO",
        "outputId": "cd2874c9-80f4-4c24-e4a9-601e4409be29"
      },
      "execution_count": 7,
      "outputs": [
        {
          "output_type": "stream",
          "name": "stdout",
          "text": [
            "product_category\n",
            "Sports         35\n",
            "Electronics    34\n",
            "Clothing       28\n",
            "Groceries      28\n",
            "Books          25\n",
            "Name: count, dtype: int64\n"
          ]
        }
      ]
    },
    {
      "cell_type": "code",
      "source": [],
      "metadata": {
        "id": "Tl9RkcpCbGig"
      },
      "execution_count": null,
      "outputs": []
    },
    {
      "cell_type": "code",
      "source": [
        "import matplotlib.pyplot as plt\n",
        "import seaborn as sns\n",
        "# Visualize the class distribution\n",
        "plt.figure(figsize=(10, 7))\n",
        "sns.countplot(x='product_category', data=df)\n",
        "plt.title('Class Distribution of Purchase Category Graph')\n",
        "plt.xlabel('Purchase Category')\n",
        "plt.ylabel('Count')\n",
        "plt.show()"
      ],
      "metadata": {
        "colab": {
          "base_uri": "https://localhost:8080/",
          "height": 641
        },
        "id": "byfcrCJJbCHL",
        "outputId": "18bb0385-a5f2-408f-d0b1-f84862976c1d"
      },
      "execution_count": 8,
      "outputs": [
        {
          "output_type": "display_data",
          "data": {
            "text/plain": [
              "<Figure size 1000x700 with 1 Axes>"
            ],
            "image/png": "[encoded data removed]"
          },
          "metadata": {}
        }
      ]
    },
    {
      "cell_type": "code",
      "source": [
        "# Add random noise to purchase_amount\n",
        "noise = np.random.normal(0, 10, size=len(df))\n",
        "df['purchase_amount'] = df['purchase_amount'] + noise"
      ],
      "metadata": {
        "id": "8Vxo1QbWclCM"
      },
      "execution_count": 9,
      "outputs": []
    },
    {
      "cell_type": "code",
      "source": [
        "from sklearn.preprocessing import LabelEncoder\n",
        "\n",
        "le = LabelEncoder()\n",
        "df['product_category_encoded'] = le.fit_transform(df['product_category'])\n"
      ],
      "metadata": {
        "id": "RvGXd-CkfSMu"
      },
      "execution_count": 10,
      "outputs": []
    },
    {
      "cell_type": "code",
      "source": [
        "# Apply SMOTE to balance the dataset\n",
        "from imblearn.over_sampling import SMOTE\n",
        "\n",
        "numerical_cols = df.select_dtypes(include=['float64', 'int64']).columns.tolist()\n",
        "numerical_cols_for_smote = [col for col in numerical_cols if col != 'purchase_date']\n",
        "X = df[numerical_cols_for_smote]\n",
        "y = df['product_category']\n",
        "smote = SMOTE(random_state=42)\n",
        "X_resampled, y_resampled = smote.fit_resample(X, y)"
      ],
      "metadata": {
        "id": "80JOGc1ObICG"
      },
      "execution_count": 11,
      "outputs": []
    },
    {
      "cell_type": "code",
      "source": [
        "#Create a DataFrame with resampled data\n",
        "df_resampled = pd.DataFrame(X_resampled, columns=numerical_cols_for_smote)\n",
        "# Instead of assigning original values, repeat the purchase_date values to match the new length\n",
        "df_resampled['purchase_date'] = np.tile(df['purchase_date'].values, int(np.ceil(len(df_resampled) / len(df))))[:len(df_resampled)]\n",
        "df_resampled['product_category'] = y_resampled\n",
        "\n",
        "print(\"Before SMOTE:\\n\", df['product_category'].value_counts())\n",
        "print(\"After SMOTE:\\n\", pd.Series(y_resampled).value_counts())\n",
        "print(df_resampled['product_category'].value_counts())\n",
        "print(df_resampled.dtypes)\n"
      ],
      "metadata": {
        "id": "jzDqa3PPv3Pt",
        "colab": {
          "base_uri": "https://localhost:8080/"
        },
        "outputId": "ad8c14f7-6daa-41ef-d2f2-a3f5c1fb346f"
      },
      "execution_count": 12,
      "outputs": [
        {
          "output_type": "stream",
          "name": "stdout",
          "text": [
            "Before SMOTE:\n",
            " product_category\n",
            "Sports         35\n",
            "Electronics    34\n",
            "Clothing       28\n",
            "Groceries      28\n",
            "Books          25\n",
            "Name: count, dtype: int64\n",
            "After SMOTE:\n",
            " product_category\n",
            "Sports         35\n",
            "Electronics    35\n",
            "Clothing       35\n",
            "Groceries      35\n",
            "Books          35\n",
            "Name: count, dtype: int64\n",
            "product_category\n",
            "Sports         35\n",
            "Electronics    35\n",
            "Clothing       35\n",
            "Groceries      35\n",
            "Books          35\n",
            "Name: count, dtype: int64\n",
            "customer_id_legacy            int64\n",
            "transaction_id                int64\n",
            "purchase_amount             float64\n",
            "customer_rating             float64\n",
            "product_category_encoded      int64\n",
            "purchase_date                object\n",
            "product_category             object\n",
            "dtype: object\n"
          ]
        }
      ]
    },
    {
      "cell_type": "code",
      "source": [
        "# Feature Value Transformation\n",
        "for col in numerical_cols:\n",
        "    skewness = df_resampled[col].skew()\n",
        "    print(f\"Skewness of {col}: {skewness}\")\n",
        "    if skewness > 1:\n",
        "        df_resampled[f'{col}_log'] = np.log1p(df_resampled[col])\n",
        "\n",
        "# Display the updated DataFrame\n",
        "print(\"\\nDataFrame After Feature Transformation:\")\n",
        "print(df_resampled.head())"
      ],
      "metadata": {
        "id": "8r7flxWcKnOa",
        "colab": {
          "base_uri": "https://localhost:8080/"
        },
        "outputId": "001c8e3b-3683-46fc-d6f8-636ed6815eaf"
      },
      "execution_count": 13,
      "outputs": [
        {
          "output_type": "stream",
          "name": "stdout",
          "text": [
            "Skewness of customer_id_legacy: -0.13007495985787818\n",
            "Skewness of transaction_id: -0.05079640537644151\n",
            "Skewness of purchase_amount: 2.9437376782564407e-05\n",
            "Skewness of customer_rating: -0.09181977744427018\n",
            "Skewness of product_category_encoded: 0.0\n",
            "\n",
            "DataFrame After Feature Transformation:\n",
            "   customer_id_legacy  transaction_id  purchase_amount  customer_rating  \\\n",
            "0                 151            1001       398.903745              2.3   \n",
            "1                 192            1002       321.866746              4.2   \n",
            "2                 114            1003       450.441980              2.1   \n",
            "3                 171            1004       258.162225              2.8   \n",
            "4                 160            1005        61.832200              1.3   \n",
            "\n",
            "   product_category_encoded purchase_date product_category  \n",
            "0                         4    2024-01-01           Sports  \n",
            "1                         2    2024-01-02      Electronics  \n",
            "2                         2    2024-01-03      Electronics  \n",
            "3                         1    2024-01-04         Clothing  \n",
            "4                         1    2024-01-05         Clothing  \n"
          ]
        }
      ]
    },
    {
      "cell_type": "code",
      "source": [
        "#  Data Expansion\n",
        "augmented_data = []\n",
        "target_samples_per_class = 42\n"
      ],
      "metadata": {
        "id": "oMjkj5MzwczL"
      },
      "execution_count": 14,
      "outputs": []
    },
    {
      "cell_type": "markdown",
      "source": [
        "#Synthetic Data Generation"
      ],
      "metadata": {
        "id": "ZNHwaUMD_OQp"
      }
    },
    {
      "cell_type": "code",
      "source": [
        "# 3. Synthetic Data Generation\n",
        "# This function generates synthetic data by introducing variations to existing data points.\n",
        "# It helps to increase the size of the dataset and improve model generalization.\n",
        "# The variations are applied to purchase amount, product category, purchase date, and customer rating.\n",
        "\n",
        "def generate_synthetic_data(df, num_samples=100):\n",
        "    synthetic_data = df.sample(n=num_samples, replace=True).copy()  # <- Fix: Ensure a new copy\n",
        "\n",
        "    # Apply variations\n",
        "    synthetic_data['purchase_amount'] *= np.random.uniform(0.9, 1.1, size=num_samples)\n",
        "    synthetic_data['product_category'] = np.random.choice(df['product_category'].unique(), size=num_samples)\n",
        "\n",
        "    # Convert and modify dates\n",
        "    synthetic_data['purchase_date'] = pd.to_datetime(synthetic_data['purchase_date'], errors='coerce')\n",
        "    synthetic_data['purchase_date'] += pd.to_timedelta(np.random.randint(-3, 3, size=num_samples), unit='days')\n",
        "\n",
        "    # Modify customer ratings within valid range\n",
        "    synthetic_data['customer_rating'] += np.random.uniform(-0.2, 0.2, size=num_samples)\n",
        "    synthetic_data['customer_rating'] = synthetic_data['customer_rating'].clip(lower=df['customer_rating'].min(),\n",
        "                                                                              upper=df['customer_rating'].max())\n",
        "\n",
        "    return synthetic_data\n",
        "\n",
        "# Generate synthetic data and combine\n",
        "synthetic_data = generate_synthetic_data(df)\n",
        "df_augmented = pd.concat([df_resampled, synthetic_data], ignore_index=True)\n",
        "\n",
        "# Check results\n",
        "print(\"\\nShape of Augmented Dataset:\", df_augmented.shape)\n",
        "print(\"\\nClass Distribution After Data Expansion:\")\n",
        "print(df_augmented['product_category'].value_counts())\n"
      ],
      "metadata": {
        "id": "xroYt-Iu3eC9",
        "colab": {
          "base_uri": "https://localhost:8080/"
        },
        "outputId": "84fe4e7a-1b44-408a-ca95-2ec55d7c7f19"
      },
      "execution_count": 15,
      "outputs": [
        {
          "output_type": "stream",
          "name": "stdout",
          "text": [
            "\n",
            "Shape of Augmented Dataset: (275, 7)\n",
            "\n",
            "Class Distribution After Data Expansion:\n",
            "product_category\n",
            "Groceries      56\n",
            "Clothing       55\n",
            "Electronics    55\n",
            "Books          55\n",
            "Sports         54\n",
            "Name: count, dtype: int64\n"
          ]
        }
      ]
    },
    {
      "cell_type": "markdown",
      "source": [
        "#Feature Engineering"
      ],
      "metadata": {
        "id": "NLohQTwz_gjI"
      }
    },
    {
      "cell_type": "code",
      "source": [
        "# 1. Extract purchase_month\n",
        "df_augmented['purchase_month'] = pd.to_datetime(df_augmented['purchase_date']).dt.month\n",
        "\n",
        "# 2. Calculate avg_purchase_amount per customer\n",
        "avg_purchase = df_augmented.groupby('customer_id_legacy')['purchase_amount'].mean().reset_index()\n",
        "avg_purchase.columns = ['customer_id_legacy', 'avg_purchase_amount']\n",
        "df_augmented = pd.merge(df_augmented, avg_purchase, on='customer_id_legacy', how='left')"
      ],
      "metadata": {
        "id": "dkI3n6KL3ofc"
      },
      "execution_count": 16,
      "outputs": []
    },
    {
      "cell_type": "code",
      "source": [
        "# 3. Calculate days_since_last_purchase\n",
        "df_augmented.sort_values(by=['customer_id_legacy', 'purchase_date'], inplace=True)\n",
        "df_augmented['purchase_date'] = pd.to_datetime(df_augmented['purchase_date'], errors='coerce')\n",
        "df_augmented.dropna(subset=['purchase_date'], inplace=True)\n",
        "df_augmented['days_since_last_purchase'] = df_augmented.groupby('customer_id_legacy')['purchase_date'].diff().dt.days\n",
        "df_augmented['days_since_last_purchase'].fillna(0, inplace=True)"
      ],
      "metadata": {
        "id": "0eu6TrSnGVly",
        "colab": {
          "base_uri": "https://localhost:8080/"
        },
        "outputId": "db5dd90c-bb11-43c5-b15c-ea66f908f981"
      },
      "execution_count": 17,
      "outputs": [
        {
          "output_type": "stream",
          "name": "stderr",
          "text": [
            "<ipython-input-17-f5db9a43e470>:6: FutureWarning: A value is trying to be set on a copy of a DataFrame or Series through chained assignment using an inplace method.\n",
            "The behavior will change in pandas 3.0. This inplace method will never work because the intermediate object on which we are setting values always behaves as a copy.\n",
            "\n",
            "For example, when doing 'df[col].method(value, inplace=True)', try using 'df.method({col: value}, inplace=True)' or df[col] = df[col].method(value) instead, to perform the operation inplace on the original object.\n",
            "\n",
            "\n",
            "  df_augmented['days_since_last_purchase'].fillna(0, inplace=True)\n"
          ]
        }
      ]
    },
    {
      "cell_type": "markdown",
      "source": [
        "#Export the Augmented Dataset"
      ],
      "metadata": {
        "id": "a7NhUQax_VNN"
      }
    },
    {
      "cell_type": "code",
      "source": [
        "# Save the augmented dataset\n",
        "df_augmented.to_csv('customer_transactions_augmented.csv', index=False)"
      ],
      "metadata": {
        "id": "Wkbp2aaq3sdh"
      },
      "execution_count": 18,
      "outputs": []
    },
    {
      "cell_type": "markdown",
      "source": [
        "# Part 2 Merging Datasets with Transitive Properties"
      ],
      "metadata": {
        "id": "0CP1Y1sVh799"
      }
    },
    {
      "cell_type": "code",
      "source": [
        "import pandas as pd\n",
        "\n",
        "try:\n",
        "    transactions_df = pd.read_csv('customer_transactions_augmented.csv')\n",
        "    profiles_df = pd.read_csv('customer_social_profiles.csv')\n",
        "    mapping_df = pd.read_csv('id_mapping.csv')\n",
        "    print(\"Datasets loaded successfully!\")\n",
        "except FileNotFoundError:\n",
        "    print(\"One or more dataset files not found. Please ensure they are uploaded to Colab.\")\n",
        "    exit()\n",
        "\n",
        "    print(\"\\n--- Transactions Data ---\")\n",
        "print(transactions_df.head())\n",
        "print(transactions_df.info())\n",
        "\n",
        "print(\"\\n--- Profiles Data ---\")\n",
        "print(profiles_df.head())\n",
        "print(profiles_df.info())\n",
        "\n",
        "print(\"\\n--- Mapping Data ---\")\n",
        "print(mapping_df.head())\n",
        "print(mapping_df.info())"
      ],
      "metadata": {
        "id": "bEs2TqMRiKcm",
        "outputId": "0480f0f6-08f3-41a9-85ea-49a242da4c66",
        "colab": {
          "base_uri": "https://localhost:8080/"
        }
      },
      "execution_count": 1,
      "outputs": [
        {
          "output_type": "stream",
          "name": "stdout",
          "text": [
            "Datasets loaded successfully!\n",
            "   customer_id_legacy  transaction_id  purchase_amount  customer_rating  \\\n",
            "0                 100            1113       159.006970         3.934884   \n",
            "1                 100            1147       389.033357         4.535987   \n",
            "2                 100            1147       371.725595         4.575863   \n",
            "3                 100            1130       377.512049         4.218168   \n",
            "4                 100            1113       154.793733         4.000000   \n",
            "\n",
            "   product_category_encoded purchase_date product_category  purchase_month  \\\n",
            "0                         1    2024-04-24        Groceries               4   \n",
            "1                         0    2024-05-24            Books               5   \n",
            "2                         0    2024-05-25           Sports               5   \n",
            "3                         0    2024-01-10            Books               1   \n",
            "4                         1    2024-04-22         Clothing               4   \n",
            "\n",
            "   avg_purchase_amount  days_since_last_purchase  \n",
            "0           303.705674                       0.0  \n",
            "1           303.705674                      30.0  \n",
            "2           303.705674                       1.0  \n",
            "3           303.705674                    -136.0  \n",
            "4           303.705674                     103.0  \n",
            "<class 'pandas.core.frame.DataFrame'>\n",
            "RangeIndex: 275 entries, 0 to 274\n",
            "Data columns (total 10 columns):\n",
            " #   Column                    Non-Null Count  Dtype  \n",
            "---  ------                    --------------  -----  \n",
            " 0   customer_id_legacy        275 non-null    int64  \n",
            " 1   transaction_id            275 non-null    int64  \n",
            " 2   purchase_amount           275 non-null    float64\n",
            " 3   customer_rating           275 non-null    float64\n",
            " 4   product_category_encoded  275 non-null    int64  \n",
            " 5   purchase_date             275 non-null    object \n",
            " 6   product_category          275 non-null    object \n",
            " 7   purchase_month            275 non-null    int64  \n",
            " 8   avg_purchase_amount       275 non-null    float64\n",
            " 9   days_since_last_purchase  275 non-null    float64\n",
            "dtypes: float64(4), int64(4), object(2)\n",
            "memory usage: 21.6+ KB\n",
            "None\n",
            "\n",
            "--- Profiles Data ---\n",
            "  customer_id_new social_media_platform  engagement_score  \\\n",
            "0            A178              LinkedIn                74   \n",
            "1            A190               Twitter                82   \n",
            "2            A150              Facebook                96   \n",
            "3            A162               Twitter                89   \n",
            "4            A197               Twitter                92   \n",
            "\n",
            "   purchase_interest_score review_sentiment  \n",
            "0                      4.9         Positive  \n",
            "1                      4.8          Neutral  \n",
            "2                      1.6         Positive  \n",
            "3                      2.6         Positive  \n",
            "4                      2.3          Neutral  \n",
            "<class 'pandas.core.frame.DataFrame'>\n",
            "RangeIndex: 155 entries, 0 to 154\n",
            "Data columns (total 5 columns):\n",
            " #   Column                   Non-Null Count  Dtype  \n",
            "---  ------                   --------------  -----  \n",
            " 0   customer_id_new          155 non-null    object \n",
            " 1   social_media_platform    155 non-null    object \n",
            " 2   engagement_score         155 non-null    int64  \n",
            " 3   purchase_interest_score  155 non-null    float64\n",
            " 4   review_sentiment         155 non-null    object \n",
            "dtypes: float64(1), int64(1), object(3)\n",
            "memory usage: 6.2+ KB\n",
            "None\n",
            "\n",
            "--- Mapping Data ---\n",
            "   customer_id_legacy customer_id_new\n",
            "0                 195            A105\n",
            "1                 161            A118\n",
            "2                 192            A156\n",
            "3                 157            A168\n",
            "4                 166            A102\n",
            "<class 'pandas.core.frame.DataFrame'>\n",
            "RangeIndex: 155 entries, 0 to 154\n",
            "Data columns (total 2 columns):\n",
            " #   Column              Non-Null Count  Dtype \n",
            "---  ------              --------------  ----- \n",
            " 0   customer_id_legacy  155 non-null    int64 \n",
            " 1   customer_id_new     155 non-null    object\n",
            "dtypes: int64(1), object(1)\n",
            "memory usage: 2.6+ KB\n",
            "None\n"
          ]
        }
      ]
    },
    {
      "cell_type": "markdown",
      "source": [
        "#Prepare the Mapping DataFrame"
      ],
      "metadata": {
        "id": "kVNDGZXYiSdH"
      }
    },
    {
      "cell_type": "code",
      "source": [
        "mapping_df = mapping_df.rename(columns={'customer_id_legacy': 'legacy_id'})\n",
        "print(\"\\nMapping DataFrame after renaming column:\")\n",
        "print(mapping_df.head())"
      ],
      "metadata": {
        "id": "RnVOQNQ2iTsQ",
        "outputId": "4450fa70-fcdf-4e20-8676-8a2841febfd3",
        "colab": {
          "base_uri": "https://localhost:8080/"
        }
      },
      "execution_count": 2,
      "outputs": [
        {
          "output_type": "stream",
          "name": "stdout",
          "text": [
            "\n",
            "Mapping DataFrame after renaming column:\n",
            "   legacy_id customer_id_new\n",
            "0        195            A105\n",
            "1        161            A118\n",
            "2        192            A156\n",
            "3        157            A168\n",
            "4        166            A102\n"
          ]
        }
      ]
    },
    {
      "cell_type": "markdown",
      "source": [
        "#Merge the Transactions DataFrame with the Mapping DataFrame"
      ],
      "metadata": {
        "id": "oAxoCCKxia9B"
      }
    },
    {
      "cell_type": "code",
      "source": [
        "mapping_df = mapping_df.rename(columns={'customer_id_legacy': 'legacy_id'})\n",
        "transactions_mapped = pd.merge(transactions_df, mapping_df, left_on='customer_id_legacy', right_on='legacy_id', how='left')\n",
        "final_merged_df = pd.merge(transactions_mapped, profiles_df, on='customer_id_new', how='left')\n",
        "print(\"\\nFinal merged DataFrame (initial merge):\")\n",
        "print(final_merged_df.head())"
      ],
      "metadata": {
        "id": "7Q3UtKgdidGo",
        "outputId": "b6b687f4-34da-46e7-f55f-b86f70a16653",
        "colab": {
          "base_uri": "https://localhost:8080/"
        }
      },
      "execution_count": 3,
      "outputs": [
        {
          "output_type": "stream",
          "name": "stdout",
          "text": [
            "\n",
            "Final merged DataFrame (initial merge):\n",
            "   customer_id_legacy  transaction_id  purchase_amount  customer_rating  \\\n",
            "0                 100            1113       159.006970         3.934884   \n",
            "1                 100            1147       389.033357         4.535987   \n",
            "2                 100            1147       371.725595         4.575863   \n",
            "3                 100            1130       377.512049         4.218168   \n",
            "4                 100            1113       154.793733         4.000000   \n",
            "\n",
            "   product_category_encoded purchase_date product_category  purchase_month  \\\n",
            "0                         1    2024-04-24        Groceries               4   \n",
            "1                         0    2024-05-24            Books               5   \n",
            "2                         0    2024-05-25           Sports               5   \n",
            "3                         0    2024-01-10            Books               1   \n",
            "4                         1    2024-04-22         Clothing               4   \n",
            "\n",
            "   avg_purchase_amount  days_since_last_purchase  legacy_id customer_id_new  \\\n",
            "0           303.705674                       0.0        NaN             NaN   \n",
            "1           303.705674                      30.0        NaN             NaN   \n",
            "2           303.705674                       1.0        NaN             NaN   \n",
            "3           303.705674                    -136.0        NaN             NaN   \n",
            "4           303.705674                     103.0        NaN             NaN   \n",
            "\n",
            "  social_media_platform  engagement_score  purchase_interest_score  \\\n",
            "0                   NaN               NaN                      NaN   \n",
            "1                   NaN               NaN                      NaN   \n",
            "2                   NaN               NaN                      NaN   \n",
            "3                   NaN               NaN                      NaN   \n",
            "4                   NaN               NaN                      NaN   \n",
            "\n",
            "  review_sentiment  \n",
            "0              NaN  \n",
            "1              NaN  \n",
            "2              NaN  \n",
            "3              NaN  \n",
            "4              NaN  \n"
          ]
        }
      ]
    },
    {
      "cell_type": "code",
      "source": [
        "final_merged_df_cleaned = final_merged_df.dropna(subset=['customer_id_new']).copy()\n",
        "print(\"\\nCleaned merged DataFrame (after dropping unmapped transactions):\")\n",
        "print(final_merged_df_cleaned.head())\n",
        "print(final_merged_df_cleaned.info())"
      ],
      "metadata": {
        "id": "LKiVeucXiisS",
        "outputId": "18fd7cca-45d4-409a-efb2-cbe5ceb924f7",
        "colab": {
          "base_uri": "https://localhost:8080/"
        }
      },
      "execution_count": 4,
      "outputs": [
        {
          "output_type": "stream",
          "name": "stdout",
          "text": [
            "\n",
            "Cleaned merged DataFrame (after dropping unmapped transactions):\n",
            "    customer_id_legacy  transaction_id  purchase_amount  customer_rating  \\\n",
            "6                  101            1073       132.377883         2.297554   \n",
            "7                  101            1073       132.377883         2.297554   \n",
            "8                  101            1073       132.377883         2.297554   \n",
            "9                  101            1073       132.377883         2.297554   \n",
            "10                 101            1073       132.377883         2.297554   \n",
            "\n",
            "    product_category_encoded purchase_date product_category  purchase_month  \\\n",
            "6                          0    2024-03-11            Books               3   \n",
            "7                          0    2024-03-11            Books               3   \n",
            "8                          0    2024-03-11            Books               3   \n",
            "9                          0    2024-03-11            Books               3   \n",
            "10                         0    2024-03-11            Books               3   \n",
            "\n",
            "    avg_purchase_amount  days_since_last_purchase  legacy_id customer_id_new  \\\n",
            "6            221.688786                       0.0      101.0            A116   \n",
            "7            221.688786                       0.0      101.0            A116   \n",
            "8            221.688786                       0.0      101.0            A116   \n",
            "9            221.688786                       0.0      101.0            A116   \n",
            "10           221.688786                       0.0      101.0            A116   \n",
            "\n",
            "   social_media_platform  engagement_score  purchase_interest_score  \\\n",
            "6                Twitter              78.0                      1.1   \n",
            "7               LinkedIn              89.0                      2.4   \n",
            "8              Instagram              81.0                      4.6   \n",
            "9                 TikTok              83.0                      1.2   \n",
            "10               Twitter              78.0                      1.1   \n",
            "\n",
            "   review_sentiment  \n",
            "6          Negative  \n",
            "7           Neutral  \n",
            "8           Neutral  \n",
            "9          Negative  \n",
            "10         Negative  \n",
            "<class 'pandas.core.frame.DataFrame'>\n",
            "Index: 660 entries, 6 to 715\n",
            "Data columns (total 16 columns):\n",
            " #   Column                    Non-Null Count  Dtype  \n",
            "---  ------                    --------------  -----  \n",
            " 0   customer_id_legacy        660 non-null    int64  \n",
            " 1   transaction_id            660 non-null    int64  \n",
            " 2   purchase_amount           660 non-null    float64\n",
            " 3   customer_rating           660 non-null    float64\n",
            " 4   product_category_encoded  660 non-null    int64  \n",
            " 5   purchase_date             660 non-null    object \n",
            " 6   product_category          660 non-null    object \n",
            " 7   purchase_month            660 non-null    int64  \n",
            " 8   avg_purchase_amount       660 non-null    float64\n",
            " 9   days_since_last_purchase  660 non-null    float64\n",
            " 10  legacy_id                 660 non-null    float64\n",
            " 11  customer_id_new           660 non-null    object \n",
            " 12  social_media_platform     570 non-null    object \n",
            " 13  engagement_score          570 non-null    float64\n",
            " 14  purchase_interest_score   570 non-null    float64\n",
            " 15  review_sentiment          570 non-null    object \n",
            "dtypes: float64(7), int64(4), object(5)\n",
            "memory usage: 87.7+ KB\n",
            "None\n"
          ]
        }
      ]
    },
    {
      "cell_type": "markdown",
      "source": [
        "#Handling Potential One-to-Many Mappings"
      ],
      "metadata": {
        "id": "iocO_z8LjU9r"
      }
    },
    {
      "cell_type": "code",
      "source": [
        "# Check for one-to-many mappings in id_mapping.csv\n",
        "legacy_counts = mapping_df['legacy_id'].value_counts()\n",
        "conflicts = legacy_counts[legacy_counts > 1]\n",
        "print(f\"\\nNumber of legacy IDs with multiple new IDs: {len(conflicts)}\")\n",
        "\n",
        "if not conflicts.empty:\n",
        "    print(\"Legacy IDs with multiple mappings:\")\n",
        "    print(conflicts)\n",
        "    print(\"\\nHandling conflicts by keeping the first mapping encountered for each legacy ID.\")\n",
        "    # Keep only the first occurrence of each legacy_id in the mapping\n",
        "    mapping_df_unique = mapping_df.drop_duplicates(subset=['legacy_id'], keep='first')\n",
        "\n",
        "    # Remerge using the unique mapping\n",
        "    transactions_mapped_unique = pd.merge(transactions_df, mapping_df_unique, left_on='customer_id_legacy', right_on='legacy_id', how='left')\n",
        "    final_merged_df = pd.merge(transactions_mapped_unique, profiles_df, on='customer_id_new', how='left')\n",
        "\n",
        "    print(\"Final merged DataFrame after handling one-to-many mappings:\")\n",
        "    print(final_merged_df.head())\n",
        "    print(final_merged_df.info())\n",
        "else:\n",
        "    print(\"No one-to-many mappings found in the id_mapping.csv.\")"
      ],
      "metadata": {
        "id": "mAMfKJWUjWSv",
        "outputId": "708a24cd-802b-424f-a385-8dd294d70687",
        "colab": {
          "base_uri": "https://localhost:8080/"
        }
      },
      "execution_count": 5,
      "outputs": [
        {
          "output_type": "stream",
          "name": "stdout",
          "text": [
            "\n",
            "Number of legacy IDs with multiple new IDs: 49\n",
            "Legacy IDs with multiple mappings:\n",
            "legacy_id\n",
            "197    5\n",
            "128    5\n",
            "192    4\n",
            "121    4\n",
            "195    4\n",
            "139    3\n",
            "157    3\n",
            "162    3\n",
            "199    3\n",
            "159    3\n",
            "126    3\n",
            "112    3\n",
            "158    3\n",
            "116    3\n",
            "163    3\n",
            "178    3\n",
            "146    3\n",
            "131    3\n",
            "174    3\n",
            "138    3\n",
            "125    2\n",
            "198    2\n",
            "105    2\n",
            "166    2\n",
            "155    2\n",
            "187    2\n",
            "179    2\n",
            "132    2\n",
            "176    2\n",
            "190    2\n",
            "106    2\n",
            "145    2\n",
            "111    2\n",
            "101    2\n",
            "177    2\n",
            "129    2\n",
            "181    2\n",
            "130    2\n",
            "109    2\n",
            "167    2\n",
            "136    2\n",
            "175    2\n",
            "144    2\n",
            "152    2\n",
            "141    2\n",
            "196    2\n",
            "191    2\n",
            "183    2\n",
            "180    2\n",
            "Name: count, dtype: int64\n",
            "\n",
            "Handling conflicts by keeping the first mapping encountered for each legacy ID.\n",
            "Final merged DataFrame after handling one-to-many mappings:\n",
            "   customer_id_legacy  transaction_id  purchase_amount  customer_rating  \\\n",
            "0                 100            1113       159.006970         3.934884   \n",
            "1                 100            1147       389.033357         4.535987   \n",
            "2                 100            1147       371.725595         4.575863   \n",
            "3                 100            1130       377.512049         4.218168   \n",
            "4                 100            1113       154.793733         4.000000   \n",
            "\n",
            "   product_category_encoded purchase_date product_category  purchase_month  \\\n",
            "0                         1    2024-04-24        Groceries               4   \n",
            "1                         0    2024-05-24            Books               5   \n",
            "2                         0    2024-05-25           Sports               5   \n",
            "3                         0    2024-01-10            Books               1   \n",
            "4                         1    2024-04-22         Clothing               4   \n",
            "\n",
            "   avg_purchase_amount  days_since_last_purchase  legacy_id customer_id_new  \\\n",
            "0           303.705674                       0.0        NaN             NaN   \n",
            "1           303.705674                      30.0        NaN             NaN   \n",
            "2           303.705674                       1.0        NaN             NaN   \n",
            "3           303.705674                    -136.0        NaN             NaN   \n",
            "4           303.705674                     103.0        NaN             NaN   \n",
            "\n",
            "  social_media_platform  engagement_score  purchase_interest_score  \\\n",
            "0                   NaN               NaN                      NaN   \n",
            "1                   NaN               NaN                      NaN   \n",
            "2                   NaN               NaN                      NaN   \n",
            "3                   NaN               NaN                      NaN   \n",
            "4                   NaN               NaN                      NaN   \n",
            "\n",
            "  review_sentiment  \n",
            "0              NaN  \n",
            "1              NaN  \n",
            "2              NaN  \n",
            "3              NaN  \n",
            "4              NaN  \n",
            "<class 'pandas.core.frame.DataFrame'>\n",
            "RangeIndex: 429 entries, 0 to 428\n",
            "Data columns (total 16 columns):\n",
            " #   Column                    Non-Null Count  Dtype  \n",
            "---  ------                    --------------  -----  \n",
            " 0   customer_id_legacy        429 non-null    int64  \n",
            " 1   transaction_id            429 non-null    int64  \n",
            " 2   purchase_amount           429 non-null    float64\n",
            " 3   customer_rating           429 non-null    float64\n",
            " 4   product_category_encoded  429 non-null    int64  \n",
            " 5   purchase_date             429 non-null    object \n",
            " 6   product_category          429 non-null    object \n",
            " 7   purchase_month            429 non-null    int64  \n",
            " 8   avg_purchase_amount       429 non-null    float64\n",
            " 9   days_since_last_purchase  429 non-null    float64\n",
            " 10  legacy_id                 373 non-null    float64\n",
            " 11  customer_id_new           373 non-null    object \n",
            " 12  social_media_platform     331 non-null    object \n",
            " 13  engagement_score          331 non-null    float64\n",
            " 14  purchase_interest_score   331 non-null    float64\n",
            " 15  review_sentiment          331 non-null    object \n",
            "dtypes: float64(7), int64(4), object(5)\n",
            "memory usage: 53.8+ KB\n",
            "None\n"
          ]
        }
      ]
    },
    {
      "cell_type": "markdown",
      "source": [
        "#Checking for Unmapped IDs"
      ],
      "metadata": {
        "id": "uvqQlLH5jhEa"
      }
    },
    {
      "cell_type": "code",
      "source": [
        "# Check for unmapped legacy IDs\n",
        "unmapped_legacy_ids = transactions_mapped['customer_id_new'].isnull().sum()\n",
        "print(f\"\\nNumber of transactions with unmapped legacy IDs: {unmapped_legacy_ids}\")\n",
        "\n",
        "if unmapped_legacy_ids > 0:\n",
        "    print(\"Consider how to handle these unmapped transactions (e.g., dropping them or investigating the missing mappings).\")\n"
      ],
      "metadata": {
        "id": "zija_Iztjiik",
        "outputId": "b203b4fd-5787-420e-aa41-6f6b6fadd6cc",
        "colab": {
          "base_uri": "https://localhost:8080/"
        }
      },
      "execution_count": 6,
      "outputs": [
        {
          "output_type": "stream",
          "name": "stdout",
          "text": [
            "\n",
            "Number of transactions with unmapped legacy IDs: 56\n",
            "Consider how to handle these unmapped transactions (e.g., dropping them or investigating the missing mappings).\n"
          ]
        }
      ]
    },
    {
      "cell_type": "markdown",
      "source": [
        "#Handling Missing Values"
      ],
      "metadata": {
        "id": "GfpZHe8Mjsi7"
      }
    },
    {
      "cell_type": "code",
      "source": [
        "print(\"\\nMissing values in the final merged DataFrame:\")\n",
        "print(final_merged_df.isnull().sum())"
      ],
      "metadata": {
        "id": "ZGLLhFrLjtvU",
        "outputId": "c7d1078a-8f6a-47da-9f0e-351c7b466f9a",
        "colab": {
          "base_uri": "https://localhost:8080/"
        }
      },
      "execution_count": 7,
      "outputs": [
        {
          "output_type": "stream",
          "name": "stdout",
          "text": [
            "\n",
            "Missing values in the final merged DataFrame:\n",
            "customer_id_legacy           0\n",
            "transaction_id               0\n",
            "purchase_amount              0\n",
            "customer_rating              0\n",
            "product_category_encoded     0\n",
            "purchase_date                0\n",
            "product_category             0\n",
            "purchase_month               0\n",
            "avg_purchase_amount          0\n",
            "days_since_last_purchase     0\n",
            "legacy_id                   56\n",
            "customer_id_new             56\n",
            "social_media_platform       98\n",
            "engagement_score            98\n",
            "purchase_interest_score     98\n",
            "review_sentiment            98\n",
            "dtype: int64\n"
          ]
        }
      ]
    },
    {
      "cell_type": "markdown",
      "source": [
        "#Identify Available Columns"
      ],
      "metadata": {
        "id": "rdDmOJ_cjxEf"
      }
    },
    {
      "cell_type": "code",
      "source": [
        "print(\"\\n--- Columns in final_merged_df_cleaned before Feature Engineering ---\")\n",
        "print(final_merged_df_cleaned.columns)"
      ],
      "metadata": {
        "id": "ZyrmB5Gnj0Us",
        "outputId": "2f2c64f1-5fc9-442d-a53f-e32c456a8d04",
        "colab": {
          "base_uri": "https://localhost:8080/"
        }
      },
      "execution_count": 8,
      "outputs": [
        {
          "output_type": "stream",
          "name": "stdout",
          "text": [
            "\n",
            "--- Columns in final_merged_df_cleaned before Feature Engineering ---\n",
            "Index(['customer_id_legacy', 'transaction_id', 'purchase_amount',\n",
            "       'customer_rating', 'product_category_encoded', 'purchase_date',\n",
            "       'product_category', 'purchase_month', 'avg_purchase_amount',\n",
            "       'days_since_last_purchase', 'legacy_id', 'customer_id_new',\n",
            "       'social_media_platform', 'engagement_score', 'purchase_interest_score',\n",
            "       'review_sentiment'],\n",
            "      dtype='object')\n"
          ]
        }
      ]
    },
    {
      "cell_type": "markdown",
      "source": [
        "#Feature Engineering"
      ],
      "metadata": {
        "id": "4tGSk6sXj3uy"
      }
    },
    {
      "cell_type": "markdown",
      "source": [
        "# Customer Engagement Score"
      ],
      "metadata": {
        "id": "kIfXAa8bj9fK"
      }
    },
    {
      "cell_type": "code",
      "source": [
        "# Calculate transaction count per customer (using customer_id_new as the identifier)\n",
        "final_merged_df_cleaned['transaction_count'] = final_merged_df_cleaned.groupby('customer_id_new')['transaction_id'].transform('count')\n",
        "\n",
        "# Normalize transaction count\n",
        "final_merged_df_cleaned['normalized_transactions'] = (final_merged_df_cleaned['transaction_count'] - final_merged_df_cleaned['transaction_count'].min()) / (final_merged_df_cleaned['transaction_count'].max() - final_merged_df_cleaned['transaction_count'].min())\n",
        "\n",
        "# Check for the actual social media activity column\n",
        "social_activity_column = 'engagement_score'\n",
        "\n",
        "if social_activity_column in final_merged_df_cleaned.columns:\n",
        "    # Normalize social media activity\n",
        "    final_merged_df_cleaned['normalized_social_activity'] = (final_merged_df_cleaned[social_activity_column] - final_merged_df_cleaned[social_activity_column].min()) / (final_merged_df_cleaned[social_activity_column].max() - final_merged_df_cleaned[social_activity_column].min())\n",
        "\n",
        "    # Combine them to create an engagement score (adjust weights as needed)\n",
        "    final_merged_df_cleaned['engagement_score'] = 0.5 * final_merged_df_cleaned['normalized_transactions'] + 0.5 * final_merged_df_cleaned['normalized_social_activity']\n",
        "    print(f\"\\nCustomer Engagement Score created (including {social_activity_column}).\")\n",
        "else:\n",
        "    print(f\"\\nColumn '{social_activity_column}' not found. Engagement score based on transaction count only.\")\n",
        "    final_merged_df_cleaned['engagement_score'] = final_merged_df_cleaned['normalized_transactions']\n",
        "\n",
        "print(final_merged_df_cleaned[['customer_id_new', 'transaction_count', 'engagement_score']].head())"
      ],
      "metadata": {
        "id": "OV__QpcKj61Y",
        "outputId": "2f76bfac-4c80-46c6-e669-f695a66857ef",
        "colab": {
          "base_uri": "https://localhost:8080/"
        }
      },
      "execution_count": 9,
      "outputs": [
        {
          "output_type": "stream",
          "name": "stdout",
          "text": [
            "\n",
            "Customer Engagement Score created (including engagement_score).\n",
            "   customer_id_new  transaction_count  engagement_score\n",
            "6             A116                 65          0.785714\n",
            "7             A116                 65          0.897959\n",
            "8             A116                 65          0.816327\n",
            "9             A116                 65          0.836735\n",
            "10            A116                 65          0.785714\n"
          ]
        }
      ]
    },
    {
      "cell_type": "markdown",
      "source": [
        "#Predictive Behavioral Features"
      ],
      "metadata": {
        "id": "QKh8IKNPkIDf"
      }
    },
    {
      "cell_type": "code",
      "source": [
        "# Ensure 'purchase_date' is in datetime format\n",
        "if 'purchase_date' in final_merged_df_cleaned.columns:\n",
        "    final_merged_df_cleaned['purchase_date'] = pd.to_datetime(final_merged_df_cleaned['purchase_date'])\n",
        "    final_merged_df_cleaned = final_merged_df_cleaned.sort_values(by=['customer_id_new', 'purchase_date'])\n",
        "\n",
        "    # Moving average of purchase amount (e.g., over the last 3 transactions)\n",
        "    if 'purchase_amount' in final_merged_df_cleaned.columns:\n",
        "        final_merged_df_cleaned['moving_average_spent_3'] = final_merged_df_cleaned.groupby('customer_id_new')['purchase_amount'].transform(lambda x: x.rolling(window=3, min_periods=1).mean())\n",
        "        print(\"\\nMoving average of purchase amount created.\")\n",
        "    else:\n",
        "        print(\"\\nColumn 'purchase_amount' not found, skipping moving average.\")\n",
        "\n",
        "    # Time-based aggregation: Monthly total spending\n",
        "    final_merged_df_cleaned['month_year'] = final_merged_df_cleaned['purchase_date'].dt.to_period('M')\n",
        "    monthly_spending = final_merged_df_cleaned.groupby(['customer_id_new', 'month_year'])['purchase_amount'].sum().reset_index()\n",
        "    monthly_spending = monthly_spending.rename(columns={'purchase_amount': 'monthly_total_spent'})\n",
        "    final_merged_df_cleaned = pd.merge(final_merged_df_cleaned, monthly_spending, on=['customer_id_new', 'month_year'], how='left')\n",
        "    print(\"Monthly total spending aggregated.\")\n",
        "\n",
        "    print(final_merged_df_cleaned[['customer_id_new', 'purchase_date', 'moving_average_spent_3', 'monthly_total_spent']].head())\n",
        "else:\n",
        "    print(\"\\nColumn 'purchase_date' not found. Skipping moving averages and time-based aggregation.\")\n",
        "    print(final_merged_df_cleaned[['customer_id_new']].head())"
      ],
      "metadata": {
        "id": "Bu_JTAcRkJMW",
        "outputId": "d8d75707-d7ff-44c2-ce4a-6104301f9e4a",
        "colab": {
          "base_uri": "https://localhost:8080/"
        }
      },
      "execution_count": 10,
      "outputs": [
        {
          "output_type": "stream",
          "name": "stdout",
          "text": [
            "\n",
            "Moving average of purchase amount created.\n",
            "Monthly total spending aggregated.\n",
            "  customer_id_new purchase_date  moving_average_spent_3  monthly_total_spent\n",
            "0            A101    2024-01-22              204.303131           416.359942\n",
            "1            A101    2024-01-22              208.179971           416.359942\n",
            "2            A101    2024-02-13              304.237712           496.353195\n",
            "3            A102    2024-02-03               85.451374           561.611759\n",
            "4            A102    2024-02-04               83.873443           561.611759\n"
          ]
        }
      ]
    },
    {
      "cell_type": "markdown",
      "source": [
        "#TF-IDF on Text Data"
      ],
      "metadata": {
        "id": "llUrGf_skQZH"
      }
    },
    {
      "cell_type": "code",
      "source": [
        "# Check for text-based columns for TF-IDF\n",
        "review_col = 'review_sentiment'\n",
        "\n",
        "if review_col in final_merged_df_cleaned.columns:\n",
        "    print(f\"\\nColumn '{review_col}' found. TF-IDF is typically used on raw text. This column contains sentiment scores, which is already a numerical feature.\")\n",
        "\n",
        "    print(\"Review sentiment scores will be used as a feature.\")\n",
        "else:\n",
        "    print(\"\\nNo relevant text columns found for TF-IDF. Skipping TF-IDF.\")\n",
        "\n",
        "print(final_merged_df_cleaned[['customer_id_new', 'review_sentiment']].head())\n",
        "print(final_merged_df_cleaned.info())"
      ],
      "metadata": {
        "id": "MF6VDT0akRec",
        "outputId": "756d7e35-c367-40e4-9fca-0fed604aa0ab",
        "colab": {
          "base_uri": "https://localhost:8080/"
        }
      },
      "execution_count": 11,
      "outputs": [
        {
          "output_type": "stream",
          "name": "stdout",
          "text": [
            "\n",
            "Column 'review_sentiment' found. TF-IDF is typically used on raw text. This column contains sentiment scores, which is already a numerical feature.\n",
            "Review sentiment scores will be used as a feature.\n",
            "  customer_id_new review_sentiment\n",
            "0            A101          Neutral\n",
            "1            A101          Neutral\n",
            "2            A101          Neutral\n",
            "3            A102          Neutral\n",
            "4            A102          Neutral\n",
            "<class 'pandas.core.frame.DataFrame'>\n",
            "RangeIndex: 660 entries, 0 to 659\n",
            "Data columns (total 22 columns):\n",
            " #   Column                      Non-Null Count  Dtype         \n",
            "---  ------                      --------------  -----         \n",
            " 0   customer_id_legacy          660 non-null    int64         \n",
            " 1   transaction_id              660 non-null    int64         \n",
            " 2   purchase_amount             660 non-null    float64       \n",
            " 3   customer_rating             660 non-null    float64       \n",
            " 4   product_category_encoded    660 non-null    int64         \n",
            " 5   purchase_date               660 non-null    datetime64[ns]\n",
            " 6   product_category            660 non-null    object        \n",
            " 7   purchase_month              660 non-null    int64         \n",
            " 8   avg_purchase_amount         660 non-null    float64       \n",
            " 9   days_since_last_purchase    660 non-null    float64       \n",
            " 10  legacy_id                   660 non-null    float64       \n",
            " 11  customer_id_new             660 non-null    object        \n",
            " 12  social_media_platform       570 non-null    object        \n",
            " 13  engagement_score            570 non-null    float64       \n",
            " 14  purchase_interest_score     570 non-null    float64       \n",
            " 15  review_sentiment            570 non-null    object        \n",
            " 16  transaction_count           660 non-null    int64         \n",
            " 17  normalized_transactions     660 non-null    float64       \n",
            " 18  normalized_social_activity  570 non-null    float64       \n",
            " 19  moving_average_spent_3      660 non-null    float64       \n",
            " 20  month_year                  660 non-null    period[M]     \n",
            " 21  monthly_total_spent         660 non-null    float64       \n",
            "dtypes: datetime64[ns](1), float64(11), int64(5), object(4), period[M](1)\n",
            "memory usage: 113.6+ KB\n",
            "None\n"
          ]
        }
      ]
    },
    {
      "cell_type": "markdown",
      "source": [
        "#Export the Final Preprocessed Data"
      ],
      "metadata": {
        "id": "gdUEh598kccD"
      }
    },
    {
      "cell_type": "code",
      "source": [
        "group_number = \"7\"\n",
        "output_filename = f'final_customer_data_{7}.csv'\n",
        "final_merged_df.to_csv(output_filename, index=False)\n",
        "print(f\"\\nFinal preprocessed data saved to: {output_filename}\")"
      ],
      "metadata": {
        "id": "y9D7Oe-Vkdgi",
        "outputId": "f99d51b1-7a74-4902-d650-499ce3b8f837",
        "colab": {
          "base_uri": "https://localhost:8080/"
        }
      },
      "execution_count": 12,
      "outputs": [
        {
          "output_type": "stream",
          "name": "stdout",
          "text": [
            "\n",
            "Final preprocessed data saved to: final_customer_data_7.csv\n"
          ]
        }
      ]
    },
    {
      "cell_type": "markdown",
      "source": [
        "# Part 3: Data Consistency and Quality Checks\n",
        "# Done by: Liliane Kayitesi"
      ],
      "metadata": {
        "id": "GqIelQyYrA_K"
      }
    },
    {
      "cell_type": "markdown",
      "source": [
        "# 1. Data Integrity Checks"
      ],
      "metadata": {
        "id": "7P7ih4FDoOOj"
      }
    },
    {
      "cell_type": "code",
      "source": [
        "import pandas as pd\n",
        "df = pd.read_csv(\"final_customer_data_7.csv\")\n"
      ],
      "metadata": {
        "id": "aZrgNdGBoV2R"
      },
      "execution_count": 13,
      "outputs": []
    },
    {
      "cell_type": "markdown",
      "source": [
        "# a. Checking for duplicate entries"
      ],
      "metadata": {
        "id": "LHBrZGUToc1b"
      }
    },
    {
      "cell_type": "code",
      "source": [
        "# Checking for duplicates\n",
        "duplicates = df.duplicated().sum()\n",
        "print(f\"Number of duplicate rows: {duplicates}\")"
      ],
      "metadata": {
        "colab": {
          "base_uri": "https://localhost:8080/"
        },
        "id": "2tF3ffWdoff6",
        "outputId": "e087ca24-c5b3-40cc-a814-9bafff83f86e"
      },
      "execution_count": 14,
      "outputs": [
        {
          "output_type": "stream",
          "name": "stdout",
          "text": [
            "Number of duplicate rows: 8\n"
          ]
        }
      ]
    },
    {
      "cell_type": "code",
      "source": [
        "# Inspecting duplicate\n",
        "duplicate_rows = df[df.duplicated(keep=False)]\n",
        "print(duplicate_rows)"
      ],
      "metadata": {
        "colab": {
          "base_uri": "https://localhost:8080/"
        },
        "id": "R4bOInexokXl",
        "outputId": "fe57c83e-5a1b-4858-831f-be9361ddc5b1"
      },
      "execution_count": 15,
      "outputs": [
        {
          "output_type": "stream",
          "name": "stdout",
          "text": [
            "     customer_id_legacy  transaction_id  purchase_amount  customer_rating  \\\n",
            "6                   101            1073       132.377883         2.297554   \n",
            "10                  101            1073       132.377883         2.297554   \n",
            "11                  101            1017       266.003799         2.100000   \n",
            "15                  101            1017       266.003799         2.100000   \n",
            "16                  101            1021       173.752289         3.400000   \n",
            "20                  101            1021       173.752289         3.400000   \n",
            "21                  101            1059       410.584224         2.500000   \n",
            "25                  101            1059       410.584224         2.500000   \n",
            "26                  101            1073       125.725733         2.100000   \n",
            "30                  101            1073       125.725733         2.100000   \n",
            "184                 144            1107       438.205946         3.260792   \n",
            "188                 144            1107       438.205946         3.260792   \n",
            "189                 144            1076       453.137322         3.750063   \n",
            "193                 144            1076       453.137322         3.750063   \n",
            "194                 144            1107       471.096221         3.300000   \n",
            "198                 144            1107       471.096221         3.300000   \n",
            "\n",
            "     product_category_encoded purchase_date product_category  purchase_month  \\\n",
            "6                           0    2024-03-11            Books               3   \n",
            "10                          0    2024-03-11            Books               3   \n",
            "11                          0    2024-01-17            Books               1   \n",
            "15                          0    2024-01-17            Books               1   \n",
            "16                          3    2024-01-21        Groceries               1   \n",
            "20                          3    2024-01-21        Groceries               1   \n",
            "21                          0    2024-02-28            Books               2   \n",
            "25                          0    2024-02-28            Books               2   \n",
            "26                          0    2024-03-13            Books               3   \n",
            "30                          0    2024-03-13            Books               3   \n",
            "184                         1    2024-04-18         Clothing               4   \n",
            "188                         1    2024-04-18         Clothing               4   \n",
            "189                         3    2024-01-20        Groceries               1   \n",
            "193                         3    2024-01-20        Groceries               1   \n",
            "194                         1    2024-04-16         Clothing               4   \n",
            "198                         1    2024-04-16         Clothing               4   \n",
            "\n",
            "     avg_purchase_amount  days_since_last_purchase  legacy_id customer_id_new  \\\n",
            "6             221.688786                       0.0      101.0            A116   \n",
            "10            221.688786                       0.0      101.0            A116   \n",
            "11            221.688786                     -54.0      101.0            A116   \n",
            "15            221.688786                     -54.0      101.0            A116   \n",
            "16            221.688786                       4.0      101.0            A116   \n",
            "20            221.688786                       4.0      101.0            A116   \n",
            "21            221.688786                      38.0      101.0            A116   \n",
            "25            221.688786                      38.0      101.0            A116   \n",
            "26            221.688786                      14.0      101.0            A116   \n",
            "30            221.688786                      14.0      101.0            A116   \n",
            "184           454.146496                       0.0      144.0            A116   \n",
            "188           454.146496                       0.0      144.0            A116   \n",
            "189           454.146496                     -89.0      144.0            A116   \n",
            "193           454.146496                     -89.0      144.0            A116   \n",
            "194           454.146496                      87.0      144.0            A116   \n",
            "198           454.146496                      87.0      144.0            A116   \n",
            "\n",
            "    social_media_platform  engagement_score  purchase_interest_score  \\\n",
            "6                 Twitter              78.0                      1.1   \n",
            "10                Twitter              78.0                      1.1   \n",
            "11                Twitter              78.0                      1.1   \n",
            "15                Twitter              78.0                      1.1   \n",
            "16                Twitter              78.0                      1.1   \n",
            "20                Twitter              78.0                      1.1   \n",
            "21                Twitter              78.0                      1.1   \n",
            "25                Twitter              78.0                      1.1   \n",
            "26                Twitter              78.0                      1.1   \n",
            "30                Twitter              78.0                      1.1   \n",
            "184               Twitter              78.0                      1.1   \n",
            "188               Twitter              78.0                      1.1   \n",
            "189               Twitter              78.0                      1.1   \n",
            "193               Twitter              78.0                      1.1   \n",
            "194               Twitter              78.0                      1.1   \n",
            "198               Twitter              78.0                      1.1   \n",
            "\n",
            "    review_sentiment  \n",
            "6           Negative  \n",
            "10          Negative  \n",
            "11          Negative  \n",
            "15          Negative  \n",
            "16          Negative  \n",
            "20          Negative  \n",
            "21          Negative  \n",
            "25          Negative  \n",
            "26          Negative  \n",
            "30          Negative  \n",
            "184         Negative  \n",
            "188         Negative  \n",
            "189         Negative  \n",
            "193         Negative  \n",
            "194         Negative  \n",
            "198         Negative  \n"
          ]
        }
      ]
    },
    {
      "cell_type": "code",
      "source": [
        "# dropping duplicates\n",
        "df = df.drop_duplicates()\n",
        "print(f\"Shape after dropping duplicates: {df.shape}\")"
      ],
      "metadata": {
        "colab": {
          "base_uri": "https://localhost:8080/"
        },
        "id": "fi6oU1e-oqZC",
        "outputId": "01129875-c7a2-41ca-a732-5d2a82f320c2"
      },
      "execution_count": 16,
      "outputs": [
        {
          "output_type": "stream",
          "name": "stdout",
          "text": [
            "Shape after dropping duplicates: (421, 16)\n"
          ]
        }
      ]
    },
    {
      "cell_type": "markdown",
      "source": [
        "# b. Ensuring all categorical values are correctly mapped."
      ],
      "metadata": {
        "id": "1Q3-Zzulo4sL"
      }
    },
    {
      "cell_type": "code",
      "source": [
        "# Inspecting categorical columns\n",
        "print(\"Unique product categories:\", df['product_category'].unique())\n",
        "print(\"Unique social media platforms:\", df['social_media_platform'].unique())\n",
        "print(\"Unique review sentiments:\", df['review_sentiment'].unique())"
      ],
      "metadata": {
        "colab": {
          "base_uri": "https://localhost:8080/"
        },
        "id": "wwdh1p0XoxVO",
        "outputId": "892a7e9f-6ae0-407f-d474-9e9b157b3da7"
      },
      "execution_count": 17,
      "outputs": [
        {
          "output_type": "stream",
          "name": "stdout",
          "text": [
            "Unique product categories: ['Groceries' 'Books' 'Sports' 'Clothing' 'Electronics']\n",
            "Unique social media platforms: [nan 'Twitter' 'LinkedIn' 'Instagram' 'TikTok' 'Facebook']\n",
            "Unique review sentiments: [nan 'Negative' 'Neutral' 'Positive']\n"
          ]
        }
      ]
    },
    {
      "cell_type": "code",
      "source": [
        "df['social_media_platform'] = df['social_media_platform'].fillna('None')\n",
        "df['review_sentiment'] = df['review_sentiment'].fillna('Unknown')"
      ],
      "metadata": {
        "id": "LUIof1HIo_wO"
      },
      "execution_count": 18,
      "outputs": []
    },
    {
      "cell_type": "markdown",
      "source": [
        "# c. Validating if customer transactions match a valid social profile"
      ],
      "metadata": {
        "id": "dqw5oNjwpHpv"
      }
    },
    {
      "cell_type": "code",
      "source": [
        "social_rows = df[df['social_media_platform'].notna()]\n",
        "print(f\"Rows with social media: {len(social_rows)}\")"
      ],
      "metadata": {
        "colab": {
          "base_uri": "https://localhost:8080/"
        },
        "id": "_AsK8-QipJ14",
        "outputId": "6d5678ac-8720-480a-cc5f-95db99c544a5"
      },
      "execution_count": 19,
      "outputs": [
        {
          "output_type": "stream",
          "name": "stdout",
          "text": [
            "Rows with social media: 421\n"
          ]
        }
      ]
    },
    {
      "cell_type": "code",
      "source": [
        "#Check for missing engagement data\n",
        "missing_engagement = social_rows[social_rows[['engagement_score', 'purchase_interest_score', 'review_sentiment']].isna().any(axis=1)]\n",
        "print(f\"Rows with missing engagement data: {len(missing_engagement)}\")\n",
        "print(missing_engagement[['customer_id_legacy', 'transaction_id', 'social_media_platform']])"
      ],
      "metadata": {
        "colab": {
          "base_uri": "https://localhost:8080/"
        },
        "id": "-2cipKJQpVLy",
        "outputId": "bec1bb29-a289-452a-f96f-265399cd8056"
      },
      "execution_count": 20,
      "outputs": [
        {
          "output_type": "stream",
          "name": "stdout",
          "text": [
            "Rows with missing engagement data: 98\n",
            "     customer_id_legacy  transaction_id social_media_platform\n",
            "0                   100            1113                  None\n",
            "1                   100            1147                  None\n",
            "2                   100            1147                  None\n",
            "3                   100            1130                  None\n",
            "4                   100            1113                  None\n",
            "..                  ...             ...                   ...\n",
            "334                 184            1096                  None\n",
            "335                 185            1139                  None\n",
            "405                 194            1088                  None\n",
            "406                 194            1088                  None\n",
            "407                 194            1088                  None\n",
            "\n",
            "[98 rows x 3 columns]\n"
          ]
        }
      ]
    },
    {
      "cell_type": "code",
      "source": [
        "df = df.dropna(subset=['engagement_score', 'purchase_interest_score', 'review_sentiment'], how='all')"
      ],
      "metadata": {
        "id": "oHWyMxG1pZR2"
      },
      "execution_count": 21,
      "outputs": []
    },
    {
      "cell_type": "markdown",
      "source": [
        "# 2. Statistical Summarization"
      ],
      "metadata": {
        "id": "Z8Xb1o2epi8n"
      }
    },
    {
      "cell_type": "markdown",
      "source": [
        "# a. Generating describe() reports for numerical columns"
      ],
      "metadata": {
        "id": "TxPSaQohpoqf"
      }
    },
    {
      "cell_type": "code",
      "source": [
        "numerical_cols = df.select_dtypes(include=['float64', 'int64']).columns\n",
        "print(df[numerical_cols].describe())"
      ],
      "metadata": {
        "colab": {
          "base_uri": "https://localhost:8080/"
        },
        "id": "eieIOKWDplvK",
        "outputId": "d257e87c-8269-4280-babf-7115e18efaed"
      },
      "execution_count": 22,
      "outputs": [
        {
          "output_type": "stream",
          "name": "stdout",
          "text": [
            "       customer_id_legacy  transaction_id  purchase_amount  customer_rating  \\\n",
            "count          421.000000      421.000000       421.000000       421.000000   \n",
            "mean           151.235154     1077.513064       280.974546         3.044597   \n",
            "std             30.878630       42.433735       120.576183         1.127671   \n",
            "min            100.000000     1001.000000        61.194202         1.000000   \n",
            "25%            125.000000     1038.000000       172.884095         2.297554   \n",
            "50%            150.000000     1079.000000       267.505318         3.000000   \n",
            "75%            182.000000     1115.000000       397.939206         4.000000   \n",
            "max            199.000000     1150.000000       506.429242         5.000000   \n",
            "\n",
            "       product_category_encoded  purchase_month  avg_purchase_amount  \\\n",
            "count                421.000000      421.000000           421.000000   \n",
            "mean                   2.028504        2.828979           280.974546   \n",
            "std                    1.471683        1.452163            88.984531   \n",
            "min                    0.000000        1.000000            67.609836   \n",
            "25%                    1.000000        1.000000           211.796593   \n",
            "50%                    2.000000        3.000000           257.539004   \n",
            "75%                    3.000000        4.000000           361.946027   \n",
            "max                    4.000000        5.000000           456.853965   \n",
            "\n",
            "       days_since_last_purchase   legacy_id  engagement_score  \\\n",
            "count                421.000000  365.000000        323.000000   \n",
            "mean                   7.641330  154.484932         76.139319   \n",
            "std                   42.634461   30.271626         13.619580   \n",
            "min                 -140.000000  101.000000         50.000000   \n",
            "25%                    0.000000  134.000000         65.000000   \n",
            "50%                    1.000000  158.000000         76.000000   \n",
            "75%                   24.000000  186.000000         88.000000   \n",
            "max                  132.000000  199.000000         99.000000   \n",
            "\n",
            "       purchase_interest_score  \n",
            "count               323.000000  \n",
            "mean                  3.273684  \n",
            "std                   1.174716  \n",
            "min                   1.100000  \n",
            "25%                   2.400000  \n",
            "50%                   3.600000  \n",
            "75%                   4.200000  \n",
            "max                   5.000000  \n"
          ]
        }
      ]
    },
    {
      "cell_type": "markdown",
      "source": [
        "# b. Visualizing distribution of transaction amounts"
      ],
      "metadata": {
        "id": "m0_3E73IpxsP"
      }
    },
    {
      "cell_type": "code",
      "source": [
        "import matplotlib.pyplot as plt\n",
        "import seaborn as sns\n",
        "plt.figure(figsize=(10, 6))\n",
        "sns.histplot(df['purchase_amount'], bins=30, kde=True)\n",
        "plt.title('Distribution of Purchase Amounts')\n",
        "plt.xlabel('Purchase Amount')\n",
        "plt.ylabel('Frequency')\n",
        "plt.show()"
      ],
      "metadata": {
        "colab": {
          "base_uri": "https://localhost:8080/",
          "height": 564
        },
        "id": "eQg0xhnkpuVy",
        "outputId": "803210ec-b711-49c1-f72e-d9e9c783a8c3"
      },
      "execution_count": 23,
      "outputs": [
        {
          "output_type": "display_data",
          "data": {
            "text/plain": [
              "<Figure size 1000x600 with 1 Axes>"
            ],
            "image/png": "[encoded data removed]"
          },
          "metadata": {}
        }
      ]
    },
    {
      "cell_type": "markdown",
      "source": [
        "# 3. Feature Selection for Machine Learning"
      ],
      "metadata": {
        "id": "GAuByFmIp6yH"
      }
    },
    {
      "cell_type": "markdown",
      "source": [
        "# a. Identifying highly correlated features using a correlation heatmap"
      ],
      "metadata": {
        "id": "Vd5zRg9Yp_e1"
      }
    },
    {
      "cell_type": "code",
      "source": [
        "# Correlation heatmap\n",
        "corr_matrix = df[numerical_cols].corr()\n",
        "plt.figure(figsize=(12, 8))\n",
        "sns.heatmap(corr_matrix, annot=True, cmap='coolwarm', fmt='.2f')\n",
        "plt.title('Correlation Heatmap of Numerical Features')\n",
        "plt.show()"
      ],
      "metadata": {
        "colab": {
          "base_uri": "https://localhost:8080/",
          "height": 873
        },
        "id": "C3hG20DDp31R",
        "outputId": "e0cb3401-44d8-4ec7-b932-84b003f9866c"
      },
      "execution_count": 24,
      "outputs": [
        {
          "output_type": "display_data",
          "data": {
            "text/plain": [
              "<Figure size 1200x800 with 2 Axes>"
            ],
            "image/png": "[encoded data removed]"
          },
          "metadata": {}
        }
      ]
    },
    {
      "cell_type": "markdown",
      "source": [
        "# b. Selecting top 10 most important features"
      ],
      "metadata": {
        "id": "TW6TGNz_qXs4"
      }
    },
    {
      "cell_type": "code",
      "source": [
        "# Selecting the top 10 most important features using a feature selection algorithm.\n",
        "\n",
        "from sklearn.ensemble import RandomForestRegressor\n",
        "from sklearn.preprocessing import LabelEncoder\n",
        "\n",
        "# Creating a copy of the DataFrame after dropping NaNs\n",
        "df_ml = df.dropna().copy()\n",
        "\n",
        "# Encoding categorical columns\n",
        "le = LabelEncoder()\n",
        "for col in ['product_category', 'social_media_platform', 'review_sentiment']:\n",
        "    df_ml.loc[:, col] = le.fit_transform(df_ml[col])\n",
        "\n",
        "# Definining features (X) and target (y) and dropping all non-numeric identifier columns\n",
        "X = df_ml.drop(columns=['purchase_amount', 'customer_id_legacy', 'transaction_id',\n",
        "                        'purchase_date', 'customer_id_new', 'legacy_id'])\n",
        "y = df_ml['purchase_amount']\n",
        "\n",
        "# Fit Random Forest and getting feature importances\n",
        "rf = RandomForestRegressor(n_estimators=100, random_state=42)\n",
        "rf.fit(X, y)\n",
        "importances = pd.Series(rf.feature_importances_, index=X.columns).sort_values(ascending=False)\n",
        "print(\"Top 10 Features:\\n\", importances.head(10))"
      ],
      "metadata": {
        "colab": {
          "base_uri": "https://localhost:8080/"
        },
        "id": "MDg82oqoqOw8",
        "outputId": "b5905701-a1a6-409f-a7ef-535c313d089e"
      },
      "execution_count": 25,
      "outputs": [
        {
          "output_type": "stream",
          "name": "stdout",
          "text": [
            "Top 10 Features:\n",
            " avg_purchase_amount         0.617603\n",
            "days_since_last_purchase    0.120928\n",
            "customer_rating             0.113452\n",
            "product_category_encoded    0.034669\n",
            "purchase_month              0.030361\n",
            "product_category            0.023017\n",
            "purchase_interest_score     0.016721\n",
            "engagement_score            0.016669\n",
            "review_sentiment            0.015002\n",
            "social_media_platform       0.011577\n",
            "dtype: float64\n"
          ]
        }
      ]
    },
    {
      "cell_type": "markdown",
      "source": [
        "# Final Data Export"
      ],
      "metadata": {
        "id": "wHBeeHyeqkqE"
      }
    },
    {
      "cell_type": "code",
      "source": [
        "df.to_csv('final_dataset_ready_7.csv', index=False)\n",
        "print(\"Dataset saved as 'final_dataset_ready_7.csv'\")"
      ],
      "metadata": {
        "colab": {
          "base_uri": "https://localhost:8080/"
        },
        "id": "VZ8byindqnPj",
        "outputId": "39fbdab7-ba9c-4aa9-f03c-248597d5b28e"
      },
      "execution_count": 26,
      "outputs": [
        {
          "output_type": "stream",
          "name": "stdout",
          "text": [
            "Dataset saved as 'final_dataset_ready_7.csv'\n"
          ]
        }
      ]
    },
    {
      "cell_type": "markdown",
      "source": [
        "# Machine Learning Model to Predict Customer Spending"
      ],
      "metadata": {
        "id": "9vit5n-5r3wn"
      }
    },
    {
      "cell_type": "code",
      "source": [
        "# Importing necessary libraries\n",
        "import pandas as pd\n",
        "import numpy as np\n",
        "from sklearn.ensemble import RandomForestRegressor\n",
        "from sklearn.preprocessing import LabelEncoder\n",
        "from sklearn.model_selection import train_test_split, cross_val_score\n",
        "from sklearn.metrics import mean_squared_error, r2_score\n",
        "import matplotlib.pyplot as plt\n",
        "import seaborn as sns\n",
        "\n",
        "# Loading the dataset\n",
        "\n",
        "df = pd.read_csv('final_dataset_ready_7.csv')\n",
        "\n",
        "print(\"Dataset loaded. Shape:\", df.shape)\n",
        "print(df.head())"
      ],
      "metadata": {
        "colab": {
          "base_uri": "https://localhost:8080/"
        },
        "id": "sMRdSJAlsEQu",
        "outputId": "88815545-df61-41e5-f0f1-e6824827276f"
      },
      "execution_count": 27,
      "outputs": [
        {
          "output_type": "stream",
          "name": "stdout",
          "text": [
            "Dataset loaded. Shape: (421, 16)\n",
            "   customer_id_legacy  transaction_id  purchase_amount  customer_rating  \\\n",
            "0                 100            1113       159.006970         3.934884   \n",
            "1                 100            1147       389.033357         4.535987   \n",
            "2                 100            1147       371.725595         4.575863   \n",
            "3                 100            1130       377.512049         4.218168   \n",
            "4                 100            1113       154.793733         4.000000   \n",
            "\n",
            "   product_category_encoded purchase_date product_category  purchase_month  \\\n",
            "0                         1    2024-04-24        Groceries               4   \n",
            "1                         0    2024-05-24            Books               5   \n",
            "2                         0    2024-05-25           Sports               5   \n",
            "3                         0    2024-01-10            Books               1   \n",
            "4                         1    2024-04-22         Clothing               4   \n",
            "\n",
            "   avg_purchase_amount  days_since_last_purchase  legacy_id customer_id_new  \\\n",
            "0           303.705674                       0.0        NaN             NaN   \n",
            "1           303.705674                      30.0        NaN             NaN   \n",
            "2           303.705674                       1.0        NaN             NaN   \n",
            "3           303.705674                    -136.0        NaN             NaN   \n",
            "4           303.705674                     103.0        NaN             NaN   \n",
            "\n",
            "  social_media_platform  engagement_score  purchase_interest_score  \\\n",
            "0                   NaN               NaN                      NaN   \n",
            "1                   NaN               NaN                      NaN   \n",
            "2                   NaN               NaN                      NaN   \n",
            "3                   NaN               NaN                      NaN   \n",
            "4                   NaN               NaN                      NaN   \n",
            "\n",
            "  review_sentiment  \n",
            "0          Unknown  \n",
            "1          Unknown  \n",
            "2          Unknown  \n",
            "3          Unknown  \n",
            "4          Unknown  \n"
          ]
        }
      ]
    },
    {
      "cell_type": "code",
      "source": [
        "# Creating a machine learning-ready copy\n",
        "df_ml = df.dropna().copy()\n",
        "\n",
        "# Encoding categorical columns\n",
        "le = LabelEncoder()\n",
        "for col in ['product_category', 'social_media_platform', 'review_sentiment']:\n",
        "    df_ml.loc[:, col] = le.fit_transform(df_ml[col])\n",
        "\n",
        "# Defining features (X) and target (y)\n",
        "X = df_ml.drop(columns=['purchase_amount', 'customer_id_legacy', 'transaction_id',\n",
        "                        'purchase_date', 'customer_id_new', 'legacy_id'])\n",
        "y = df_ml['purchase_amount']\n",
        "\n",
        "# Splittng into training and testing sets (80% train, 20% test)\n",
        "X_train, X_test, y_train, y_test = train_test_split(X, y, test_size=0.2, random_state=42)\n",
        "\n",
        "print(\"Training set shape:\", X_train.shape)\n",
        "print(\"Testing set shape:\", X_test.shape)\n",
        "print(\"Features in X:\", X.columns.tolist())"
      ],
      "metadata": {
        "colab": {
          "base_uri": "https://localhost:8080/"
        },
        "id": "UVfbuJLBsOFz",
        "outputId": "0223cb89-6874-4f8e-dd76-83075a9a8f9d"
      },
      "execution_count": 28,
      "outputs": [
        {
          "output_type": "stream",
          "name": "stdout",
          "text": [
            "Training set shape: (258, 10)\n",
            "Testing set shape: (65, 10)\n",
            "Features in X: ['customer_rating', 'product_category_encoded', 'product_category', 'purchase_month', 'avg_purchase_amount', 'days_since_last_purchase', 'social_media_platform', 'engagement_score', 'purchase_interest_score', 'review_sentiment']\n"
          ]
        }
      ]
    },
    {
      "cell_type": "code",
      "source": [
        "import joblib\n",
        "# Saving the trained model\n",
        "model_filename = 'random_forest_model.pkl'\n",
        "joblib.dump(rf, model_filename)\n",
        "print(f\"Model saved as {model_filename}\")\n",
        "\n",
        "print(\"Model trained and saved successfully!\")\n"
      ],
      "metadata": {
        "colab": {
          "base_uri": "https://localhost:8080/"
        },
        "id": "fBfX-SF7slY6",
        "outputId": "9aee508d-772c-440d-c441-5278105a13a9"
      },
      "execution_count": 37,
      "outputs": [
        {
          "output_type": "stream",
          "name": "stdout",
          "text": [
            "Model saved as random_forest_model.pkl\n",
            "Model trained and saved successfully!\n"
          ]
        }
      ]
    },
    {
      "cell_type": "code",
      "source": [
        "# Evaluating the model\n",
        "mse = mean_squared_error(y_test, y_pred)\n",
        "rmse = np.sqrt(mse)\n",
        "r2 = r2_score(y_test, y_pred)\n",
        "\n",
        "print(f\"Mean Squared Error (MSE): {mse:.2f}\")\n",
        "print(f\"Root Mean Squared Error (RMSE): {rmse:.2f}\")\n",
        "print(f\"R² Score: {r2:.2f}\")\n",
        "\n",
        "# Performing 5-fold cross-validation\n",
        "cv_scores = cross_val_score(rf, X, y, cv=5, scoring='r2')\n",
        "print(f\"Cross-Validation R² Scores: {cv_scores}\")\n",
        "print(f\"Average CV R² Score: {np.mean(cv_scores):.2f} ± {np.std(cv_scores):.2f}\")"
      ],
      "metadata": {
        "colab": {
          "base_uri": "https://localhost:8080/"
        },
        "id": "03JYhaKGsnMF",
        "outputId": "8134c692-9278-4db8-97ee-39b3b388fbb9"
      },
      "execution_count": 38,
      "outputs": [
        {
          "output_type": "stream",
          "name": "stdout",
          "text": [
            "Mean Squared Error (MSE): 2561.46\n",
            "Root Mean Squared Error (RMSE): 50.61\n",
            "R² Score: 0.83\n",
            "Cross-Validation R² Scores: [0.24441951 0.69385412 0.28843747 0.41909967 0.45239605]\n",
            "Average CV R² Score: 0.42 ± 0.16\n"
          ]
        }
      ]
    },
    {
      "cell_type": "code",
      "source": [
        "# Getting and displaying feature importances\n",
        "importances = pd.Series(rf.feature_importances_, index=X.columns).sort_values(ascending=False)\n",
        "print(\"Top 10 Feature Importances:\\n\", importances.head(10))\n",
        "\n",
        "# Visualizing feature importances\n",
        "plt.figure(figsize=(10, 6))\n",
        "sns.barplot(x=importances.head(10).values, y=importances.head(10).index)\n",
        "plt.title('Top 10 Feature Importances for Predicting Purchase Amount')\n",
        "plt.xlabel('Importance Score')\n",
        "plt.ylabel('Feature')\n",
        "plt.show()"
      ],
      "metadata": {
        "colab": {
          "base_uri": "https://localhost:8080/",
          "height": 785
        },
        "id": "mnLrmh41szK-",
        "outputId": "e816ab34-70cc-44ea-de28-d79251b18eb8"
      },
      "execution_count": 39,
      "outputs": [
        {
          "output_type": "stream",
          "name": "stdout",
          "text": [
            "Top 10 Feature Importances:\n",
            " avg_purchase_amount         0.615815\n",
            "days_since_last_purchase    0.132628\n",
            "customer_rating             0.101489\n",
            "product_category_encoded    0.034937\n",
            "purchase_month              0.030013\n",
            "purchase_interest_score     0.021043\n",
            "product_category            0.019328\n",
            "engagement_score            0.015936\n",
            "review_sentiment            0.015735\n",
            "social_media_platform       0.013076\n",
            "dtype: float64\n"
          ]
        },
        {
          "output_type": "display_data",
          "data": {
            "text/plain": [
              "<Figure size 1000x600 with 1 Axes>"
            ],
            "image/png": "[encoded data removed]"
          },
          "metadata": {}
        }
      ]
    },
    {
      "cell_type": "code",
      "source": [
        "# Selecting a few test samples for prediction\n",
        "sample_indices = X_test.index[:5]\n",
        "sample_X = X_test.loc[sample_indices]\n",
        "sample_y_actual = y_test.loc[sample_indices]\n",
        "sample_y_pred = rf.predict(sample_X)\n",
        "\n",
        "# Displaying predictions vs actuals\n",
        "results = pd.DataFrame({\n",
        "    'Actual Purchase Amount': sample_y_actual,\n",
        "    'Predicted Purchase Amount': sample_y_pred\n",
        "}, index=sample_indices)\n",
        "print(\"Sample Predictions vs Actuals:\\n\", results)\n",
        "\n",
        "# Visualizing predictions vs actuals\n",
        "plt.figure(figsize=(8, 6))\n",
        "plt.scatter(y_test, y_pred, alpha=0.5)\n",
        "plt.plot([y_test.min(), y_test.max()], [y_test.min(), y_test.max()], 'r--', lw=2)\n",
        "plt.xlabel('Actual Purchase Amount')\n",
        "plt.ylabel('Predicted Purchase Amount')\n",
        "plt.title('Predicted vs Actual Purchase Amounts')\n",
        "plt.show()"
      ],
      "metadata": {
        "colab": {
          "base_uri": "https://localhost:8080/",
          "height": 693
        },
        "id": "LBdkuvOKs1R6",
        "outputId": "9b636e66-b4c6-4d3d-e2cf-b46cfb77c8ce"
      },
      "execution_count": 40,
      "outputs": [
        {
          "output_type": "stream",
          "name": "stdout",
          "text": [
            "Sample Predictions vs Actuals:\n",
            "      Actual Purchase Amount  Predicted Purchase Amount\n",
            "256               88.540649                 143.754006\n",
            "193              158.891312                 239.332689\n",
            "289              171.430511                 183.794357\n",
            "15               173.752289                 180.250864\n",
            "156              437.390460                 442.650594\n"
          ]
        },
        {
          "output_type": "display_data",
          "data": {
            "text/plain": [
              "<Figure size 800x600 with 1 Axes>"
            ],
            "image/png": "[encoded data removed]"
          },
          "metadata": {}
        }
      ]
    },
    {
      "cell_type": "code",
      "source": [
        "# Calculating prediction errors\n",
        "errors = y_test - y_pred\n",
        "\n",
        "# Verifying lengths match\n",
        "print(\"Length of y_test:\", len(y_test))\n",
        "print(\"Length of y_pred:\", len(y_pred))\n",
        "print(\"Length of X_test:\", len(X_test))\n",
        "\n",
        "# Creating test DataFrame with proper index alignment\n",
        "test_df = df_ml.loc[X_test.index].copy()\n",
        "print(\"Shape of test_df:\", test_df.shape)\n",
        "\n",
        "# Assigning predictions and errors with explicit index alignment\n",
        "test_df['Predicted'] = pd.Series(y_pred, index=X_test.index)\n",
        "test_df['Error'] = pd.Series(errors, index=X_test.index)\n",
        "\n",
        "# Plotting error distribution\n",
        "plt.figure(figsize=(8, 6))\n",
        "sns.histplot(test_df['Error'], bins=30, kde=True)\n",
        "plt.title('Distribution of Prediction Errors')\n",
        "plt.xlabel('Error (Actual - Predicted)')\n",
        "plt.ylabel('Frequency')\n",
        "plt.show()\n",
        "\n",
        "# Analyzing errors by product category\n",
        "error_by_category = test_df.groupby('product_category')['Error'].mean()\n",
        "print(\"Average Prediction Error by Product Category:\\n\", error_by_category)\n",
        "\n",
        "#  Displaying number of samples per category\n",
        "category_counts = test_df['product_category'].value_counts()\n",
        "print(\"\\nNumber of Test Samples per Product Category:\\n\", category_counts)"
      ],
      "metadata": {
        "colab": {
          "base_uri": "https://localhost:8080/",
          "height": 952
        },
        "id": "yJLT18x5tCJZ",
        "outputId": "466157ee-db67-4edc-f390-856d3b2f29f9"
      },
      "execution_count": 41,
      "outputs": [
        {
          "output_type": "stream",
          "name": "stdout",
          "text": [
            "Length of y_test: 65\n",
            "Length of y_pred: 65\n",
            "Length of X_test: 65\n",
            "Shape of test_df: (65, 16)\n"
          ]
        },
        {
          "output_type": "display_data",
          "data": {
            "text/plain": [
              "<Figure size 800x600 with 1 Axes>"
            ],
            "image/png": "[encoded data removed]"
          },
          "metadata": {}
        },
        {
          "output_type": "stream",
          "name": "stdout",
          "text": [
            "Average Prediction Error by Product Category:\n",
            " product_category\n",
            "0     3.163170\n",
            "1    36.597613\n",
            "2     5.456879\n",
            "3   -10.184499\n",
            "4    -9.917838\n",
            "Name: Error, dtype: float64\n",
            "\n",
            "Number of Test Samples per Product Category:\n",
            " product_category\n",
            "0    19\n",
            "3    16\n",
            "4    13\n",
            "1    10\n",
            "2     7\n",
            "Name: count, dtype: int64\n"
          ]
        }
      ]
    }
  ]
}