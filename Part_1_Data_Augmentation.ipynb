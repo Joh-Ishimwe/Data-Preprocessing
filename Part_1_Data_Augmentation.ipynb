{
  "nbformat": 4,
  "nbformat_minor": 0,
  "metadata": {
    "colab": {
      "provenance": [],
      "include_colab_link": true
    },
    "kernelspec": {
      "name": "python3",
      "display_name": "Python 3"
    },
    "language_info": {
      "name": "python"
    }
  },
  "cells": [
    {
      "cell_type": "markdown",
      "metadata": {
        "id": "view-in-github",
        "colab_type": "text"
      },
      "source": [
        "<a href=\"https://colab.research.google.com/github/Joh-Ishimwe/Data-Preprocessing/blob/master/Part_1_Data_Augmentation.ipynb\" target=\"_parent\"><img src=\"https://colab.research.google.com/assets/colab-badge.svg\" alt=\"Open In Colab\"/></a>"
      ]
    },
    {
      "cell_type": "markdown",
      "source": [
        "# Part 1: Data Augmentation\n",
        "Objective: Expand an existing dataset using synthetic data, perturbation, and augmentation techniques."
      ],
      "metadata": {
        "id": "C5XUMV3kyA_N"
      }
    },
    {
      "cell_type": "markdown",
      "source": [
        "\n",
        "# Load the dataset"
      ],
      "metadata": {
        "id": "_wR1O0-wyp0e"
      }
    },
    {
      "cell_type": "code",
      "source": [
        "import numpy as np\n",
        "import pandas as pd\n",
        "\n",
        "# Load the dataset\n",
        "path = '/content/customer_transactions.csv'\n",
        "df = pd.read_csv(path)\n",
        "\n",
        "# Display first 10 rows\n",
        "df.head(10)"
      ],
      "metadata": {
        "id": "DumscmEct8DA",
        "colab": {
          "base_uri": "https://localhost:8080/",
          "height": 383
        },
        "outputId": "5953495c-5848-4d73-9f53-f6a1d8b6c5a8"
      },
      "execution_count": 51,
      "outputs": [
        {
          "output_type": "execute_result",
          "data": {
            "text/plain": [
              "   customer_id_legacy  transaction_id  purchase_amount purchase_date  \\\n",
              "0                 151            1001              408    2024-01-01   \n",
              "1                 192            1002              332    2024-01-02   \n",
              "2                 114            1003              442    2024-01-03   \n",
              "3                 171            1004              256    2024-01-04   \n",
              "4                 160            1005               64    2024-01-05   \n",
              "5                 120            1006              395    2024-01-06   \n",
              "6                 182            1007               91    2024-01-07   \n",
              "7                 186            1008              429    2024-01-08   \n",
              "8                 174            1009              228    2024-01-09   \n",
              "9                 174            1010              112    2024-01-10   \n",
              "\n",
              "  product_category  customer_rating  \n",
              "0           Sports              2.3  \n",
              "1      Electronics              4.2  \n",
              "2      Electronics              2.1  \n",
              "3         Clothing              2.8  \n",
              "4         Clothing              1.3  \n",
              "5        Groceries              1.1  \n",
              "6           Sports              4.9  \n",
              "7         Clothing              4.3  \n",
              "8      Electronics              3.8  \n",
              "9           Sports              2.6  "
            ],
            "text/html": [
              "\n",
              "  <div id=\"df-7f0941e6-7f77-41d9-a3bd-4c7722ae5dca\" class=\"colab-df-container\">\n",
              "    <div>\n",
              "<style scoped>\n",
              "    .dataframe tbody tr th:only-of-type {\n",
              "        vertical-align: middle;\n",
              "    }\n",
              "\n",
              "    .dataframe tbody tr th {\n",
              "        vertical-align: top;\n",
              "    }\n",
              "\n",
              "    .dataframe thead th {\n",
              "        text-align: right;\n",
              "    }\n",
              "</style>\n",
              "<table border=\"1\" class=\"dataframe\">\n",
              "  <thead>\n",
              "    <tr style=\"text-align: right;\">\n",
              "      <th></th>\n",
              "      <th>customer_id_legacy</th>\n",
              "      <th>transaction_id</th>\n",
              "      <th>purchase_amount</th>\n",
              "      <th>purchase_date</th>\n",
              "      <th>product_category</th>\n",
              "      <th>customer_rating</th>\n",
              "    </tr>\n",
              "  </thead>\n",
              "  <tbody>\n",
              "    <tr>\n",
              "      <th>0</th>\n",
              "      <td>151</td>\n",
              "      <td>1001</td>\n",
              "      <td>408</td>\n",
              "      <td>2024-01-01</td>\n",
              "      <td>Sports</td>\n",
              "      <td>2.3</td>\n",
              "    </tr>\n",
              "    <tr>\n",
              "      <th>1</th>\n",
              "      <td>192</td>\n",
              "      <td>1002</td>\n",
              "      <td>332</td>\n",
              "      <td>2024-01-02</td>\n",
              "      <td>Electronics</td>\n",
              "      <td>4.2</td>\n",
              "    </tr>\n",
              "    <tr>\n",
              "      <th>2</th>\n",
              "      <td>114</td>\n",
              "      <td>1003</td>\n",
              "      <td>442</td>\n",
              "      <td>2024-01-03</td>\n",
              "      <td>Electronics</td>\n",
              "      <td>2.1</td>\n",
              "    </tr>\n",
              "    <tr>\n",
              "      <th>3</th>\n",
              "      <td>171</td>\n",
              "      <td>1004</td>\n",
              "      <td>256</td>\n",
              "      <td>2024-01-04</td>\n",
              "      <td>Clothing</td>\n",
              "      <td>2.8</td>\n",
              "    </tr>\n",
              "    <tr>\n",
              "      <th>4</th>\n",
              "      <td>160</td>\n",
              "      <td>1005</td>\n",
              "      <td>64</td>\n",
              "      <td>2024-01-05</td>\n",
              "      <td>Clothing</td>\n",
              "      <td>1.3</td>\n",
              "    </tr>\n",
              "    <tr>\n",
              "      <th>5</th>\n",
              "      <td>120</td>\n",
              "      <td>1006</td>\n",
              "      <td>395</td>\n",
              "      <td>2024-01-06</td>\n",
              "      <td>Groceries</td>\n",
              "      <td>1.1</td>\n",
              "    </tr>\n",
              "    <tr>\n",
              "      <th>6</th>\n",
              "      <td>182</td>\n",
              "      <td>1007</td>\n",
              "      <td>91</td>\n",
              "      <td>2024-01-07</td>\n",
              "      <td>Sports</td>\n",
              "      <td>4.9</td>\n",
              "    </tr>\n",
              "    <tr>\n",
              "      <th>7</th>\n",
              "      <td>186</td>\n",
              "      <td>1008</td>\n",
              "      <td>429</td>\n",
              "      <td>2024-01-08</td>\n",
              "      <td>Clothing</td>\n",
              "      <td>4.3</td>\n",
              "    </tr>\n",
              "    <tr>\n",
              "      <th>8</th>\n",
              "      <td>174</td>\n",
              "      <td>1009</td>\n",
              "      <td>228</td>\n",
              "      <td>2024-01-09</td>\n",
              "      <td>Electronics</td>\n",
              "      <td>3.8</td>\n",
              "    </tr>\n",
              "    <tr>\n",
              "      <th>9</th>\n",
              "      <td>174</td>\n",
              "      <td>1010</td>\n",
              "      <td>112</td>\n",
              "      <td>2024-01-10</td>\n",
              "      <td>Sports</td>\n",
              "      <td>2.6</td>\n",
              "    </tr>\n",
              "  </tbody>\n",
              "</table>\n",
              "</div>\n",
              "    <div class=\"colab-df-buttons\">\n",
              "\n",
              "  <div class=\"colab-df-container\">\n",
              "    <button class=\"colab-df-convert\" onclick=\"convertToInteractive('df-7f0941e6-7f77-41d9-a3bd-4c7722ae5dca')\"\n",
              "            title=\"Convert this dataframe to an interactive table.\"\n",
              "            style=\"display:none;\">\n",
              "\n",
              "  <svg xmlns=\"http://www.w3.org/2000/svg\" height=\"24px\" viewBox=\"0 -960 960 960\">\n",
              "    <path d=\"M120-120v-720h720v720H120Zm60-500h600v-160H180v160Zm220 220h160v-160H400v160Zm0 220h160v-160H400v160ZM180-400h160v-160H180v160Zm440 0h160v-160H620v160ZM180-180h160v-160H180v160Zm440 0h160v-160H620v160Z\"/>\n",
              "  </svg>\n",
              "    </button>\n",
              "\n",
              "  <style>\n",
              "    .colab-df-container {\n",
              "      display:flex;\n",
              "      gap: 12px;\n",
              "    }\n",
              "\n",
              "    .colab-df-convert {\n",
              "      background-color: #E8F0FE;\n",
              "      border: none;\n",
              "      border-radius: 50%;\n",
              "      cursor: pointer;\n",
              "      display: none;\n",
              "      fill: #1967D2;\n",
              "      height: 32px;\n",
              "      padding: 0 0 0 0;\n",
              "      width: 32px;\n",
              "    }\n",
              "\n",
              "    .colab-df-convert:hover {\n",
              "      background-color: #E2EBFA;\n",
              "      box-shadow: 0px 1px 2px rgba(60, 64, 67, 0.3), 0px 1px 3px 1px rgba(60, 64, 67, 0.15);\n",
              "      fill: #174EA6;\n",
              "    }\n",
              "\n",
              "    .colab-df-buttons div {\n",
              "      margin-bottom: 4px;\n",
              "    }\n",
              "\n",
              "    [theme=dark] .colab-df-convert {\n",
              "      background-color: #3B4455;\n",
              "      fill: #D2E3FC;\n",
              "    }\n",
              "\n",
              "    [theme=dark] .colab-df-convert:hover {\n",
              "      background-color: #434B5C;\n",
              "      box-shadow: 0px 1px 3px 1px rgba(0, 0, 0, 0.15);\n",
              "      filter: drop-shadow(0px 1px 2px rgba(0, 0, 0, 0.3));\n",
              "      fill: #FFFFFF;\n",
              "    }\n",
              "  </style>\n",
              "\n",
              "    <script>\n",
              "      const buttonEl =\n",
              "        document.querySelector('#df-7f0941e6-7f77-41d9-a3bd-4c7722ae5dca button.colab-df-convert');\n",
              "      buttonEl.style.display =\n",
              "        google.colab.kernel.accessAllowed ? 'block' : 'none';\n",
              "\n",
              "      async function convertToInteractive(key) {\n",
              "        const element = document.querySelector('#df-7f0941e6-7f77-41d9-a3bd-4c7722ae5dca');\n",
              "        const dataTable =\n",
              "          await google.colab.kernel.invokeFunction('convertToInteractive',\n",
              "                                                    [key], {});\n",
              "        if (!dataTable) return;\n",
              "\n",
              "        const docLinkHtml = 'Like what you see? Visit the ' +\n",
              "          '<a target=\"_blank\" href=https://colab.research.google.com/notebooks/data_table.ipynb>data table notebook</a>'\n",
              "          + ' to learn more about interactive tables.';\n",
              "        element.innerHTML = '';\n",
              "        dataTable['output_type'] = 'display_data';\n",
              "        await google.colab.output.renderOutput(dataTable, element);\n",
              "        const docLink = document.createElement('div');\n",
              "        docLink.innerHTML = docLinkHtml;\n",
              "        element.appendChild(docLink);\n",
              "      }\n",
              "    </script>\n",
              "  </div>\n",
              "\n",
              "\n",
              "<div id=\"df-3b52504b-f62f-41df-ad80-b88de0194969\">\n",
              "  <button class=\"colab-df-quickchart\" onclick=\"quickchart('df-3b52504b-f62f-41df-ad80-b88de0194969')\"\n",
              "            title=\"Suggest charts\"\n",
              "            style=\"display:none;\">\n",
              "\n",
              "<svg xmlns=\"http://www.w3.org/2000/svg\" height=\"24px\"viewBox=\"0 0 24 24\"\n",
              "     width=\"24px\">\n",
              "    <g>\n",
              "        <path d=\"M19 3H5c-1.1 0-2 .9-2 2v14c0 1.1.9 2 2 2h14c1.1 0 2-.9 2-2V5c0-1.1-.9-2-2-2zM9 17H7v-7h2v7zm4 0h-2V7h2v10zm4 0h-2v-4h2v4z\"/>\n",
              "    </g>\n",
              "</svg>\n",
              "  </button>\n",
              "\n",
              "<style>\n",
              "  .colab-df-quickchart {\n",
              "      --bg-color: #E8F0FE;\n",
              "      --fill-color: #1967D2;\n",
              "      --hover-bg-color: #E2EBFA;\n",
              "      --hover-fill-color: #174EA6;\n",
              "      --disabled-fill-color: #AAA;\n",
              "      --disabled-bg-color: #DDD;\n",
              "  }\n",
              "\n",
              "  [theme=dark] .colab-df-quickchart {\n",
              "      --bg-color: #3B4455;\n",
              "      --fill-color: #D2E3FC;\n",
              "      --hover-bg-color: #434B5C;\n",
              "      --hover-fill-color: #FFFFFF;\n",
              "      --disabled-bg-color: #3B4455;\n",
              "      --disabled-fill-color: #666;\n",
              "  }\n",
              "\n",
              "  .colab-df-quickchart {\n",
              "    background-color: var(--bg-color);\n",
              "    border: none;\n",
              "    border-radius: 50%;\n",
              "    cursor: pointer;\n",
              "    display: none;\n",
              "    fill: var(--fill-color);\n",
              "    height: 32px;\n",
              "    padding: 0;\n",
              "    width: 32px;\n",
              "  }\n",
              "\n",
              "  .colab-df-quickchart:hover {\n",
              "    background-color: var(--hover-bg-color);\n",
              "    box-shadow: 0 1px 2px rgba(60, 64, 67, 0.3), 0 1px 3px 1px rgba(60, 64, 67, 0.15);\n",
              "    fill: var(--button-hover-fill-color);\n",
              "  }\n",
              "\n",
              "  .colab-df-quickchart-complete:disabled,\n",
              "  .colab-df-quickchart-complete:disabled:hover {\n",
              "    background-color: var(--disabled-bg-color);\n",
              "    fill: var(--disabled-fill-color);\n",
              "    box-shadow: none;\n",
              "  }\n",
              "\n",
              "  .colab-df-spinner {\n",
              "    border: 2px solid var(--fill-color);\n",
              "    border-color: transparent;\n",
              "    border-bottom-color: var(--fill-color);\n",
              "    animation:\n",
              "      spin 1s steps(1) infinite;\n",
              "  }\n",
              "\n",
              "  @keyframes spin {\n",
              "    0% {\n",
              "      border-color: transparent;\n",
              "      border-bottom-color: var(--fill-color);\n",
              "      border-left-color: var(--fill-color);\n",
              "    }\n",
              "    20% {\n",
              "      border-color: transparent;\n",
              "      border-left-color: var(--fill-color);\n",
              "      border-top-color: var(--fill-color);\n",
              "    }\n",
              "    30% {\n",
              "      border-color: transparent;\n",
              "      border-left-color: var(--fill-color);\n",
              "      border-top-color: var(--fill-color);\n",
              "      border-right-color: var(--fill-color);\n",
              "    }\n",
              "    40% {\n",
              "      border-color: transparent;\n",
              "      border-right-color: var(--fill-color);\n",
              "      border-top-color: var(--fill-color);\n",
              "    }\n",
              "    60% {\n",
              "      border-color: transparent;\n",
              "      border-right-color: var(--fill-color);\n",
              "    }\n",
              "    80% {\n",
              "      border-color: transparent;\n",
              "      border-right-color: var(--fill-color);\n",
              "      border-bottom-color: var(--fill-color);\n",
              "    }\n",
              "    90% {\n",
              "      border-color: transparent;\n",
              "      border-bottom-color: var(--fill-color);\n",
              "    }\n",
              "  }\n",
              "</style>\n",
              "\n",
              "  <script>\n",
              "    async function quickchart(key) {\n",
              "      const quickchartButtonEl =\n",
              "        document.querySelector('#' + key + ' button');\n",
              "      quickchartButtonEl.disabled = true;  // To prevent multiple clicks.\n",
              "      quickchartButtonEl.classList.add('colab-df-spinner');\n",
              "      try {\n",
              "        const charts = await google.colab.kernel.invokeFunction(\n",
              "            'suggestCharts', [key], {});\n",
              "      } catch (error) {\n",
              "        console.error('Error during call to suggestCharts:', error);\n",
              "      }\n",
              "      quickchartButtonEl.classList.remove('colab-df-spinner');\n",
              "      quickchartButtonEl.classList.add('colab-df-quickchart-complete');\n",
              "    }\n",
              "    (() => {\n",
              "      let quickchartButtonEl =\n",
              "        document.querySelector('#df-3b52504b-f62f-41df-ad80-b88de0194969 button');\n",
              "      quickchartButtonEl.style.display =\n",
              "        google.colab.kernel.accessAllowed ? 'block' : 'none';\n",
              "    })();\n",
              "  </script>\n",
              "</div>\n",
              "\n",
              "    </div>\n",
              "  </div>\n"
            ],
            "application/vnd.google.colaboratory.intrinsic+json": {
              "type": "dataframe",
              "variable_name": "df",
              "summary": "{\n  \"name\": \"df\",\n  \"rows\": 150,\n  \"fields\": [\n    {\n      \"column\": \"customer_id_legacy\",\n      \"properties\": {\n        \"dtype\": \"number\",\n        \"std\": 30,\n        \"min\": 100,\n        \"max\": 199,\n        \"num_unique_values\": 75,\n        \"samples\": [\n          160,\n          128,\n          199\n        ],\n        \"semantic_type\": \"\",\n        \"description\": \"\"\n      }\n    },\n    {\n      \"column\": \"transaction_id\",\n      \"properties\": {\n        \"dtype\": \"number\",\n        \"std\": 43,\n        \"min\": 1001,\n        \"max\": 1150,\n        \"num_unique_values\": 150,\n        \"samples\": [\n          1074,\n          1019,\n          1119\n        ],\n        \"semantic_type\": \"\",\n        \"description\": \"\"\n      }\n    },\n    {\n      \"column\": \"purchase_amount\",\n      \"properties\": {\n        \"dtype\": \"number\",\n        \"std\": 121,\n        \"min\": 51,\n        \"max\": 495,\n        \"num_unique_values\": 120,\n        \"samples\": [\n          397,\n          434,\n          64\n        ],\n        \"semantic_type\": \"\",\n        \"description\": \"\"\n      }\n    },\n    {\n      \"column\": \"purchase_date\",\n      \"properties\": {\n        \"dtype\": \"object\",\n        \"num_unique_values\": 150,\n        \"samples\": [\n          \"2024-03-14\",\n          \"2024-01-19\",\n          \"2024-04-28\"\n        ],\n        \"semantic_type\": \"\",\n        \"description\": \"\"\n      }\n    },\n    {\n      \"column\": \"product_category\",\n      \"properties\": {\n        \"dtype\": \"category\",\n        \"num_unique_values\": 5,\n        \"samples\": [\n          \"Electronics\",\n          \"Books\",\n          \"Clothing\"\n        ],\n        \"semantic_type\": \"\",\n        \"description\": \"\"\n      }\n    },\n    {\n      \"column\": \"customer_rating\",\n      \"properties\": {\n        \"dtype\": \"number\",\n        \"std\": 1.2069895364116432,\n        \"min\": 1.0,\n        \"max\": 5.0,\n        \"num_unique_values\": 37,\n        \"samples\": [\n          4.0,\n          3.2,\n          1.3\n        ],\n        \"semantic_type\": \"\",\n        \"description\": \"\"\n      }\n    }\n  ]\n}"
            }
          },
          "metadata": {},
          "execution_count": 51
        }
      ]
    },
    {
      "cell_type": "code",
      "source": [
        "# Get information about data types and missing values\n",
        "df.info()\n",
        "\n",
        "# Get summary statistics\n",
        "df.describe()"
      ],
      "metadata": {
        "colab": {
          "base_uri": "https://localhost:8080/",
          "height": 526
        },
        "id": "-sLkUFx_V-Y6",
        "outputId": "8fea749f-c977-4e32-bebb-f1b698b68a0a"
      },
      "execution_count": 52,
      "outputs": [
        {
          "output_type": "stream",
          "name": "stdout",
          "text": [
            "<class 'pandas.core.frame.DataFrame'>\n",
            "RangeIndex: 150 entries, 0 to 149\n",
            "Data columns (total 6 columns):\n",
            " #   Column              Non-Null Count  Dtype  \n",
            "---  ------              --------------  -----  \n",
            " 0   customer_id_legacy  150 non-null    int64  \n",
            " 1   transaction_id      150 non-null    int64  \n",
            " 2   purchase_amount     150 non-null    int64  \n",
            " 3   purchase_date       150 non-null    object \n",
            " 4   product_category    150 non-null    object \n",
            " 5   customer_rating     140 non-null    float64\n",
            "dtypes: float64(1), int64(3), object(2)\n",
            "memory usage: 7.2+ KB\n"
          ]
        },
        {
          "output_type": "execute_result",
          "data": {
            "text/plain": [
              "       customer_id_legacy  transaction_id  purchase_amount  customer_rating\n",
              "count          150.000000      150.000000       150.000000        140.00000\n",
              "mean           148.760000     1075.500000       280.780000          2.98500\n",
              "std             30.046425       43.445368       121.329595          1.20699\n",
              "min            100.000000     1001.000000        51.000000          1.00000\n",
              "25%            121.250000     1038.250000       179.000000          1.95000\n",
              "50%            150.500000     1075.500000       274.000000          3.00000\n",
              "75%            174.750000     1112.750000       388.500000          4.00000\n",
              "max            199.000000     1150.000000       495.000000          5.00000"
            ],
            "text/html": [
              "\n",
              "  <div id=\"df-8a9e62f2-fa83-4ec7-9113-2c9e03d34fc2\" class=\"colab-df-container\">\n",
              "    <div>\n",
              "<style scoped>\n",
              "    .dataframe tbody tr th:only-of-type {\n",
              "        vertical-align: middle;\n",
              "    }\n",
              "\n",
              "    .dataframe tbody tr th {\n",
              "        vertical-align: top;\n",
              "    }\n",
              "\n",
              "    .dataframe thead th {\n",
              "        text-align: right;\n",
              "    }\n",
              "</style>\n",
              "<table border=\"1\" class=\"dataframe\">\n",
              "  <thead>\n",
              "    <tr style=\"text-align: right;\">\n",
              "      <th></th>\n",
              "      <th>customer_id_legacy</th>\n",
              "      <th>transaction_id</th>\n",
              "      <th>purchase_amount</th>\n",
              "      <th>customer_rating</th>\n",
              "    </tr>\n",
              "  </thead>\n",
              "  <tbody>\n",
              "    <tr>\n",
              "      <th>count</th>\n",
              "      <td>150.000000</td>\n",
              "      <td>150.000000</td>\n",
              "      <td>150.000000</td>\n",
              "      <td>140.00000</td>\n",
              "    </tr>\n",
              "    <tr>\n",
              "      <th>mean</th>\n",
              "      <td>148.760000</td>\n",
              "      <td>1075.500000</td>\n",
              "      <td>280.780000</td>\n",
              "      <td>2.98500</td>\n",
              "    </tr>\n",
              "    <tr>\n",
              "      <th>std</th>\n",
              "      <td>30.046425</td>\n",
              "      <td>43.445368</td>\n",
              "      <td>121.329595</td>\n",
              "      <td>1.20699</td>\n",
              "    </tr>\n",
              "    <tr>\n",
              "      <th>min</th>\n",
              "      <td>100.000000</td>\n",
              "      <td>1001.000000</td>\n",
              "      <td>51.000000</td>\n",
              "      <td>1.00000</td>\n",
              "    </tr>\n",
              "    <tr>\n",
              "      <th>25%</th>\n",
              "      <td>121.250000</td>\n",
              "      <td>1038.250000</td>\n",
              "      <td>179.000000</td>\n",
              "      <td>1.95000</td>\n",
              "    </tr>\n",
              "    <tr>\n",
              "      <th>50%</th>\n",
              "      <td>150.500000</td>\n",
              "      <td>1075.500000</td>\n",
              "      <td>274.000000</td>\n",
              "      <td>3.00000</td>\n",
              "    </tr>\n",
              "    <tr>\n",
              "      <th>75%</th>\n",
              "      <td>174.750000</td>\n",
              "      <td>1112.750000</td>\n",
              "      <td>388.500000</td>\n",
              "      <td>4.00000</td>\n",
              "    </tr>\n",
              "    <tr>\n",
              "      <th>max</th>\n",
              "      <td>199.000000</td>\n",
              "      <td>1150.000000</td>\n",
              "      <td>495.000000</td>\n",
              "      <td>5.00000</td>\n",
              "    </tr>\n",
              "  </tbody>\n",
              "</table>\n",
              "</div>\n",
              "    <div class=\"colab-df-buttons\">\n",
              "\n",
              "  <div class=\"colab-df-container\">\n",
              "    <button class=\"colab-df-convert\" onclick=\"convertToInteractive('df-8a9e62f2-fa83-4ec7-9113-2c9e03d34fc2')\"\n",
              "            title=\"Convert this dataframe to an interactive table.\"\n",
              "            style=\"display:none;\">\n",
              "\n",
              "  <svg xmlns=\"http://www.w3.org/2000/svg\" height=\"24px\" viewBox=\"0 -960 960 960\">\n",
              "    <path d=\"M120-120v-720h720v720H120Zm60-500h600v-160H180v160Zm220 220h160v-160H400v160Zm0 220h160v-160H400v160ZM180-400h160v-160H180v160Zm440 0h160v-160H620v160ZM180-180h160v-160H180v160Zm440 0h160v-160H620v160Z\"/>\n",
              "  </svg>\n",
              "    </button>\n",
              "\n",
              "  <style>\n",
              "    .colab-df-container {\n",
              "      display:flex;\n",
              "      gap: 12px;\n",
              "    }\n",
              "\n",
              "    .colab-df-convert {\n",
              "      background-color: #E8F0FE;\n",
              "      border: none;\n",
              "      border-radius: 50%;\n",
              "      cursor: pointer;\n",
              "      display: none;\n",
              "      fill: #1967D2;\n",
              "      height: 32px;\n",
              "      padding: 0 0 0 0;\n",
              "      width: 32px;\n",
              "    }\n",
              "\n",
              "    .colab-df-convert:hover {\n",
              "      background-color: #E2EBFA;\n",
              "      box-shadow: 0px 1px 2px rgba(60, 64, 67, 0.3), 0px 1px 3px 1px rgba(60, 64, 67, 0.15);\n",
              "      fill: #174EA6;\n",
              "    }\n",
              "\n",
              "    .colab-df-buttons div {\n",
              "      margin-bottom: 4px;\n",
              "    }\n",
              "\n",
              "    [theme=dark] .colab-df-convert {\n",
              "      background-color: #3B4455;\n",
              "      fill: #D2E3FC;\n",
              "    }\n",
              "\n",
              "    [theme=dark] .colab-df-convert:hover {\n",
              "      background-color: #434B5C;\n",
              "      box-shadow: 0px 1px 3px 1px rgba(0, 0, 0, 0.15);\n",
              "      filter: drop-shadow(0px 1px 2px rgba(0, 0, 0, 0.3));\n",
              "      fill: #FFFFFF;\n",
              "    }\n",
              "  </style>\n",
              "\n",
              "    <script>\n",
              "      const buttonEl =\n",
              "        document.querySelector('#df-8a9e62f2-fa83-4ec7-9113-2c9e03d34fc2 button.colab-df-convert');\n",
              "      buttonEl.style.display =\n",
              "        google.colab.kernel.accessAllowed ? 'block' : 'none';\n",
              "\n",
              "      async function convertToInteractive(key) {\n",
              "        const element = document.querySelector('#df-8a9e62f2-fa83-4ec7-9113-2c9e03d34fc2');\n",
              "        const dataTable =\n",
              "          await google.colab.kernel.invokeFunction('convertToInteractive',\n",
              "                                                    [key], {});\n",
              "        if (!dataTable) return;\n",
              "\n",
              "        const docLinkHtml = 'Like what you see? Visit the ' +\n",
              "          '<a target=\"_blank\" href=https://colab.research.google.com/notebooks/data_table.ipynb>data table notebook</a>'\n",
              "          + ' to learn more about interactive tables.';\n",
              "        element.innerHTML = '';\n",
              "        dataTable['output_type'] = 'display_data';\n",
              "        await google.colab.output.renderOutput(dataTable, element);\n",
              "        const docLink = document.createElement('div');\n",
              "        docLink.innerHTML = docLinkHtml;\n",
              "        element.appendChild(docLink);\n",
              "      }\n",
              "    </script>\n",
              "  </div>\n",
              "\n",
              "\n",
              "<div id=\"df-9cead176-3e50-40d6-af02-64f44ed69358\">\n",
              "  <button class=\"colab-df-quickchart\" onclick=\"quickchart('df-9cead176-3e50-40d6-af02-64f44ed69358')\"\n",
              "            title=\"Suggest charts\"\n",
              "            style=\"display:none;\">\n",
              "\n",
              "<svg xmlns=\"http://www.w3.org/2000/svg\" height=\"24px\"viewBox=\"0 0 24 24\"\n",
              "     width=\"24px\">\n",
              "    <g>\n",
              "        <path d=\"M19 3H5c-1.1 0-2 .9-2 2v14c0 1.1.9 2 2 2h14c1.1 0 2-.9 2-2V5c0-1.1-.9-2-2-2zM9 17H7v-7h2v7zm4 0h-2V7h2v10zm4 0h-2v-4h2v4z\"/>\n",
              "    </g>\n",
              "</svg>\n",
              "  </button>\n",
              "\n",
              "<style>\n",
              "  .colab-df-quickchart {\n",
              "      --bg-color: #E8F0FE;\n",
              "      --fill-color: #1967D2;\n",
              "      --hover-bg-color: #E2EBFA;\n",
              "      --hover-fill-color: #174EA6;\n",
              "      --disabled-fill-color: #AAA;\n",
              "      --disabled-bg-color: #DDD;\n",
              "  }\n",
              "\n",
              "  [theme=dark] .colab-df-quickchart {\n",
              "      --bg-color: #3B4455;\n",
              "      --fill-color: #D2E3FC;\n",
              "      --hover-bg-color: #434B5C;\n",
              "      --hover-fill-color: #FFFFFF;\n",
              "      --disabled-bg-color: #3B4455;\n",
              "      --disabled-fill-color: #666;\n",
              "  }\n",
              "\n",
              "  .colab-df-quickchart {\n",
              "    background-color: var(--bg-color);\n",
              "    border: none;\n",
              "    border-radius: 50%;\n",
              "    cursor: pointer;\n",
              "    display: none;\n",
              "    fill: var(--fill-color);\n",
              "    height: 32px;\n",
              "    padding: 0;\n",
              "    width: 32px;\n",
              "  }\n",
              "\n",
              "  .colab-df-quickchart:hover {\n",
              "    background-color: var(--hover-bg-color);\n",
              "    box-shadow: 0 1px 2px rgba(60, 64, 67, 0.3), 0 1px 3px 1px rgba(60, 64, 67, 0.15);\n",
              "    fill: var(--button-hover-fill-color);\n",
              "  }\n",
              "\n",
              "  .colab-df-quickchart-complete:disabled,\n",
              "  .colab-df-quickchart-complete:disabled:hover {\n",
              "    background-color: var(--disabled-bg-color);\n",
              "    fill: var(--disabled-fill-color);\n",
              "    box-shadow: none;\n",
              "  }\n",
              "\n",
              "  .colab-df-spinner {\n",
              "    border: 2px solid var(--fill-color);\n",
              "    border-color: transparent;\n",
              "    border-bottom-color: var(--fill-color);\n",
              "    animation:\n",
              "      spin 1s steps(1) infinite;\n",
              "  }\n",
              "\n",
              "  @keyframes spin {\n",
              "    0% {\n",
              "      border-color: transparent;\n",
              "      border-bottom-color: var(--fill-color);\n",
              "      border-left-color: var(--fill-color);\n",
              "    }\n",
              "    20% {\n",
              "      border-color: transparent;\n",
              "      border-left-color: var(--fill-color);\n",
              "      border-top-color: var(--fill-color);\n",
              "    }\n",
              "    30% {\n",
              "      border-color: transparent;\n",
              "      border-left-color: var(--fill-color);\n",
              "      border-top-color: var(--fill-color);\n",
              "      border-right-color: var(--fill-color);\n",
              "    }\n",
              "    40% {\n",
              "      border-color: transparent;\n",
              "      border-right-color: var(--fill-color);\n",
              "      border-top-color: var(--fill-color);\n",
              "    }\n",
              "    60% {\n",
              "      border-color: transparent;\n",
              "      border-right-color: var(--fill-color);\n",
              "    }\n",
              "    80% {\n",
              "      border-color: transparent;\n",
              "      border-right-color: var(--fill-color);\n",
              "      border-bottom-color: var(--fill-color);\n",
              "    }\n",
              "    90% {\n",
              "      border-color: transparent;\n",
              "      border-bottom-color: var(--fill-color);\n",
              "    }\n",
              "  }\n",
              "</style>\n",
              "\n",
              "  <script>\n",
              "    async function quickchart(key) {\n",
              "      const quickchartButtonEl =\n",
              "        document.querySelector('#' + key + ' button');\n",
              "      quickchartButtonEl.disabled = true;  // To prevent multiple clicks.\n",
              "      quickchartButtonEl.classList.add('colab-df-spinner');\n",
              "      try {\n",
              "        const charts = await google.colab.kernel.invokeFunction(\n",
              "            'suggestCharts', [key], {});\n",
              "      } catch (error) {\n",
              "        console.error('Error during call to suggestCharts:', error);\n",
              "      }\n",
              "      quickchartButtonEl.classList.remove('colab-df-spinner');\n",
              "      quickchartButtonEl.classList.add('colab-df-quickchart-complete');\n",
              "    }\n",
              "    (() => {\n",
              "      let quickchartButtonEl =\n",
              "        document.querySelector('#df-9cead176-3e50-40d6-af02-64f44ed69358 button');\n",
              "      quickchartButtonEl.style.display =\n",
              "        google.colab.kernel.accessAllowed ? 'block' : 'none';\n",
              "    })();\n",
              "  </script>\n",
              "</div>\n",
              "\n",
              "    </div>\n",
              "  </div>\n"
            ],
            "application/vnd.google.colaboratory.intrinsic+json": {
              "type": "dataframe",
              "summary": "{\n  \"name\": \"df\",\n  \"rows\": 8,\n  \"fields\": [\n    {\n      \"column\": \"customer_id_legacy\",\n      \"properties\": {\n        \"dtype\": \"number\",\n        \"std\": 51.76307760304677,\n        \"min\": 30.046424928878164,\n        \"max\": 199.0,\n        \"num_unique_values\": 8,\n        \"samples\": [\n          148.76,\n          150.5,\n          150.0\n        ],\n        \"semantic_type\": \"\",\n        \"description\": \"\"\n      }\n    },\n    {\n      \"column\": \"transaction_id\",\n      \"properties\": {\n        \"dtype\": \"number\",\n        \"std\": 456.15788640188606,\n        \"min\": 43.445367992456916,\n        \"max\": 1150.0,\n        \"num_unique_values\": 7,\n        \"samples\": [\n          150.0,\n          1075.5,\n          1112.75\n        ],\n        \"semantic_type\": \"\",\n        \"description\": \"\"\n      }\n    },\n    {\n      \"column\": \"purchase_amount\",\n      \"properties\": {\n        \"dtype\": \"number\",\n        \"std\": 147.10193563874716,\n        \"min\": 51.0,\n        \"max\": 495.0,\n        \"num_unique_values\": 8,\n        \"samples\": [\n          280.78,\n          274.0,\n          150.0\n        ],\n        \"semantic_type\": \"\",\n        \"description\": \"\"\n      }\n    },\n    {\n      \"column\": \"customer_rating\",\n      \"properties\": {\n        \"dtype\": \"number\",\n        \"std\": 48.54952985580822,\n        \"min\": 1.0,\n        \"max\": 140.0,\n        \"num_unique_values\": 8,\n        \"samples\": [\n          2.985,\n          3.0,\n          140.0\n        ],\n        \"semantic_type\": \"\",\n        \"description\": \"\"\n      }\n    }\n  ]\n}"
            }
          },
          "metadata": {},
          "execution_count": 52
        }
      ]
    },
    {
      "cell_type": "markdown",
      "source": [
        "#Step 2: Data Cleaning & Handling Missing Values"
      ],
      "metadata": {
        "id": "IUC3Tn2Uy-bn"
      }
    },
    {
      "cell_type": "code",
      "source": [
        "# Check for missing values\n",
        "print(df.isnull().sum())"
      ],
      "metadata": {
        "colab": {
          "base_uri": "https://localhost:8080/"
        },
        "id": "XYrhNjvWvD6Y",
        "outputId": "05f02c24-c4da-4957-ad0b-47ca2f9a890b"
      },
      "execution_count": 53,
      "outputs": [
        {
          "output_type": "stream",
          "name": "stdout",
          "text": [
            "customer_id_legacy     0\n",
            "transaction_id         0\n",
            "purchase_amount        0\n",
            "purchase_date          0\n",
            "product_category       0\n",
            "customer_rating       10\n",
            "dtype: int64\n"
          ]
        }
      ]
    },
    {
      "cell_type": "code",
      "source": [
        "# Fill missing customer_rating values with median imputation:\n",
        "df['customer_rating'].fillna(df['customer_rating'].median(), inplace=True)"
      ],
      "metadata": {
        "colab": {
          "base_uri": "https://localhost:8080/"
        },
        "id": "JWuQfYw-vXF9",
        "outputId": "f631e5fa-fe0e-47ae-b439-9f58c8d144f8"
      },
      "execution_count": 55,
      "outputs": [
        {
          "output_type": "stream",
          "name": "stderr",
          "text": [
            "<ipython-input-55-7defe411dded>:2: FutureWarning: A value is trying to be set on a copy of a DataFrame or Series through chained assignment using an inplace method.\n",
            "The behavior will change in pandas 3.0. This inplace method will never work because the intermediate object on which we are setting values always behaves as a copy.\n",
            "\n",
            "For example, when doing 'df[col].method(value, inplace=True)', try using 'df.method({col: value}, inplace=True)' or df[col] = df[col].method(value) instead, to perform the operation inplace on the original object.\n",
            "\n",
            "\n",
            "  df['customer_rating'].fillna(df['customer_rating'].median(), inplace=True)\n"
          ]
        }
      ]
    },
    {
      "cell_type": "code",
      "source": [
        "# Other imputation alternative for 'purchase_amount' (if it had missing values)\n",
        "# df['purchase_amount'].fillna(df['purchase_amount'].mean(), inplace=True)\n",
        "\n",
        "# # Other imputation alternative for 'product_category' (if it had missing values)\n",
        "# df['product_category'].fillna(df['product_category'].mode()[0], inplace=True)\n"
      ],
      "metadata": {
        "id": "5-rWKCY_ZFTa"
      },
      "execution_count": null,
      "outputs": []
    },
    {
      "cell_type": "code",
      "source": [
        "# Check for missing values again\n",
        "print(df.isnull().sum())"
      ],
      "metadata": {
        "colab": {
          "base_uri": "https://localhost:8080/"
        },
        "id": "AVc9unV4vfqJ",
        "outputId": "f35687da-6b10-4571-dfc2-67b7be53263e",
        "collapsed": true
      },
      "execution_count": 6,
      "outputs": [
        {
          "output_type": "stream",
          "name": "stdout",
          "text": [
            "customer_id_legacy    0\n",
            "transaction_id        0\n",
            "purchase_amount       0\n",
            "purchase_date         0\n",
            "product_category      0\n",
            "customer_rating       0\n",
            "dtype: int64\n"
          ]
        }
      ]
    },
    {
      "cell_type": "markdown",
      "source": [
        "#Step 3: Data Augmentation Strategies"
      ],
      "metadata": {
        "id": "faaqsQhbzQLY"
      }
    },
    {
      "cell_type": "code",
      "source": [
        "# Let Product_category be the target variable\n",
        "target_distribution = df['product_category'].value_counts()\n",
        "\n",
        "# Print the target distribution\n",
        "print(target_distribution)"
      ],
      "metadata": {
        "colab": {
          "base_uri": "https://localhost:8080/"
        },
        "id": "6uRsjAloa9rO",
        "outputId": "aa238820-0354-405b-b34a-c4efcaae72ba"
      },
      "execution_count": 56,
      "outputs": [
        {
          "output_type": "stream",
          "name": "stdout",
          "text": [
            "product_category\n",
            "Sports         35\n",
            "Electronics    34\n",
            "Clothing       28\n",
            "Groceries      28\n",
            "Books          25\n",
            "Name: count, dtype: int64\n"
          ]
        }
      ]
    },
    {
      "cell_type": "code",
      "source": [],
      "metadata": {
        "id": "Tl9RkcpCbGig"
      },
      "execution_count": null,
      "outputs": []
    },
    {
      "cell_type": "code",
      "source": [
        "import matplotlib.pyplot as plt\n",
        "import seaborn as sns\n",
        "# Visualize the class distribution\n",
        "plt.figure(figsize=(10, 7))\n",
        "sns.countplot(x='product_category', data=df)\n",
        "plt.title('Class Distribution of Purchase Category Graph')\n",
        "plt.xlabel('Purchase Category')\n",
        "plt.ylabel('Count')\n",
        "plt.show()"
      ],
      "metadata": {
        "colab": {
          "base_uri": "https://localhost:8080/",
          "height": 543
        },
        "id": "byfcrCJJbCHL",
        "outputId": "39f05b88-9e35-44e9-8b35-a54b1a765083"
      },
      "execution_count": 57,
      "outputs": [
        {
          "output_type": "display_data",
          "data": {
            "text/plain": [
              "<Figure size 1000x700 with 1 Axes>"
            ],
            "image/png": "[encoded data removed]"
          },
          "metadata": {}
        }
      ]
    },
    {
      "cell_type": "code",
      "source": [
        "# Add random noise to purchase_amount\n",
        "noise = np.random.normal(0, 10, size=len(df))\n",
        "df['purchase_amount'] = df['purchase_amount'] + noise"
      ],
      "metadata": {
        "id": "8Vxo1QbWclCM"
      },
      "execution_count": 58,
      "outputs": []
    },
    {
      "cell_type": "code",
      "source": [
        "from sklearn.preprocessing import LabelEncoder\n",
        "\n",
        "le = LabelEncoder()\n",
        "df['product_category_encoded'] = le.fit_transform(df['product_category'])\n"
      ],
      "metadata": {
        "id": "RvGXd-CkfSMu"
      },
      "execution_count": 59,
      "outputs": []
    },
    {
      "cell_type": "code",
      "source": [
        "# Apply SMOTE to balance the dataset\n",
        "from imblearn.over_sampling import SMOTE\n",
        "\n",
        "numerical_cols = df.select_dtypes(include=['float64', 'int64']).columns.tolist()\n",
        "numerical_cols_for_smote = [col for col in numerical_cols if col != 'purchase_date']\n",
        "X = df[numerical_cols_for_smote]\n",
        "y = df['product_category']\n",
        "smote = SMOTE(random_state=42)\n",
        "X_resampled, y_resampled = smote.fit_resample(X, y)"
      ],
      "metadata": {
        "id": "80JOGc1ObICG"
      },
      "execution_count": 60,
      "outputs": []
    },
    {
      "cell_type": "code",
      "source": [
        "#Create a DataFrame with resampled data, adding back 'purchase_date' and 'product_category'\n",
        "df_resampled = pd.DataFrame(X_resampled, columns=numerical_cols_for_smote)\n",
        "# Instead of assigning original values, repeat the purchase_date values to match the new length\n",
        "df_resampled['purchase_date'] = np.tile(df['purchase_date'].values, int(np.ceil(len(df_resampled) / len(df))))[:len(df_resampled)]\n",
        "df_resampled['product_category'] = y_resampled\n",
        "\n",
        "print(\"Before SMOTE:\\n\", df['product_category'].value_counts())\n",
        "print(\"After SMOTE:\\n\", pd.Series(y_resampled).value_counts())\n",
        "print(df_resampled['product_category'].value_counts())\n",
        "print(df_resampled.dtypes)\n",
        ""
      ],
      "metadata": {
        "id": "jzDqa3PPv3Pt",
        "colab": {
          "base_uri": "https://localhost:8080/"
        },
        "outputId": "94fdf8ba-6619-49dd-e5b3-c6c2a4133ebd"
      },
      "execution_count": 62,
      "outputs": [
        {
          "output_type": "stream",
          "name": "stdout",
          "text": [
            "Before SMOTE:\n",
            " product_category\n",
            "Sports         35\n",
            "Electronics    34\n",
            "Clothing       28\n",
            "Groceries      28\n",
            "Books          25\n",
            "Name: count, dtype: int64\n",
            "product_category\n",
            "Sports         35\n",
            "Electronics    35\n",
            "Clothing       35\n",
            "Groceries      35\n",
            "Books          35\n",
            "Name: count, dtype: int64\n",
            "customer_id_legacy            int64\n",
            "transaction_id                int64\n",
            "purchase_amount             float64\n",
            "customer_rating             float64\n",
            "product_category_encoded      int64\n",
            "purchase_date                object\n",
            "product_category             object\n",
            "dtype: object\n"
          ]
        }
      ]
    },
    {
      "cell_type": "code",
      "source": [
        "# Feature Value Transformation\n",
        "for col in numerical_cols:\n",
        "    skewness = df_resampled[col].skew()\n",
        "    print(f\"Skewness of {col}: {skewness}\")\n",
        "    if skewness > 1:\n",
        "        df_resampled[f'{col}_log'] = np.log1p(df_resampled[col])\n",
        "\n",
        "# Display the updated DataFrame\n",
        "print(\"\\nDataFrame After Feature Transformation:\")\n",
        "print(df_resampled.head())"
      ],
      "metadata": {
        "id": "8r7flxWcKnOa",
        "colab": {
          "base_uri": "https://localhost:8080/"
        },
        "outputId": "ac3b47d5-9193-4751-b43e-2e53bf51db57"
      },
      "execution_count": 44,
      "outputs": [
        {
          "output_type": "stream",
          "name": "stdout",
          "text": [
            "Skewness of customer_id_legacy: -0.13777956327176014\n",
            "Skewness of transaction_id: -0.03441872903922623\n",
            "Skewness of purchase_amount: 0.029743321096365568\n",
            "Skewness of customer_rating: -0.06802702558836538\n",
            "Skewness of product_category_encoded: 0.0\n",
            "\n",
            "DataFrame After Feature Transformation:\n",
            "   customer_id_legacy  transaction_id  purchase_amount  customer_rating  \\\n",
            "0                 151            1001       403.744590              2.3   \n",
            "1                 192            1002       323.526361              4.2   \n",
            "2                 114            1003       448.681937              2.1   \n",
            "3                 171            1004       263.368569              2.8   \n",
            "4                 160            1005        55.900772              1.3   \n",
            "\n",
            "   product_category_encoded purchase_date product_category  \n",
            "0                         4    2024-01-01           Sports  \n",
            "1                         2    2024-01-02      Electronics  \n",
            "2                         2    2024-01-03      Electronics  \n",
            "3                         1    2024-01-04         Clothing  \n",
            "4                         1    2024-01-05         Clothing  \n"
          ]
        }
      ]
    },
    {
      "cell_type": "code",
      "source": [
        "# Step 3.3: Create 'purchase_amount_noisy' column by adding random noise to 'purchase_amount'\n",
        "df_resampled['purchase_amount_noisy'] = df_resampled['purchase_amount'] * np.random.uniform(0.9, 1.1, size=len(df_resampled))\n",
        "\n",
        "# Step 3.4: Data Expansion\n",
        "augmented_data = []\n",
        "target_samples_per_class = 42\n"
      ],
      "metadata": {
        "id": "oMjkj5MzwczL"
      },
      "execution_count": 45,
      "outputs": []
    },
    {
      "cell_type": "markdown",
      "source": [
        "#Synthetic Data Generation"
      ],
      "metadata": {
        "id": "ZNHwaUMD_OQp"
      }
    },
    {
      "cell_type": "code",
      "source": [
        "# 3. Synthetic Data Generation\n",
        "# This function generates synthetic data by introducing variations to existing data points.\n",
        "# It helps to increase the size of the dataset and improve model generalization.\n",
        "# The variations are applied to purchase amount, product category, purchase date, and customer rating.\n",
        "\n",
        "def generate_synthetic_data(df, num_samples=100):\n",
        "    synthetic_data = df.sample(n=num_samples, replace=True).copy()  # <- Fix: Ensure a new copy\n",
        "\n",
        "    # Apply variations\n",
        "    synthetic_data['purchase_amount'] *= np.random.uniform(0.9, 1.1, size=num_samples)\n",
        "    synthetic_data['product_category'] = np.random.choice(df['product_category'].unique(), size=num_samples)\n",
        "\n",
        "    # Convert and modify dates\n",
        "    synthetic_data['purchase_date'] = pd.to_datetime(synthetic_data['purchase_date'], errors='coerce')\n",
        "    synthetic_data['purchase_date'] += pd.to_timedelta(np.random.randint(-3, 3, size=num_samples), unit='days')\n",
        "\n",
        "    # Modify customer ratings within valid range\n",
        "    synthetic_data['customer_rating'] += np.random.uniform(-0.2, 0.2, size=num_samples)\n",
        "    synthetic_data['customer_rating'] = synthetic_data['customer_rating'].clip(lower=df['customer_rating'].min(),\n",
        "                                                                              upper=df['customer_rating'].max())\n",
        "\n",
        "    return synthetic_data\n",
        "\n",
        "# Generate synthetic data and combine correctly\n",
        "synthetic_data = generate_synthetic_data(df)\n",
        "df_augmented = pd.concat([df_resampled, synthetic_data], ignore_index=True)\n",
        "\n",
        "# Check results\n",
        "print(\"\\nShape of Augmented Dataset:\", df_augmented.shape)\n",
        "print(\"\\nClass Distribution After Data Expansion:\")\n",
        "print(df_augmented['product_category'].value_counts())\n"
      ],
      "metadata": {
        "id": "xroYt-Iu3eC9",
        "colab": {
          "base_uri": "https://localhost:8080/"
        },
        "outputId": "fba33b1e-89d8-4961-9283-8a364e0e265a"
      },
      "execution_count": 50,
      "outputs": [
        {
          "output_type": "stream",
          "name": "stdout",
          "text": [
            "\n",
            "Shape of Augmented Dataset: (275, 7)\n",
            "\n",
            "Class Distribution After Data Expansion:\n",
            "product_category\n",
            "Groceries      57\n",
            "Sports         56\n",
            "Electronics    56\n",
            "Clothing       54\n",
            "Books          52\n",
            "Name: count, dtype: int64\n"
          ]
        }
      ]
    },
    {
      "cell_type": "markdown",
      "source": [
        "#Feature Engineering"
      ],
      "metadata": {
        "id": "NLohQTwz_gjI"
      }
    },
    {
      "cell_type": "code",
      "source": [
        "# 1. Extract purchase_month\n",
        "df_augmented['purchase_month'] = pd.to_datetime(df_augmented['purchase_date']).dt.month\n",
        "\n",
        "# 2. Calculate avg_purchase_amount per customer\n",
        "avg_purchase = df_augmented.groupby('customer_id_legacy')['purchase_amount'].mean().reset_index()\n",
        "avg_purchase.columns = ['customer_id_legacy', 'avg_purchase_amount']\n",
        "df_augmented = pd.merge(df_augmented, avg_purchase, on='customer_id_legacy', how='left')"
      ],
      "metadata": {
        "id": "dkI3n6KL3ofc"
      },
      "execution_count": 28,
      "outputs": []
    },
    {
      "cell_type": "code",
      "source": [
        "# 3. Calculate days_since_last_purchase\n",
        "df_augmented.sort_values(by=['customer_id_legacy', 'purchase_date'], inplace=True)\n",
        "df_augmented['purchase_date'] = pd.to_datetime(df_augmented['purchase_date'], errors='coerce')\n",
        "df_augmented.dropna(subset=['purchase_date'], inplace=True)\n",
        "df_augmented['days_since_last_purchase'] = df_augmented.groupby('customer_id_legacy')['purchase_date'].diff().dt.days\n",
        "df_augmented['days_since_last_purchase'].fillna(0, inplace=True)"
      ],
      "metadata": {
        "id": "0eu6TrSnGVly",
        "colab": {
          "base_uri": "https://localhost:8080/"
        },
        "outputId": "e75a56ac-5cec-4600-d8f1-e2e522e2ba49"
      },
      "execution_count": 29,
      "outputs": [
        {
          "output_type": "stream",
          "name": "stderr",
          "text": [
            "<ipython-input-29-f5db9a43e470>:6: FutureWarning: A value is trying to be set on a copy of a DataFrame or Series through chained assignment using an inplace method.\n",
            "The behavior will change in pandas 3.0. This inplace method will never work because the intermediate object on which we are setting values always behaves as a copy.\n",
            "\n",
            "For example, when doing 'df[col].method(value, inplace=True)', try using 'df.method({col: value}, inplace=True)' or df[col] = df[col].method(value) instead, to perform the operation inplace on the original object.\n",
            "\n",
            "\n",
            "  df_augmented['days_since_last_purchase'].fillna(0, inplace=True)\n"
          ]
        }
      ]
    },
    {
      "cell_type": "markdown",
      "source": [
        "#Export the Augmented Dataset"
      ],
      "metadata": {
        "id": "a7NhUQax_VNN"
      }
    },
    {
      "cell_type": "code",
      "source": [
        "# Save the augmented dataset\n",
        "df_augmented.to_csv('customer_transactions_augmented.csv', index=False)"
      ],
      "metadata": {
        "id": "Wkbp2aaq3sdh"
      },
      "execution_count": null,
      "outputs": []
    }
  ]
}