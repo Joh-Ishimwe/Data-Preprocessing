{
  "nbformat": 4,
  "nbformat_minor": 0,
  "metadata": {
    "colab": {
      "provenance": [],
      "authorship_tag": "ABX9TyMKCwte2omxFrhI+KkjJ8Lz",
      "include_colab_link": true
    },
    "kernelspec": {
      "name": "python3",
      "display_name": "Python 3"
    },
    "language_info": {
      "name": "python"
    }
  },
  "cells": [
    {
      "cell_type": "markdown",
      "metadata": {
        "id": "view-in-github",
        "colab_type": "text"
      },
      "source": [
        "<a href=\"https://colab.research.google.com/github/Joh-Ishimwe/Data-Preprocessing/blob/master/Formative_2_Data_Preprocessing_Assignment_for_Machine_Learning_Pipeline.ipynb\" target=\"_parent\"><img src=\"https://colab.research.google.com/assets/colab-badge.svg\" alt=\"Open In Colab\"/></a>"
      ]
    },
    {
      "cell_type": "markdown",
      "source": [
        "# Formative 2: Data Preprocessing Assignment for Machine Learning Pipeline\n",
        "**Team Members**:  \n",
        "\n",
        "*   Liliane Kayitesi\n",
        "*   Ines Ikirezi\n",
        "*   Josiane Ishimwe\n",
        "\n",
        "\n",
        "**Group Number**: 7  \n",
        "\n",
        "---\n",
        "## Part 1: Data Augmentation on CSV Files"
      ],
      "metadata": {
        "id": "C5XUMV3kyA_N"
      }
    },
    {
      "cell_type": "markdown",
      "source": [
        "\n",
        "# Load the dataset"
      ],
      "metadata": {
        "id": "_wR1O0-wyp0e"
      }
    },
    {
      "cell_type": "code",
      "source": [
        "import numpy as np\n",
        "import pandas as pd\n",
        "\n",
        "# Load the dataset\n",
        "path = '/content/customer_transactions.csv'\n",
        "df = pd.read_csv(path)"
      ],
      "metadata": {
        "id": "DumscmEct8DA"
      },
      "execution_count": 68,
      "outputs": []
    },
    {
      "cell_type": "markdown",
      "source": [
        "#Step 2: Data Cleaning & Handling Missing Values"
      ],
      "metadata": {
        "id": "IUC3Tn2Uy-bn"
      }
    },
    {
      "cell_type": "code",
      "source": [
        "# Check for missing values\n",
        "print(df.isnull().sum())"
      ],
      "metadata": {
        "colab": {
          "base_uri": "https://localhost:8080/"
        },
        "id": "XYrhNjvWvD6Y",
        "outputId": "85323730-723c-4cd9-a60e-02439a770ea6"
      },
      "execution_count": 69,
      "outputs": [
        {
          "output_type": "stream",
          "name": "stdout",
          "text": [
            "customer_id_legacy     0\n",
            "transaction_id         0\n",
            "purchase_amount        0\n",
            "purchase_date          0\n",
            "product_category       0\n",
            "customer_rating       10\n",
            "dtype: int64\n"
          ]
        }
      ]
    },
    {
      "cell_type": "code",
      "source": [
        "# Fill missing customer_rating values with median imputation:\n",
        "df['customer_rating'].fillna(df['customer_rating'].median(), inplace=True)"
      ],
      "metadata": {
        "colab": {
          "base_uri": "https://localhost:8080/"
        },
        "id": "JWuQfYw-vXF9",
        "outputId": "f57d7cca-fa12-4747-e16f-df0b46aae3a3"
      },
      "execution_count": 70,
      "outputs": [
        {
          "output_type": "stream",
          "name": "stderr",
          "text": [
            "<ipython-input-70-7defe411dded>:2: FutureWarning: A value is trying to be set on a copy of a DataFrame or Series through chained assignment using an inplace method.\n",
            "The behavior will change in pandas 3.0. This inplace method will never work because the intermediate object on which we are setting values always behaves as a copy.\n",
            "\n",
            "For example, when doing 'df[col].method(value, inplace=True)', try using 'df.method({col: value}, inplace=True)' or df[col] = df[col].method(value) instead, to perform the operation inplace on the original object.\n",
            "\n",
            "\n",
            "  df['customer_rating'].fillna(df['customer_rating'].median(), inplace=True)\n"
          ]
        }
      ]
    },
    {
      "cell_type": "code",
      "source": [
        "# Check for missing values again\n",
        "print(df.isnull().sum())"
      ],
      "metadata": {
        "colab": {
          "base_uri": "https://localhost:8080/"
        },
        "id": "AVc9unV4vfqJ",
        "outputId": "be9e31d7-6aff-47ac-96db-7d21f1dbf32d"
      },
      "execution_count": 72,
      "outputs": [
        {
          "output_type": "stream",
          "name": "stdout",
          "text": [
            "customer_id_legacy    0\n",
            "transaction_id        0\n",
            "purchase_amount       0\n",
            "purchase_date         0\n",
            "product_category      0\n",
            "customer_rating       0\n",
            "dtype: int64\n"
          ]
        }
      ]
    },
    {
      "cell_type": "markdown",
      "source": [
        "#Step 3: Data Augmentation Strategies"
      ],
      "metadata": {
        "id": "faaqsQhbzQLY"
      }
    },
    {
      "cell_type": "code",
      "source": [
        "# 1. Add random noise to purchase_amount\n",
        "noise = np.random.normal(0, 10, size=len(df))\n",
        "df['purchase_amount'] = df['purchase_amount'] + noise"
      ],
      "metadata": {
        "id": "jzDqa3PPv3Pt"
      },
      "execution_count": 73,
      "outputs": []
    },
    {
      "cell_type": "code",
      "source": [
        "# 2. Apply log transformation to purchase_amount\n",
        "df['log_purchase_amount'] = np.log1p(df['purchase_amount'])"
      ],
      "metadata": {
        "id": "8r7flxWcKnOa"
      },
      "execution_count": 74,
      "outputs": []
    },
    {
      "cell_type": "code",
      "source": [
        "# Create a binary target column (e.g., high vs. low purchase amount)\n",
        "df['target'] = (df['purchase_amount'] > df['purchase_amount'].median()).astype(int)\n",
        "\n",
        "# Check the distribution of the target variable\n",
        "print(df['target'].value_counts())"
      ],
      "metadata": {
        "colab": {
          "base_uri": "https://localhost:8080/"
        },
        "id": "oMjkj5MzwczL",
        "outputId": "58515cc1-8ba6-4a99-c1f5-fca2a62f6d89"
      },
      "execution_count": 75,
      "outputs": [
        {
          "output_type": "stream",
          "name": "stdout",
          "text": [
            "target\n",
            "1    75\n",
            "0    75\n",
            "Name: count, dtype: int64\n"
          ]
        }
      ]
    },
    {
      "cell_type": "markdown",
      "source": [
        "#Synthetic Data Generation"
      ],
      "metadata": {
        "id": "ZNHwaUMD_OQp"
      }
    },
    {
      "cell_type": "code",
      "source": [
        "# 3. Synthetic Data Generation\n",
        "def generate_synthetic_data(df, num_samples=100):\n",
        "    synthetic_data = df.sample(n=num_samples, replace=True)\n",
        "    # Add variations (adjust as needed)\n",
        "    synthetic_data['purchase_amount'] *= np.random.uniform(0.9, 1.1, size=num_samples)\n",
        "    synthetic_data['product_category'] = np.random.choice(df['product_category'].unique(), size=num_samples)\n",
        "    # Ensure 'purchase_date' is datetime before adding timedelta\n",
        "    synthetic_data['purchase_date'] = pd.to_datetime(synthetic_data['purchase_date'], errors='coerce')\n",
        "    synthetic_data['purchase_date'] = synthetic_data['purchase_date'] + pd.to_timedelta(np.random.randint(-3, 3, size=num_samples), unit='days')\n",
        "    synthetic_data['customer_rating'] += np.random.uniform(-0.2, 0.2, size=num_samples)\n",
        "\n",
        "    # Clip customer_rating to be within the original range\n",
        "    synthetic_data['customer_rating'] = synthetic_data['customer_rating'].clip(lower=df['customer_rating'].min(), upper=df['customer_rating'].max())\n",
        "    return synthetic_data\n",
        "\n",
        "synthetic_data = generate_synthetic_data(df)\n",
        "df_augmented = pd.concat([df, synthetic_data], ignore_index=True)"
      ],
      "metadata": {
        "id": "xroYt-Iu3eC9"
      },
      "execution_count": 76,
      "outputs": []
    },
    {
      "cell_type": "markdown",
      "source": [
        "#Feature Engineering"
      ],
      "metadata": {
        "id": "NLohQTwz_gjI"
      }
    },
    {
      "cell_type": "code",
      "source": [
        "# 1. Extract purchase_month\n",
        "df_augmented['purchase_month'] = pd.to_datetime(df_augmented['purchase_date']).dt.month\n",
        "\n",
        "# 2. Calculate avg_purchase_amount per customer\n",
        "avg_purchase = df_augmented.groupby('customer_id_legacy')['purchase_amount'].mean().reset_index()\n",
        "avg_purchase.columns = ['customer_id_legacy', 'avg_purchase_amount']\n",
        "df_augmented = pd.merge(df_augmented, avg_purchase, on='customer_id_legacy', how='left')"
      ],
      "metadata": {
        "id": "dkI3n6KL3ofc"
      },
      "execution_count": 77,
      "outputs": []
    },
    {
      "cell_type": "code",
      "source": [
        "# 3. Calculate days_since_last_purchase\n",
        "df_augmented.sort_values(by=['customer_id_legacy', 'purchase_date'], inplace=True)\n",
        "df_augmented['purchase_date'] = pd.to_datetime(df_augmented['purchase_date'], errors='coerce')\n",
        "df_augmented.dropna(subset=['purchase_date'], inplace=True)\n",
        "df_augmented['days_since_last_purchase'] = df_augmented.groupby('customer_id_legacy')['purchase_date'].diff().dt.days\n",
        "df_augmented['days_since_last_purchase'].fillna(0, inplace=True)"
      ],
      "metadata": {
        "colab": {
          "base_uri": "https://localhost:8080/"
        },
        "id": "0eu6TrSnGVly",
        "outputId": "628a5397-32c6-4501-cacb-46923df6bb21"
      },
      "execution_count": 78,
      "outputs": [
        {
          "output_type": "stream",
          "name": "stderr",
          "text": [
            "<ipython-input-78-f5db9a43e470>:6: FutureWarning: A value is trying to be set on a copy of a DataFrame or Series through chained assignment using an inplace method.\n",
            "The behavior will change in pandas 3.0. This inplace method will never work because the intermediate object on which we are setting values always behaves as a copy.\n",
            "\n",
            "For example, when doing 'df[col].method(value, inplace=True)', try using 'df.method({col: value}, inplace=True)' or df[col] = df[col].method(value) instead, to perform the operation inplace on the original object.\n",
            "\n",
            "\n",
            "  df_augmented['days_since_last_purchase'].fillna(0, inplace=True)\n"
          ]
        }
      ]
    },
    {
      "cell_type": "markdown",
      "source": [
        "#Export the Augmented Dataset"
      ],
      "metadata": {
        "id": "a7NhUQax_VNN"
      }
    },
    {
      "cell_type": "code",
      "source": [
        "# Save the augmented dataset\n",
        "df_augmented.to_csv('customer_transactions_augmented.csv', index=False)"
      ],
      "metadata": {
        "id": "Wkbp2aaq3sdh"
      },
      "execution_count": 79,
      "outputs": []
    }
  ]
}